{
 "cells": [
  {
   "cell_type": "code",
   "execution_count": 3,
   "id": "0ed47f2d",
   "metadata": {},
   "outputs": [],
   "source": [
    "from bs4 import BeautifulSoup"
   ]
  },
  {
   "cell_type": "code",
   "execution_count": 5,
   "id": "ad6e60d1",
   "metadata": {},
   "outputs": [],
   "source": [
    "html=\"\"\"\n",
    "<html>\n",
    "    <head>\n",
    "        <title>Test</title>\n",
    "    </head>\n",
    "    <body>\n",
    "        <h1>This is a test</h1>\n",
    "        <p>This is a paragraph</p>\n",
    "        <div style=\"background-color: #000;color:#fff\">\n",
    "            <h2>Start of division</h2>\n",
    "            <p>Another paragraph inside of div</p>\n",
    "        </div>\n",
    "    </body>\n",
    "</html>\n",
    "\"\"\""
   ]
  },
  {
   "cell_type": "code",
   "execution_count": 6,
   "id": "9fc71ce8",
   "metadata": {},
   "outputs": [],
   "source": [
    "soup = BeautifulSoup(html)"
   ]
  },
  {
   "cell_type": "code",
   "execution_count": 7,
   "id": "ddb65277",
   "metadata": {},
   "outputs": [
    {
     "data": {
      "text/plain": [
       "'Start of division'"
      ]
     },
     "execution_count": 7,
     "metadata": {},
     "output_type": "execute_result"
    }
   ],
   "source": [
    "soup.div.h2.text"
   ]
  },
  {
   "cell_type": "code",
   "execution_count": 8,
   "id": "e16aa3fc",
   "metadata": {},
   "outputs": [],
   "source": [
    "headers = {'Accept':\n",
    "'text/html,application/xhtml+xml,application/xml;q=0.9,image/avif,image/webp,image/apng,*/*;q=0.8,application/signed-exchange;v=b3;q=0.7'\n",
    "        }"
   ]
  },
  {
   "cell_type": "code",
   "execution_count": null,
   "id": "ef3f7247",
   "metadata": {},
   "outputs": [],
   "source": [
    "requests.get(url, headers = headers)"
   ]
  }
 ],
 "metadata": {
  "kernelspec": {
   "display_name": "Python 3 (ipykernel)",
   "language": "python",
   "name": "python3"
  },
  "language_info": {
   "codemirror_mode": {
    "name": "ipython",
    "version": 3
   },
   "file_extension": ".py",
   "mimetype": "text/x-python",
   "name": "python",
   "nbconvert_exporter": "python",
   "pygments_lexer": "ipython3",
   "version": "3.11.3"
  }
 },
 "nbformat": 4,
 "nbformat_minor": 5
}
