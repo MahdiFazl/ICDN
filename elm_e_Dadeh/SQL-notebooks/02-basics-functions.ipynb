{
    "metadata": {
        "kernelspec": {
            "name": "SQL",
            "display_name": "SQL",
            "language": "sql"
        },
        "language_info": {
            "name": "sql",
            "version": ""
        }
    },
    "nbformat_minor": 2,
    "nbformat": 4,
    "cells": [
        {
            "cell_type": "markdown",
            "source": [
                "# Basics: functions"
            ],
            "metadata": {
                "azdata_cell_guid": "62314181-30a9-4852-8178-22dc102438d9"
            },
            "attachments": {}
        },
        {
            "cell_type": "code",
            "source": [
                "-- Current Date and Time\n",
                "\n",
                "SELECT\n",
                "  GETDATE()           AS [GETDATE],\n",
                "  CURRENT_TIMESTAMP   AS [CURRENT_TIMESTAMP],\n",
                "  GETUTCDATE()        AS [GETUTCDATE],\n",
                "  SYSDATETIME()       AS [SYSDATETIME],\n",
                "  SYSUTCDATETIME()    AS [SYSUTCDATETIME],\n",
                "  SYSDATETIMEOFFSET() AS [SYSDATETIMEOFFSET];\n",
                "\n",
                "SELECT\n",
                "  CAST(SYSDATETIME() AS DATE) AS [current_date],\n",
                "  CAST(SYSDATETIME() AS TIME) AS [current_time];"
            ],
            "metadata": {
                "azdata_cell_guid": "2634cd60-2eda-4475-8371-a7151e779044",
                "language": "sql"
            },
            "outputs": [
                {
                    "output_type": "display_data",
                    "data": {
                        "text/html": "(1 row affected)"
                    },
                    "metadata": {}
                },
                {
                    "output_type": "display_data",
                    "data": {
                        "text/html": "(1 row affected)"
                    },
                    "metadata": {}
                },
                {
                    "output_type": "display_data",
                    "data": {
                        "text/html": "Total execution time: 00:00:00.104"
                    },
                    "metadata": {}
                },
                {
                    "output_type": "execute_result",
                    "metadata": {},
                    "execution_count": 1,
                    "data": {
                        "application/vnd.dataresource+json": {
                            "schema": {
                                "fields": [
                                    {
                                        "name": "GETDATE"
                                    },
                                    {
                                        "name": "CURRENT_TIMESTAMP"
                                    },
                                    {
                                        "name": "GETUTCDATE"
                                    },
                                    {
                                        "name": "SYSDATETIME"
                                    },
                                    {
                                        "name": "SYSUTCDATETIME"
                                    },
                                    {
                                        "name": "SYSDATETIMEOFFSET"
                                    }
                                ]
                            },
                            "data": [
                                {
                                    "GETDATE": "1402-05-15 09:06:26.470",
                                    "CURRENT_TIMESTAMP": "1402-05-15 09:06:26.470",
                                    "GETUTCDATE": "1402-05-15 07:06:26.470",
                                    "SYSDATETIME": "1402-05-15 09:06:26.4721546",
                                    "SYSUTCDATETIME": "1402-05-15 07:06:26.4721546",
                                    "SYSDATETIMEOFFSET": "1402-05-15 09:06:26.4721546 +02:00"
                                }
                            ]
                        },
                        "text/html": [
                            "<table>",
                            "<tr><th>GETDATE</th><th>CURRENT_TIMESTAMP</th><th>GETUTCDATE</th><th>SYSDATETIME</th><th>SYSUTCDATETIME</th><th>SYSDATETIMEOFFSET</th></tr>",
                            "<tr><td>1402-05-15 09:06:26.470</td><td>1402-05-15 09:06:26.470</td><td>1402-05-15 07:06:26.470</td><td>1402-05-15 09:06:26.4721546</td><td>1402-05-15 07:06:26.4721546</td><td>1402-05-15 09:06:26.4721546 +02:00</td></tr>",
                            "</table>"
                        ]
                    }
                },
                {
                    "output_type": "execute_result",
                    "metadata": {},
                    "execution_count": 1,
                    "data": {
                        "application/vnd.dataresource+json": {
                            "schema": {
                                "fields": [
                                    {
                                        "name": "current_date"
                                    },
                                    {
                                        "name": "current_time"
                                    }
                                ]
                            },
                            "data": [
                                {
                                    "current_date": "1402-05-15",
                                    "current_time": "09:06:26.4721546"
                                }
                            ]
                        },
                        "text/html": [
                            "<table>",
                            "<tr><th>current_date</th><th>current_time</th></tr>",
                            "<tr><td>1402-05-15</td><td>09:06:26.4721546</td></tr>",
                            "</table>"
                        ]
                    }
                }
            ],
            "execution_count": 1
        },
        {
            "cell_type": "markdown",
            "source": [
                "## Date and Time Parts"
            ],
            "metadata": {
                "language": "sql",
                "azdata_cell_guid": "757d666e-e620-4992-a199-ecf19d646f73"
            },
            "attachments": {}
        },
        {
            "cell_type": "code",
            "source": [
                "-- DATEPART\n",
                "SELECT DATEPART(month, '20120212');"
            ],
            "metadata": {
                "language": "sql",
                "azdata_cell_guid": "aea3fcd1-cc3c-4f0f-a877-3013df50c2ce"
            },
            "outputs": [
                {
                    "output_type": "display_data",
                    "data": {
                        "text/html": "(1 row affected)"
                    },
                    "metadata": {}
                },
                {
                    "output_type": "display_data",
                    "data": {
                        "text/html": "Total execution time: 00:00:00.035"
                    },
                    "metadata": {}
                },
                {
                    "output_type": "execute_result",
                    "metadata": {},
                    "execution_count": 2,
                    "data": {
                        "application/vnd.dataresource+json": {
                            "schema": {
                                "fields": [
                                    {
                                        "name": "(No column name)"
                                    }
                                ]
                            },
                            "data": [
                                {
                                    "(No column name)": "2"
                                }
                            ]
                        },
                        "text/html": [
                            "<table>",
                            "<tr><th>(No column name)</th></tr>",
                            "<tr><td>2</td></tr>",
                            "</table>"
                        ]
                    }
                }
            ],
            "execution_count": 2
        },
        {
            "cell_type": "code",
            "source": [
                "-- DAY, MONTH, YEAR\n",
                "SELECT\n",
                "  DAY('20120212') AS theday,\n",
                "  MONTH('20120212') AS themonth,\n",
                "  YEAR('20120212') AS theyear;"
            ],
            "metadata": {
                "language": "sql",
                "azdata_cell_guid": "ac1ef779-b908-4fdf-8a3b-5f2d458a5300"
            },
            "outputs": [
                {
                    "output_type": "display_data",
                    "data": {
                        "text/html": "(1 row affected)"
                    },
                    "metadata": {}
                },
                {
                    "output_type": "display_data",
                    "data": {
                        "text/html": "Total execution time: 00:00:00.071"
                    },
                    "metadata": {}
                },
                {
                    "output_type": "execute_result",
                    "metadata": {},
                    "execution_count": 3,
                    "data": {
                        "application/vnd.dataresource+json": {
                            "schema": {
                                "fields": [
                                    {
                                        "name": "theday"
                                    },
                                    {
                                        "name": "themonth"
                                    },
                                    {
                                        "name": "theyear"
                                    }
                                ]
                            },
                            "data": [
                                {
                                    "theday": "12",
                                    "themonth": "2",
                                    "theyear": "2012"
                                }
                            ]
                        },
                        "text/html": [
                            "<table>",
                            "<tr><th>theday</th><th>themonth</th><th>theyear</th></tr>",
                            "<tr><td>12</td><td>2</td><td>2012</td></tr>",
                            "</table>"
                        ]
                    }
                }
            ],
            "execution_count": 3
        },
        {
            "cell_type": "code",
            "source": [
                "-- DATENAME\n",
                "SELECT DATENAME(month, '20090212');"
            ],
            "metadata": {
                "language": "sql",
                "azdata_cell_guid": "cc38aa4f-d089-48b0-bc88-952c3d5a893d",
                "tags": []
            },
            "outputs": [
                {
                    "output_type": "display_data",
                    "data": {
                        "text/html": "(1 row affected)"
                    },
                    "metadata": {}
                },
                {
                    "output_type": "display_data",
                    "data": {
                        "text/html": "Total execution time: 00:00:00.072"
                    },
                    "metadata": {}
                },
                {
                    "output_type": "execute_result",
                    "metadata": {},
                    "execution_count": 4,
                    "data": {
                        "application/vnd.dataresource+json": {
                            "schema": {
                                "fields": [
                                    {
                                        "name": "(No column name)"
                                    }
                                ]
                            },
                            "data": [
                                {
                                    "(No column name)": "February"
                                }
                            ]
                        },
                        "text/html": [
                            "<table>",
                            "<tr><th>(No column name)</th></tr>",
                            "<tr><td>February</td></tr>",
                            "</table>"
                        ]
                    }
                }
            ],
            "execution_count": 4
        },
        {
            "cell_type": "code",
            "source": [
                "-- fromparts\n",
                "SELECT\n",
                "  DATEFROMPARTS(2012, 02, 12),\n",
                "  DATETIME2FROMPARTS(2012, 02, 12, 13, 30, 5, 1, 7),\n",
                "  DATETIMEFROMPARTS(2012, 02, 12, 13, 30, 5, 997),\n",
                "  DATETIMEOFFSETFROMPARTS(2012, 02, 12, 13, 30, 5, 1, -8, 0, 7),\n",
                "  SMALLDATETIMEFROMPARTS(2012, 02, 12, 13, 30),\n",
                "  TIMEFROMPARTS(13, 30, 5, 1, 7);"
            ],
            "metadata": {
                "language": "sql",
                "azdata_cell_guid": "f0200159-7583-46bb-9f48-59389178b721"
            },
            "outputs": [
                {
                    "output_type": "display_data",
                    "data": {
                        "text/html": "(1 row affected)"
                    },
                    "metadata": {}
                },
                {
                    "output_type": "display_data",
                    "data": {
                        "text/html": "Total execution time: 00:00:00.090"
                    },
                    "metadata": {}
                },
                {
                    "output_type": "execute_result",
                    "metadata": {},
                    "execution_count": 5,
                    "data": {
                        "application/vnd.dataresource+json": {
                            "schema": {
                                "fields": [
                                    {
                                        "name": "(No column name)"
                                    },
                                    {
                                        "name": "(No column name)"
                                    },
                                    {
                                        "name": "(No column name)"
                                    },
                                    {
                                        "name": "(No column name)"
                                    },
                                    {
                                        "name": "(No column name)"
                                    },
                                    {
                                        "name": "(No column name)"
                                    }
                                ]
                            },
                            "data": [
                                {
                                    "(No column name)": "13:30:05.0000001"
                                }
                            ]
                        },
                        "text/html": [
                            "<table>",
                            "<tr><th>(No column name)</th><th>(No column name)</th><th>(No column name)</th><th>(No column name)</th><th>(No column name)</th><th>(No column name)</th></tr>",
                            "<tr><td>1390-11-23</td><td>1390-11-23 13:30:05.0000001</td><td>1390-11-23 13:30:05.997</td><td>1390-11-23 13:30:05.0000001 -08:00</td><td>1390-11-23 13:30:00</td><td>13:30:05.0000001</td></tr>",
                            "</table>"
                        ]
                    }
                }
            ],
            "execution_count": 5
        },
        {
            "cell_type": "code",
            "source": [
                "-- EOMONTH\n",
                "SELECT EOMONTH(SYSDATETIME()); -- Returns Server DateTime"
            ],
            "metadata": {
                "language": "sql",
                "azdata_cell_guid": "836dfb8a-9166-43a3-bd0a-363572078e21"
            },
            "outputs": [
                {
                    "output_type": "display_data",
                    "data": {
                        "text/html": "(1 row affected)"
                    },
                    "metadata": {}
                },
                {
                    "output_type": "display_data",
                    "data": {
                        "text/html": "Total execution time: 00:00:00.081"
                    },
                    "metadata": {}
                },
                {
                    "output_type": "execute_result",
                    "metadata": {},
                    "execution_count": 6,
                    "data": {
                        "application/vnd.dataresource+json": {
                            "schema": {
                                "fields": [
                                    {
                                        "name": "(No column name)"
                                    }
                                ]
                            },
                            "data": [
                                {
                                    "(No column name)": "1402-06-09"
                                }
                            ]
                        },
                        "text/html": [
                            "<table>",
                            "<tr><th>(No column name)</th></tr>",
                            "<tr><td>1402-06-09</td></tr>",
                            "</table>"
                        ]
                    }
                }
            ],
            "execution_count": 6
        },
        {
            "cell_type": "markdown",
            "source": [
                "## Add and Diff Functions"
            ],
            "metadata": {
                "language": "sql",
                "azdata_cell_guid": "48fabbd0-57b1-47b9-be2a-ce4cbe2af36f"
            },
            "attachments": {}
        },
        {
            "cell_type": "code",
            "source": [
                "-- DATEADD\n",
                "SELECT DATEADD(year, 1, '20120212');"
            ],
            "metadata": {
                "language": "sql",
                "azdata_cell_guid": "820c2cbe-4f2d-4b01-b322-8885463ded87"
            },
            "outputs": [
                {
                    "output_type": "display_data",
                    "data": {
                        "text/html": "(1 row affected)"
                    },
                    "metadata": {}
                },
                {
                    "output_type": "display_data",
                    "data": {
                        "text/html": "Total execution time: 00:00:00.072"
                    },
                    "metadata": {}
                },
                {
                    "output_type": "execute_result",
                    "metadata": {},
                    "execution_count": 7,
                    "data": {
                        "application/vnd.dataresource+json": {
                            "schema": {
                                "fields": [
                                    {
                                        "name": "(No column name)"
                                    }
                                ]
                            },
                            "data": [
                                {
                                    "(No column name)": "1391-11-24 00:00:00.000"
                                }
                            ]
                        },
                        "text/html": [
                            "<table>",
                            "<tr><th>(No column name)</th></tr>",
                            "<tr><td>1391-11-24 00:00:00.000</td></tr>",
                            "</table>"
                        ]
                    }
                }
            ],
            "execution_count": 7
        },
        {
            "cell_type": "code",
            "source": [
                "-- DATEDIFF\n",
                "SELECT DATEDIFF(day, '20110212', '20120212');"
            ],
            "metadata": {
                "language": "sql",
                "azdata_cell_guid": "a6aeb58c-333c-41c8-89a9-178301279039"
            },
            "outputs": [
                {
                    "output_type": "display_data",
                    "data": {
                        "text/html": "(1 row affected)"
                    },
                    "metadata": {}
                },
                {
                    "output_type": "display_data",
                    "data": {
                        "text/html": "Total execution time: 00:00:00.065"
                    },
                    "metadata": {}
                },
                {
                    "output_type": "execute_result",
                    "metadata": {},
                    "execution_count": 8,
                    "data": {
                        "application/vnd.dataresource+json": {
                            "schema": {
                                "fields": [
                                    {
                                        "name": "(No column name)"
                                    }
                                ]
                            },
                            "data": [
                                {
                                    "(No column name)": "365"
                                }
                            ]
                        },
                        "text/html": [
                            "<table>",
                            "<tr><th>(No column name)</th></tr>",
                            "<tr><td>365</td></tr>",
                            "</table>"
                        ]
                    }
                }
            ],
            "execution_count": 8
        },
        {
            "cell_type": "markdown",
            "source": [
                "## Character Functions"
            ],
            "metadata": {
                "language": "sql",
                "azdata_cell_guid": "1f91af03-6810-4f44-9e38-91ccc7246bba"
            },
            "attachments": {}
        },
        {
            "cell_type": "code",
            "source": [
                "USE TSQL2012;"
            ],
            "metadata": {
                "language": "sql",
                "azdata_cell_guid": "52cfb0d0-ff6b-4b40-b1c8-7b4c0cb0ea89"
            },
            "outputs": [
                {
                    "output_type": "display_data",
                    "data": {
                        "text/html": "Commands completed successfully."
                    },
                    "metadata": {}
                },
                {
                    "output_type": "display_data",
                    "data": {
                        "text/html": "Total execution time: 00:00:00.089"
                    },
                    "metadata": {}
                }
            ],
            "execution_count": 9
        },
        {
            "cell_type": "code",
            "source": [
                "-- Concatenation\n",
                "-- N before '...' means Unicode string\n",
                "-- TODO: Collations\n",
                "SELECT empid, country, region, city,\n",
                "  country + N',' + region + N',' + city AS location\n",
                "FROM HR.Employees;"
            ],
            "metadata": {
                "language": "sql",
                "azdata_cell_guid": "bf5d5c0c-814e-4681-9023-b2f49bcec11d"
            },
            "outputs": [
                {
                    "output_type": "display_data",
                    "data": {
                        "text/html": "(9 rows affected)"
                    },
                    "metadata": {}
                },
                {
                    "output_type": "display_data",
                    "data": {
                        "text/html": "Total execution time: 00:00:00.058"
                    },
                    "metadata": {}
                },
                {
                    "output_type": "execute_result",
                    "metadata": {},
                    "execution_count": 10,
                    "data": {
                        "application/vnd.dataresource+json": {
                            "schema": {
                                "fields": [
                                    {
                                        "name": "empid"
                                    },
                                    {
                                        "name": "country"
                                    },
                                    {
                                        "name": "region"
                                    },
                                    {
                                        "name": "city"
                                    },
                                    {
                                        "name": "location"
                                    }
                                ]
                            },
                            "data": [
                                {
                                    "empid": "1",
                                    "country": "USA",
                                    "region": "WA",
                                    "city": "Seattle",
                                    "location": "USA,WA,Seattle"
                                },
                                {
                                    "empid": "2",
                                    "country": "USA",
                                    "region": "WA",
                                    "city": "Tacoma",
                                    "location": "USA,WA,Tacoma"
                                },
                                {
                                    "empid": "3",
                                    "country": "USA",
                                    "region": "WA",
                                    "city": "Kirkland",
                                    "location": "USA,WA,Kirkland"
                                },
                                {
                                    "empid": "4",
                                    "country": "USA",
                                    "region": "WA",
                                    "city": "Redmond",
                                    "location": "USA,WA,Redmond"
                                },
                                {
                                    "empid": "5",
                                    "country": "UK",
                                    "region": "NULL",
                                    "city": "London",
                                    "location": "NULL"
                                },
                                {
                                    "empid": "6",
                                    "country": "UK",
                                    "region": "NULL",
                                    "city": "London",
                                    "location": "NULL"
                                },
                                {
                                    "empid": "7",
                                    "country": "UK",
                                    "region": "NULL",
                                    "city": "London",
                                    "location": "NULL"
                                },
                                {
                                    "empid": "8",
                                    "country": "USA",
                                    "region": "WA",
                                    "city": "Seattle",
                                    "location": "USA,WA,Seattle"
                                },
                                {
                                    "empid": "9",
                                    "country": "UK",
                                    "region": "NULL",
                                    "city": "London",
                                    "location": "NULL"
                                }
                            ]
                        },
                        "text/html": [
                            "<table>",
                            "<tr><th>empid</th><th>country</th><th>region</th><th>city</th><th>location</th></tr>",
                            "<tr><td>1</td><td>USA</td><td>WA</td><td>Seattle</td><td>USA,WA,Seattle</td></tr>",
                            "<tr><td>2</td><td>USA</td><td>WA</td><td>Tacoma</td><td>USA,WA,Tacoma</td></tr>",
                            "<tr><td>3</td><td>USA</td><td>WA</td><td>Kirkland</td><td>USA,WA,Kirkland</td></tr>",
                            "<tr><td>4</td><td>USA</td><td>WA</td><td>Redmond</td><td>USA,WA,Redmond</td></tr>",
                            "<tr><td>5</td><td>UK</td><td>NULL</td><td>London</td><td>NULL</td></tr>",
                            "<tr><td>6</td><td>UK</td><td>NULL</td><td>London</td><td>NULL</td></tr>",
                            "<tr><td>7</td><td>UK</td><td>NULL</td><td>London</td><td>NULL</td></tr>",
                            "<tr><td>8</td><td>USA</td><td>WA</td><td>Seattle</td><td>USA,WA,Seattle</td></tr>",
                            "<tr><td>9</td><td>UK</td><td>NULL</td><td>London</td><td>NULL</td></tr>",
                            "</table>"
                        ]
                    }
                }
            ],
            "execution_count": 10
        },
        {
            "cell_type": "code",
            "source": [
                "-- convert NULL to empty string\n",
                "SELECT empid, country, region, city,\n",
                "  country + COALESCE( N',' + region, N'') + N',' + city AS location\n",
                "FROM HR.Employees;"
            ],
            "metadata": {
                "language": "sql",
                "azdata_cell_guid": "0fda61a8-25f6-4ea5-8d60-5dda7153c198"
            },
            "outputs": [
                {
                    "output_type": "display_data",
                    "data": {
                        "text/html": "(9 rows affected)"
                    },
                    "metadata": {}
                },
                {
                    "output_type": "display_data",
                    "data": {
                        "text/html": "Total execution time: 00:00:00.078"
                    },
                    "metadata": {}
                },
                {
                    "output_type": "execute_result",
                    "metadata": {},
                    "execution_count": 11,
                    "data": {
                        "application/vnd.dataresource+json": {
                            "schema": {
                                "fields": [
                                    {
                                        "name": "empid"
                                    },
                                    {
                                        "name": "country"
                                    },
                                    {
                                        "name": "region"
                                    },
                                    {
                                        "name": "city"
                                    },
                                    {
                                        "name": "location"
                                    }
                                ]
                            },
                            "data": [
                                {
                                    "empid": "1",
                                    "country": "USA",
                                    "region": "WA",
                                    "city": "Seattle",
                                    "location": "USA,WA,Seattle"
                                },
                                {
                                    "empid": "2",
                                    "country": "USA",
                                    "region": "WA",
                                    "city": "Tacoma",
                                    "location": "USA,WA,Tacoma"
                                },
                                {
                                    "empid": "3",
                                    "country": "USA",
                                    "region": "WA",
                                    "city": "Kirkland",
                                    "location": "USA,WA,Kirkland"
                                },
                                {
                                    "empid": "4",
                                    "country": "USA",
                                    "region": "WA",
                                    "city": "Redmond",
                                    "location": "USA,WA,Redmond"
                                },
                                {
                                    "empid": "5",
                                    "country": "UK",
                                    "region": "NULL",
                                    "city": "London",
                                    "location": "UK,London"
                                },
                                {
                                    "empid": "6",
                                    "country": "UK",
                                    "region": "NULL",
                                    "city": "London",
                                    "location": "UK,London"
                                },
                                {
                                    "empid": "7",
                                    "country": "UK",
                                    "region": "NULL",
                                    "city": "London",
                                    "location": "UK,London"
                                },
                                {
                                    "empid": "8",
                                    "country": "USA",
                                    "region": "WA",
                                    "city": "Seattle",
                                    "location": "USA,WA,Seattle"
                                },
                                {
                                    "empid": "9",
                                    "country": "UK",
                                    "region": "NULL",
                                    "city": "London",
                                    "location": "UK,London"
                                }
                            ]
                        },
                        "text/html": [
                            "<table>",
                            "<tr><th>empid</th><th>country</th><th>region</th><th>city</th><th>location</th></tr>",
                            "<tr><td>1</td><td>USA</td><td>WA</td><td>Seattle</td><td>USA,WA,Seattle</td></tr>",
                            "<tr><td>2</td><td>USA</td><td>WA</td><td>Tacoma</td><td>USA,WA,Tacoma</td></tr>",
                            "<tr><td>3</td><td>USA</td><td>WA</td><td>Kirkland</td><td>USA,WA,Kirkland</td></tr>",
                            "<tr><td>4</td><td>USA</td><td>WA</td><td>Redmond</td><td>USA,WA,Redmond</td></tr>",
                            "<tr><td>5</td><td>UK</td><td>NULL</td><td>London</td><td>UK,London</td></tr>",
                            "<tr><td>6</td><td>UK</td><td>NULL</td><td>London</td><td>UK,London</td></tr>",
                            "<tr><td>7</td><td>UK</td><td>NULL</td><td>London</td><td>UK,London</td></tr>",
                            "<tr><td>8</td><td>USA</td><td>WA</td><td>Seattle</td><td>USA,WA,Seattle</td></tr>",
                            "<tr><td>9</td><td>UK</td><td>NULL</td><td>London</td><td>UK,London</td></tr>",
                            "</table>"
                        ]
                    }
                }
            ],
            "execution_count": 11
        },
        {
            "cell_type": "code",
            "source": [
                "-- using CONCAT\n",
                "SELECT empid, country, region, city,\n",
                "  CONCAT(country, N',' + region, N',' + city) AS location\n",
                "FROM HR.Employees;"
            ],
            "metadata": {
                "language": "sql",
                "azdata_cell_guid": "bb427324-d025-46cb-96f6-72fa35258c45"
            },
            "outputs": [
                {
                    "output_type": "display_data",
                    "data": {
                        "text/html": "(9 rows affected)"
                    },
                    "metadata": {}
                },
                {
                    "output_type": "display_data",
                    "data": {
                        "text/html": "Total execution time: 00:00:00.064"
                    },
                    "metadata": {}
                },
                {
                    "output_type": "execute_result",
                    "metadata": {},
                    "execution_count": 12,
                    "data": {
                        "application/vnd.dataresource+json": {
                            "schema": {
                                "fields": [
                                    {
                                        "name": "empid"
                                    },
                                    {
                                        "name": "country"
                                    },
                                    {
                                        "name": "region"
                                    },
                                    {
                                        "name": "city"
                                    },
                                    {
                                        "name": "location"
                                    }
                                ]
                            },
                            "data": [
                                {
                                    "empid": "1",
                                    "country": "USA",
                                    "region": "WA",
                                    "city": "Seattle",
                                    "location": "USA,WA,Seattle"
                                },
                                {
                                    "empid": "2",
                                    "country": "USA",
                                    "region": "WA",
                                    "city": "Tacoma",
                                    "location": "USA,WA,Tacoma"
                                },
                                {
                                    "empid": "3",
                                    "country": "USA",
                                    "region": "WA",
                                    "city": "Kirkland",
                                    "location": "USA,WA,Kirkland"
                                },
                                {
                                    "empid": "4",
                                    "country": "USA",
                                    "region": "WA",
                                    "city": "Redmond",
                                    "location": "USA,WA,Redmond"
                                },
                                {
                                    "empid": "5",
                                    "country": "UK",
                                    "region": "NULL",
                                    "city": "London",
                                    "location": "UK,London"
                                },
                                {
                                    "empid": "6",
                                    "country": "UK",
                                    "region": "NULL",
                                    "city": "London",
                                    "location": "UK,London"
                                },
                                {
                                    "empid": "7",
                                    "country": "UK",
                                    "region": "NULL",
                                    "city": "London",
                                    "location": "UK,London"
                                },
                                {
                                    "empid": "8",
                                    "country": "USA",
                                    "region": "WA",
                                    "city": "Seattle",
                                    "location": "USA,WA,Seattle"
                                },
                                {
                                    "empid": "9",
                                    "country": "UK",
                                    "region": "NULL",
                                    "city": "London",
                                    "location": "UK,London"
                                }
                            ]
                        },
                        "text/html": [
                            "<table>",
                            "<tr><th>empid</th><th>country</th><th>region</th><th>city</th><th>location</th></tr>",
                            "<tr><td>1</td><td>USA</td><td>WA</td><td>Seattle</td><td>USA,WA,Seattle</td></tr>",
                            "<tr><td>2</td><td>USA</td><td>WA</td><td>Tacoma</td><td>USA,WA,Tacoma</td></tr>",
                            "<tr><td>3</td><td>USA</td><td>WA</td><td>Kirkland</td><td>USA,WA,Kirkland</td></tr>",
                            "<tr><td>4</td><td>USA</td><td>WA</td><td>Redmond</td><td>USA,WA,Redmond</td></tr>",
                            "<tr><td>5</td><td>UK</td><td>NULL</td><td>London</td><td>UK,London</td></tr>",
                            "<tr><td>6</td><td>UK</td><td>NULL</td><td>London</td><td>UK,London</td></tr>",
                            "<tr><td>7</td><td>UK</td><td>NULL</td><td>London</td><td>UK,London</td></tr>",
                            "<tr><td>8</td><td>USA</td><td>WA</td><td>Seattle</td><td>USA,WA,Seattle</td></tr>",
                            "<tr><td>9</td><td>UK</td><td>NULL</td><td>London</td><td>UK,London</td></tr>",
                            "</table>"
                        ]
                    }
                }
            ],
            "execution_count": 12
        },
        {
            "cell_type": "code",
            "source": [
                "-- Substring Extraction and Position\n",
                "\n",
                "SELECT SUBSTRING('abcde', 1, 3); -- 'abc'\n",
                "\n",
                "SELECT LEFT('abcde', 3); -- 'abc'\n",
                "\n",
                "SELECT RIGHT('abcde', 3); -- 'cde'\n",
                "\n",
                "SELECT CHARINDEX(' ','Itzik Ben-Gan'); -- 6\n",
                "\n",
                "SELECT PATINDEX('%[0-9]%', 'abcd123efgh'); -- 5"
            ],
            "metadata": {
                "language": "sql",
                "azdata_cell_guid": "e73ed0c0-e475-4352-84f5-fd343d40e0d5"
            },
            "outputs": [
                {
                    "output_type": "display_data",
                    "data": {
                        "text/html": "(1 row affected)"
                    },
                    "metadata": {}
                },
                {
                    "output_type": "display_data",
                    "data": {
                        "text/html": "(1 row affected)"
                    },
                    "metadata": {}
                },
                {
                    "output_type": "display_data",
                    "data": {
                        "text/html": "(1 row affected)"
                    },
                    "metadata": {}
                },
                {
                    "output_type": "display_data",
                    "data": {
                        "text/html": "(1 row affected)"
                    },
                    "metadata": {}
                },
                {
                    "output_type": "display_data",
                    "data": {
                        "text/html": "(1 row affected)"
                    },
                    "metadata": {}
                },
                {
                    "output_type": "display_data",
                    "data": {
                        "text/html": "Total execution time: 00:00:00.092"
                    },
                    "metadata": {}
                },
                {
                    "output_type": "execute_result",
                    "metadata": {},
                    "execution_count": 13,
                    "data": {
                        "application/vnd.dataresource+json": {
                            "schema": {
                                "fields": [
                                    {
                                        "name": "(No column name)"
                                    }
                                ]
                            },
                            "data": [
                                {
                                    "(No column name)": "abc"
                                }
                            ]
                        },
                        "text/html": [
                            "<table>",
                            "<tr><th>(No column name)</th></tr>",
                            "<tr><td>abc</td></tr>",
                            "</table>"
                        ]
                    }
                },
                {
                    "output_type": "execute_result",
                    "metadata": {},
                    "execution_count": 13,
                    "data": {
                        "application/vnd.dataresource+json": {
                            "schema": {
                                "fields": [
                                    {
                                        "name": "(No column name)"
                                    }
                                ]
                            },
                            "data": [
                                {
                                    "(No column name)": "abc"
                                }
                            ]
                        },
                        "text/html": [
                            "<table>",
                            "<tr><th>(No column name)</th></tr>",
                            "<tr><td>abc</td></tr>",
                            "</table>"
                        ]
                    }
                },
                {
                    "output_type": "execute_result",
                    "metadata": {},
                    "execution_count": 13,
                    "data": {
                        "application/vnd.dataresource+json": {
                            "schema": {
                                "fields": [
                                    {
                                        "name": "(No column name)"
                                    }
                                ]
                            },
                            "data": [
                                {
                                    "(No column name)": "cde"
                                }
                            ]
                        },
                        "text/html": [
                            "<table>",
                            "<tr><th>(No column name)</th></tr>",
                            "<tr><td>cde</td></tr>",
                            "</table>"
                        ]
                    }
                },
                {
                    "output_type": "execute_result",
                    "metadata": {},
                    "execution_count": 13,
                    "data": {
                        "application/vnd.dataresource+json": {
                            "schema": {
                                "fields": [
                                    {
                                        "name": "(No column name)"
                                    }
                                ]
                            },
                            "data": [
                                {
                                    "(No column name)": "6"
                                }
                            ]
                        },
                        "text/html": [
                            "<table>",
                            "<tr><th>(No column name)</th></tr>",
                            "<tr><td>6</td></tr>",
                            "</table>"
                        ]
                    }
                },
                {
                    "output_type": "execute_result",
                    "metadata": {},
                    "execution_count": 13,
                    "data": {
                        "application/vnd.dataresource+json": {
                            "schema": {
                                "fields": [
                                    {
                                        "name": "(No column name)"
                                    }
                                ]
                            },
                            "data": [
                                {
                                    "(No column name)": "5"
                                }
                            ]
                        },
                        "text/html": [
                            "<table>",
                            "<tr><th>(No column name)</th></tr>",
                            "<tr><td>5</td></tr>",
                            "</table>"
                        ]
                    }
                }
            ],
            "execution_count": 13
        },
        {
            "cell_type": "code",
            "source": [
                "-- String Length\n",
                "\n",
                "SELECT LEN(N'xyz'); -- 3\n",
                "\n",
                "SELECT DATALENGTH(N'xyz'); -- 6"
            ],
            "metadata": {
                "language": "sql",
                "azdata_cell_guid": "d5f18832-96ca-48a4-ae4b-e1f655a573ee"
            },
            "outputs": [
                {
                    "output_type": "display_data",
                    "data": {
                        "text/html": "(1 row affected)"
                    },
                    "metadata": {}
                },
                {
                    "output_type": "display_data",
                    "data": {
                        "text/html": "(1 row affected)"
                    },
                    "metadata": {}
                },
                {
                    "output_type": "display_data",
                    "data": {
                        "text/html": "Total execution time: 00:00:00.077"
                    },
                    "metadata": {}
                },
                {
                    "output_type": "execute_result",
                    "metadata": {},
                    "execution_count": 14,
                    "data": {
                        "application/vnd.dataresource+json": {
                            "schema": {
                                "fields": [
                                    {
                                        "name": "(No column name)"
                                    }
                                ]
                            },
                            "data": [
                                {
                                    "(No column name)": "3"
                                }
                            ]
                        },
                        "text/html": [
                            "<table>",
                            "<tr><th>(No column name)</th></tr>",
                            "<tr><td>3</td></tr>",
                            "</table>"
                        ]
                    }
                },
                {
                    "output_type": "execute_result",
                    "metadata": {},
                    "execution_count": 14,
                    "data": {
                        "application/vnd.dataresource+json": {
                            "schema": {
                                "fields": [
                                    {
                                        "name": "(No column name)"
                                    }
                                ]
                            },
                            "data": [
                                {
                                    "(No column name)": "6"
                                }
                            ]
                        },
                        "text/html": [
                            "<table>",
                            "<tr><th>(No column name)</th></tr>",
                            "<tr><td>6</td></tr>",
                            "</table>"
                        ]
                    }
                }
            ],
            "execution_count": 14
        },
        {
            "cell_type": "code",
            "source": [
                "-- String Alteration\n",
                "\n",
                "SELECT REPLACE('.1.2.3.', '.', '/'); -- '/1/2/3/'\n",
                "\n",
                "SELECT REPLICATE('0', 10); -- '0000000000'\n",
                "\n",
                "SELECT STUFF(',x,y,z', 1, 1, ''); -- 'x,y,z'"
            ],
            "metadata": {
                "language": "sql",
                "azdata_cell_guid": "339a442a-220e-4701-a106-7d4681f19e16"
            },
            "outputs": [],
            "execution_count": null
        },
        {
            "cell_type": "code",
            "source": [
                "-- String Formating=\n",
                "\n",
                "SELECT UPPER('aBcD'); -- 'ABCD'\n",
                "\n",
                "SELECT LOWER('aBcD'); -- 'abcd'\n",
                "\n",
                "SELECT RTRIM(LTRIM('   xyz   ')); -- 'xyz'\n",
                "\n",
                "SELECT FORMAT(1759, '000000000'); -- '0000001759'\n",
                ""
            ],
            "metadata": {
                "language": "sql",
                "azdata_cell_guid": "6ab60e9f-f32e-4687-b17b-ebd381745a4a"
            },
            "outputs": [],
            "execution_count": null
        },
        {
            "cell_type": "markdown",
            "source": [
                "## CASE Expression and Related Functions"
            ],
            "metadata": {
                "language": "sql",
                "azdata_cell_guid": "c62731fc-fd0f-421e-a80b-5f9d8f7da6cd"
            },
            "attachments": {}
        },
        {
            "cell_type": "code",
            "source": [
                "-- simple CASE expression\n",
                "\n",
                "SELECT productid, productname, unitprice, discontinued,\n",
                "  CASE discontinued\n",
                "    WHEN 0 THEN 'No'\n",
                "    WHEN 1 THEN 'Yes'\n",
                "    ELSE 'Unknown'\n",
                "  END AS discontinued_desc\n",
                "FROM Production.Products;"
            ],
            "metadata": {
                "language": "sql",
                "azdata_cell_guid": "fca19b09-c68d-45d7-8f88-1dd1d5b8dad9"
            },
            "outputs": [
                {
                    "output_type": "display_data",
                    "data": {
                        "text/html": "(77 rows affected)"
                    },
                    "metadata": {}
                },
                {
                    "output_type": "display_data",
                    "data": {
                        "text/html": "Total execution time: 00:00:00.071"
                    },
                    "metadata": {}
                },
                {
                    "output_type": "execute_result",
                    "metadata": {},
                    "execution_count": 15,
                    "data": {
                        "application/vnd.dataresource+json": {
                            "schema": {
                                "fields": [
                                    {
                                        "name": "productid"
                                    },
                                    {
                                        "name": "productname"
                                    },
                                    {
                                        "name": "unitprice"
                                    },
                                    {
                                        "name": "discontinued"
                                    },
                                    {
                                        "name": "discontinued_desc"
                                    }
                                ]
                            },
                            "data": [
                                {
                                    "productid": "1",
                                    "productname": "Product HHYDP",
                                    "unitprice": "18.00",
                                    "discontinued": "0",
                                    "discontinued_desc": "No"
                                },
                                {
                                    "productid": "2",
                                    "productname": "Product RECZE",
                                    "unitprice": "19.00",
                                    "discontinued": "0",
                                    "discontinued_desc": "No"
                                },
                                {
                                    "productid": "3",
                                    "productname": "Product IMEHJ",
                                    "unitprice": "10.00",
                                    "discontinued": "0",
                                    "discontinued_desc": "No"
                                },
                                {
                                    "productid": "4",
                                    "productname": "Product KSBRM",
                                    "unitprice": "22.00",
                                    "discontinued": "0",
                                    "discontinued_desc": "No"
                                },
                                {
                                    "productid": "5",
                                    "productname": "Product EPEIM",
                                    "unitprice": "21.35",
                                    "discontinued": "1",
                                    "discontinued_desc": "Yes"
                                },
                                {
                                    "productid": "6",
                                    "productname": "Product VAIIV",
                                    "unitprice": "25.00",
                                    "discontinued": "0",
                                    "discontinued_desc": "No"
                                },
                                {
                                    "productid": "7",
                                    "productname": "Product HMLNI",
                                    "unitprice": "30.00",
                                    "discontinued": "0",
                                    "discontinued_desc": "No"
                                },
                                {
                                    "productid": "8",
                                    "productname": "Product WVJFP",
                                    "unitprice": "40.00",
                                    "discontinued": "0",
                                    "discontinued_desc": "No"
                                },
                                {
                                    "productid": "9",
                                    "productname": "Product AOZBW",
                                    "unitprice": "97.00",
                                    "discontinued": "1",
                                    "discontinued_desc": "Yes"
                                },
                                {
                                    "productid": "10",
                                    "productname": "Product YHXGE",
                                    "unitprice": "31.00",
                                    "discontinued": "0",
                                    "discontinued_desc": "No"
                                },
                                {
                                    "productid": "11",
                                    "productname": "Product QMVUN",
                                    "unitprice": "21.00",
                                    "discontinued": "0",
                                    "discontinued_desc": "No"
                                },
                                {
                                    "productid": "12",
                                    "productname": "Product OSFNS",
                                    "unitprice": "38.00",
                                    "discontinued": "0",
                                    "discontinued_desc": "No"
                                },
                                {
                                    "productid": "13",
                                    "productname": "Product POXFU",
                                    "unitprice": "6.00",
                                    "discontinued": "0",
                                    "discontinued_desc": "No"
                                },
                                {
                                    "productid": "14",
                                    "productname": "Product PWCJB",
                                    "unitprice": "23.25",
                                    "discontinued": "0",
                                    "discontinued_desc": "No"
                                },
                                {
                                    "productid": "15",
                                    "productname": "Product KSZOI",
                                    "unitprice": "15.50",
                                    "discontinued": "0",
                                    "discontinued_desc": "No"
                                },
                                {
                                    "productid": "16",
                                    "productname": "Product PAFRH",
                                    "unitprice": "17.45",
                                    "discontinued": "0",
                                    "discontinued_desc": "No"
                                },
                                {
                                    "productid": "17",
                                    "productname": "Product BLCAX",
                                    "unitprice": "39.00",
                                    "discontinued": "1",
                                    "discontinued_desc": "Yes"
                                },
                                {
                                    "productid": "18",
                                    "productname": "Product CKEDC",
                                    "unitprice": "62.50",
                                    "discontinued": "0",
                                    "discontinued_desc": "No"
                                },
                                {
                                    "productid": "19",
                                    "productname": "Product XKXDO",
                                    "unitprice": "9.20",
                                    "discontinued": "0",
                                    "discontinued_desc": "No"
                                },
                                {
                                    "productid": "20",
                                    "productname": "Product QHFFP",
                                    "unitprice": "81.00",
                                    "discontinued": "0",
                                    "discontinued_desc": "No"
                                },
                                {
                                    "productid": "21",
                                    "productname": "Product VJZZH",
                                    "unitprice": "10.00",
                                    "discontinued": "0",
                                    "discontinued_desc": "No"
                                },
                                {
                                    "productid": "22",
                                    "productname": "Product CPHFY",
                                    "unitprice": "21.00",
                                    "discontinued": "0",
                                    "discontinued_desc": "No"
                                },
                                {
                                    "productid": "23",
                                    "productname": "Product JLUDZ",
                                    "unitprice": "9.00",
                                    "discontinued": "0",
                                    "discontinued_desc": "No"
                                },
                                {
                                    "productid": "24",
                                    "productname": "Product QOGNU",
                                    "unitprice": "4.50",
                                    "discontinued": "1",
                                    "discontinued_desc": "Yes"
                                },
                                {
                                    "productid": "25",
                                    "productname": "Product LYLNI",
                                    "unitprice": "14.00",
                                    "discontinued": "0",
                                    "discontinued_desc": "No"
                                },
                                {
                                    "productid": "26",
                                    "productname": "Product HLGZA",
                                    "unitprice": "31.23",
                                    "discontinued": "0",
                                    "discontinued_desc": "No"
                                },
                                {
                                    "productid": "27",
                                    "productname": "Product SMIOH",
                                    "unitprice": "43.90",
                                    "discontinued": "0",
                                    "discontinued_desc": "No"
                                },
                                {
                                    "productid": "28",
                                    "productname": "Product OFBNT",
                                    "unitprice": "45.60",
                                    "discontinued": "1",
                                    "discontinued_desc": "Yes"
                                },
                                {
                                    "productid": "29",
                                    "productname": "Product VJXYN",
                                    "unitprice": "123.79",
                                    "discontinued": "1",
                                    "discontinued_desc": "Yes"
                                },
                                {
                                    "productid": "30",
                                    "productname": "Product LYERX",
                                    "unitprice": "25.89",
                                    "discontinued": "0",
                                    "discontinued_desc": "No"
                                },
                                {
                                    "productid": "31",
                                    "productname": "Product XWOXC",
                                    "unitprice": "12.50",
                                    "discontinued": "0",
                                    "discontinued_desc": "No"
                                },
                                {
                                    "productid": "32",
                                    "productname": "Product NUNAW",
                                    "unitprice": "32.00",
                                    "discontinued": "0",
                                    "discontinued_desc": "No"
                                },
                                {
                                    "productid": "33",
                                    "productname": "Product ASTMN",
                                    "unitprice": "2.50",
                                    "discontinued": "0",
                                    "discontinued_desc": "No"
                                },
                                {
                                    "productid": "34",
                                    "productname": "Product SWNJY",
                                    "unitprice": "14.00",
                                    "discontinued": "0",
                                    "discontinued_desc": "No"
                                },
                                {
                                    "productid": "35",
                                    "productname": "Product NEVTJ",
                                    "unitprice": "18.00",
                                    "discontinued": "0",
                                    "discontinued_desc": "No"
                                },
                                {
                                    "productid": "36",
                                    "productname": "Product GMKIJ",
                                    "unitprice": "19.00",
                                    "discontinued": "0",
                                    "discontinued_desc": "No"
                                },
                                {
                                    "productid": "37",
                                    "productname": "Product EVFFA",
                                    "unitprice": "26.00",
                                    "discontinued": "0",
                                    "discontinued_desc": "No"
                                },
                                {
                                    "productid": "38",
                                    "productname": "Product QDOMO",
                                    "unitprice": "263.50",
                                    "discontinued": "0",
                                    "discontinued_desc": "No"
                                },
                                {
                                    "productid": "39",
                                    "productname": "Product LSOFL",
                                    "unitprice": "18.00",
                                    "discontinued": "0",
                                    "discontinued_desc": "No"
                                },
                                {
                                    "productid": "40",
                                    "productname": "Product YZIXQ",
                                    "unitprice": "18.40",
                                    "discontinued": "0",
                                    "discontinued_desc": "No"
                                },
                                {
                                    "productid": "41",
                                    "productname": "Product TTEEX",
                                    "unitprice": "9.65",
                                    "discontinued": "0",
                                    "discontinued_desc": "No"
                                },
                                {
                                    "productid": "42",
                                    "productname": "Product RJVNM",
                                    "unitprice": "14.00",
                                    "discontinued": "1",
                                    "discontinued_desc": "Yes"
                                },
                                {
                                    "productid": "43",
                                    "productname": "Product ZZZHR",
                                    "unitprice": "46.00",
                                    "discontinued": "0",
                                    "discontinued_desc": "No"
                                },
                                {
                                    "productid": "44",
                                    "productname": "Product VJIEO",
                                    "unitprice": "19.45",
                                    "discontinued": "0",
                                    "discontinued_desc": "No"
                                },
                                {
                                    "productid": "45",
                                    "productname": "Product AQOKR",
                                    "unitprice": "9.50",
                                    "discontinued": "0",
                                    "discontinued_desc": "No"
                                },
                                {
                                    "productid": "46",
                                    "productname": "Product CBRRL",
                                    "unitprice": "12.00",
                                    "discontinued": "0",
                                    "discontinued_desc": "No"
                                },
                                {
                                    "productid": "47",
                                    "productname": "Product EZZPR",
                                    "unitprice": "9.50",
                                    "discontinued": "0",
                                    "discontinued_desc": "No"
                                },
                                {
                                    "productid": "48",
                                    "productname": "Product MYNXN",
                                    "unitprice": "12.75",
                                    "discontinued": "0",
                                    "discontinued_desc": "No"
                                },
                                {
                                    "productid": "49",
                                    "productname": "Product FPYPN",
                                    "unitprice": "20.00",
                                    "discontinued": "0",
                                    "discontinued_desc": "No"
                                },
                                {
                                    "productid": "50",
                                    "productname": "Product BIUDV",
                                    "unitprice": "16.25",
                                    "discontinued": "0",
                                    "discontinued_desc": "No"
                                },
                                {
                                    "productid": "51",
                                    "productname": "Product APITJ",
                                    "unitprice": "53.00",
                                    "discontinued": "0",
                                    "discontinued_desc": "No"
                                },
                                {
                                    "productid": "52",
                                    "productname": "Product QSRXF",
                                    "unitprice": "7.00",
                                    "discontinued": "0",
                                    "discontinued_desc": "No"
                                },
                                {
                                    "productid": "53",
                                    "productname": "Product BKGEA",
                                    "unitprice": "32.80",
                                    "discontinued": "1",
                                    "discontinued_desc": "Yes"
                                },
                                {
                                    "productid": "54",
                                    "productname": "Product QAQRL",
                                    "unitprice": "7.45",
                                    "discontinued": "0",
                                    "discontinued_desc": "No"
                                },
                                {
                                    "productid": "55",
                                    "productname": "Product YYWRT",
                                    "unitprice": "24.00",
                                    "discontinued": "0",
                                    "discontinued_desc": "No"
                                },
                                {
                                    "productid": "56",
                                    "productname": "Product VKCMF",
                                    "unitprice": "38.00",
                                    "discontinued": "0",
                                    "discontinued_desc": "No"
                                },
                                {
                                    "productid": "57",
                                    "productname": "Product OVLQI",
                                    "unitprice": "19.50",
                                    "discontinued": "0",
                                    "discontinued_desc": "No"
                                },
                                {
                                    "productid": "58",
                                    "productname": "Product ACRVI",
                                    "unitprice": "13.25",
                                    "discontinued": "0",
                                    "discontinued_desc": "No"
                                },
                                {
                                    "productid": "59",
                                    "productname": "Product UKXRI",
                                    "unitprice": "55.00",
                                    "discontinued": "0",
                                    "discontinued_desc": "No"
                                },
                                {
                                    "productid": "60",
                                    "productname": "Product WHBYK",
                                    "unitprice": "34.00",
                                    "discontinued": "0",
                                    "discontinued_desc": "No"
                                },
                                {
                                    "productid": "61",
                                    "productname": "Product XYZPE",
                                    "unitprice": "28.50",
                                    "discontinued": "0",
                                    "discontinued_desc": "No"
                                },
                                {
                                    "productid": "62",
                                    "productname": "Product WUXYK",
                                    "unitprice": "49.30",
                                    "discontinued": "0",
                                    "discontinued_desc": "No"
                                },
                                {
                                    "productid": "63",
                                    "productname": "Product ICKNK",
                                    "unitprice": "43.90",
                                    "discontinued": "0",
                                    "discontinued_desc": "No"
                                },
                                {
                                    "productid": "64",
                                    "productname": "Product HCQDE",
                                    "unitprice": "33.25",
                                    "discontinued": "0",
                                    "discontinued_desc": "No"
                                },
                                {
                                    "productid": "65",
                                    "productname": "Product XYWBZ",
                                    "unitprice": "21.05",
                                    "discontinued": "0",
                                    "discontinued_desc": "No"
                                },
                                {
                                    "productid": "66",
                                    "productname": "Product LQMGN",
                                    "unitprice": "17.00",
                                    "discontinued": "0",
                                    "discontinued_desc": "No"
                                },
                                {
                                    "productid": "67",
                                    "productname": "Product XLXQF",
                                    "unitprice": "14.00",
                                    "discontinued": "0",
                                    "discontinued_desc": "No"
                                },
                                {
                                    "productid": "68",
                                    "productname": "Product TBTBL",
                                    "unitprice": "12.50",
                                    "discontinued": "0",
                                    "discontinued_desc": "No"
                                },
                                {
                                    "productid": "69",
                                    "productname": "Product COAXA",
                                    "unitprice": "36.00",
                                    "discontinued": "0",
                                    "discontinued_desc": "No"
                                },
                                {
                                    "productid": "70",
                                    "productname": "Product TOONT",
                                    "unitprice": "15.00",
                                    "discontinued": "0",
                                    "discontinued_desc": "No"
                                },
                                {
                                    "productid": "71",
                                    "productname": "Product MYMOI",
                                    "unitprice": "21.50",
                                    "discontinued": "0",
                                    "discontinued_desc": "No"
                                },
                                {
                                    "productid": "72",
                                    "productname": "Product GEEOO",
                                    "unitprice": "34.80",
                                    "discontinued": "0",
                                    "discontinued_desc": "No"
                                },
                                {
                                    "productid": "73",
                                    "productname": "Product WEUJZ",
                                    "unitprice": "15.00",
                                    "discontinued": "0",
                                    "discontinued_desc": "No"
                                },
                                {
                                    "productid": "74",
                                    "productname": "Product BKAZJ",
                                    "unitprice": "10.00",
                                    "discontinued": "0",
                                    "discontinued_desc": "No"
                                },
                                {
                                    "productid": "75",
                                    "productname": "Product BWRLG",
                                    "unitprice": "7.75",
                                    "discontinued": "0",
                                    "discontinued_desc": "No"
                                },
                                {
                                    "productid": "76",
                                    "productname": "Product JYGFE",
                                    "unitprice": "18.00",
                                    "discontinued": "0",
                                    "discontinued_desc": "No"
                                },
                                {
                                    "productid": "77",
                                    "productname": "Product LUNZZ",
                                    "unitprice": "13.00",
                                    "discontinued": "0",
                                    "discontinued_desc": "No"
                                }
                            ]
                        },
                        "text/html": [
                            "<table>",
                            "<tr><th>productid</th><th>productname</th><th>unitprice</th><th>discontinued</th><th>discontinued_desc</th></tr>",
                            "<tr><td>1</td><td>Product HHYDP</td><td>18.00</td><td>0</td><td>No</td></tr>",
                            "<tr><td>2</td><td>Product RECZE</td><td>19.00</td><td>0</td><td>No</td></tr>",
                            "<tr><td>3</td><td>Product IMEHJ</td><td>10.00</td><td>0</td><td>No</td></tr>",
                            "<tr><td>4</td><td>Product KSBRM</td><td>22.00</td><td>0</td><td>No</td></tr>",
                            "<tr><td>5</td><td>Product EPEIM</td><td>21.35</td><td>1</td><td>Yes</td></tr>",
                            "<tr><td>6</td><td>Product VAIIV</td><td>25.00</td><td>0</td><td>No</td></tr>",
                            "<tr><td>7</td><td>Product HMLNI</td><td>30.00</td><td>0</td><td>No</td></tr>",
                            "<tr><td>8</td><td>Product WVJFP</td><td>40.00</td><td>0</td><td>No</td></tr>",
                            "<tr><td>9</td><td>Product AOZBW</td><td>97.00</td><td>1</td><td>Yes</td></tr>",
                            "<tr><td>10</td><td>Product YHXGE</td><td>31.00</td><td>0</td><td>No</td></tr>",
                            "<tr><td>11</td><td>Product QMVUN</td><td>21.00</td><td>0</td><td>No</td></tr>",
                            "<tr><td>12</td><td>Product OSFNS</td><td>38.00</td><td>0</td><td>No</td></tr>",
                            "<tr><td>13</td><td>Product POXFU</td><td>6.00</td><td>0</td><td>No</td></tr>",
                            "<tr><td>14</td><td>Product PWCJB</td><td>23.25</td><td>0</td><td>No</td></tr>",
                            "<tr><td>15</td><td>Product KSZOI</td><td>15.50</td><td>0</td><td>No</td></tr>",
                            "<tr><td>16</td><td>Product PAFRH</td><td>17.45</td><td>0</td><td>No</td></tr>",
                            "<tr><td>17</td><td>Product BLCAX</td><td>39.00</td><td>1</td><td>Yes</td></tr>",
                            "<tr><td>18</td><td>Product CKEDC</td><td>62.50</td><td>0</td><td>No</td></tr>",
                            "<tr><td>19</td><td>Product XKXDO</td><td>9.20</td><td>0</td><td>No</td></tr>",
                            "<tr><td>20</td><td>Product QHFFP</td><td>81.00</td><td>0</td><td>No</td></tr>",
                            "<tr><td>21</td><td>Product VJZZH</td><td>10.00</td><td>0</td><td>No</td></tr>",
                            "<tr><td>22</td><td>Product CPHFY</td><td>21.00</td><td>0</td><td>No</td></tr>",
                            "<tr><td>23</td><td>Product JLUDZ</td><td>9.00</td><td>0</td><td>No</td></tr>",
                            "<tr><td>24</td><td>Product QOGNU</td><td>4.50</td><td>1</td><td>Yes</td></tr>",
                            "<tr><td>25</td><td>Product LYLNI</td><td>14.00</td><td>0</td><td>No</td></tr>",
                            "<tr><td>26</td><td>Product HLGZA</td><td>31.23</td><td>0</td><td>No</td></tr>",
                            "<tr><td>27</td><td>Product SMIOH</td><td>43.90</td><td>0</td><td>No</td></tr>",
                            "<tr><td>28</td><td>Product OFBNT</td><td>45.60</td><td>1</td><td>Yes</td></tr>",
                            "<tr><td>29</td><td>Product VJXYN</td><td>123.79</td><td>1</td><td>Yes</td></tr>",
                            "<tr><td>30</td><td>Product LYERX</td><td>25.89</td><td>0</td><td>No</td></tr>",
                            "<tr><td>31</td><td>Product XWOXC</td><td>12.50</td><td>0</td><td>No</td></tr>",
                            "<tr><td>32</td><td>Product NUNAW</td><td>32.00</td><td>0</td><td>No</td></tr>",
                            "<tr><td>33</td><td>Product ASTMN</td><td>2.50</td><td>0</td><td>No</td></tr>",
                            "<tr><td>34</td><td>Product SWNJY</td><td>14.00</td><td>0</td><td>No</td></tr>",
                            "<tr><td>35</td><td>Product NEVTJ</td><td>18.00</td><td>0</td><td>No</td></tr>",
                            "<tr><td>36</td><td>Product GMKIJ</td><td>19.00</td><td>0</td><td>No</td></tr>",
                            "<tr><td>37</td><td>Product EVFFA</td><td>26.00</td><td>0</td><td>No</td></tr>",
                            "<tr><td>38</td><td>Product QDOMO</td><td>263.50</td><td>0</td><td>No</td></tr>",
                            "<tr><td>39</td><td>Product LSOFL</td><td>18.00</td><td>0</td><td>No</td></tr>",
                            "<tr><td>40</td><td>Product YZIXQ</td><td>18.40</td><td>0</td><td>No</td></tr>",
                            "<tr><td>41</td><td>Product TTEEX</td><td>9.65</td><td>0</td><td>No</td></tr>",
                            "<tr><td>42</td><td>Product RJVNM</td><td>14.00</td><td>1</td><td>Yes</td></tr>",
                            "<tr><td>43</td><td>Product ZZZHR</td><td>46.00</td><td>0</td><td>No</td></tr>",
                            "<tr><td>44</td><td>Product VJIEO</td><td>19.45</td><td>0</td><td>No</td></tr>",
                            "<tr><td>45</td><td>Product AQOKR</td><td>9.50</td><td>0</td><td>No</td></tr>",
                            "<tr><td>46</td><td>Product CBRRL</td><td>12.00</td><td>0</td><td>No</td></tr>",
                            "<tr><td>47</td><td>Product EZZPR</td><td>9.50</td><td>0</td><td>No</td></tr>",
                            "<tr><td>48</td><td>Product MYNXN</td><td>12.75</td><td>0</td><td>No</td></tr>",
                            "<tr><td>49</td><td>Product FPYPN</td><td>20.00</td><td>0</td><td>No</td></tr>",
                            "<tr><td>50</td><td>Product BIUDV</td><td>16.25</td><td>0</td><td>No</td></tr>",
                            "<tr><td>51</td><td>Product APITJ</td><td>53.00</td><td>0</td><td>No</td></tr>",
                            "<tr><td>52</td><td>Product QSRXF</td><td>7.00</td><td>0</td><td>No</td></tr>",
                            "<tr><td>53</td><td>Product BKGEA</td><td>32.80</td><td>1</td><td>Yes</td></tr>",
                            "<tr><td>54</td><td>Product QAQRL</td><td>7.45</td><td>0</td><td>No</td></tr>",
                            "<tr><td>55</td><td>Product YYWRT</td><td>24.00</td><td>0</td><td>No</td></tr>",
                            "<tr><td>56</td><td>Product VKCMF</td><td>38.00</td><td>0</td><td>No</td></tr>",
                            "<tr><td>57</td><td>Product OVLQI</td><td>19.50</td><td>0</td><td>No</td></tr>",
                            "<tr><td>58</td><td>Product ACRVI</td><td>13.25</td><td>0</td><td>No</td></tr>",
                            "<tr><td>59</td><td>Product UKXRI</td><td>55.00</td><td>0</td><td>No</td></tr>",
                            "<tr><td>60</td><td>Product WHBYK</td><td>34.00</td><td>0</td><td>No</td></tr>",
                            "<tr><td>61</td><td>Product XYZPE</td><td>28.50</td><td>0</td><td>No</td></tr>",
                            "<tr><td>62</td><td>Product WUXYK</td><td>49.30</td><td>0</td><td>No</td></tr>",
                            "<tr><td>63</td><td>Product ICKNK</td><td>43.90</td><td>0</td><td>No</td></tr>",
                            "<tr><td>64</td><td>Product HCQDE</td><td>33.25</td><td>0</td><td>No</td></tr>",
                            "<tr><td>65</td><td>Product XYWBZ</td><td>21.05</td><td>0</td><td>No</td></tr>",
                            "<tr><td>66</td><td>Product LQMGN</td><td>17.00</td><td>0</td><td>No</td></tr>",
                            "<tr><td>67</td><td>Product XLXQF</td><td>14.00</td><td>0</td><td>No</td></tr>",
                            "<tr><td>68</td><td>Product TBTBL</td><td>12.50</td><td>0</td><td>No</td></tr>",
                            "<tr><td>69</td><td>Product COAXA</td><td>36.00</td><td>0</td><td>No</td></tr>",
                            "<tr><td>70</td><td>Product TOONT</td><td>15.00</td><td>0</td><td>No</td></tr>",
                            "<tr><td>71</td><td>Product MYMOI</td><td>21.50</td><td>0</td><td>No</td></tr>",
                            "<tr><td>72</td><td>Product GEEOO</td><td>34.80</td><td>0</td><td>No</td></tr>",
                            "<tr><td>73</td><td>Product WEUJZ</td><td>15.00</td><td>0</td><td>No</td></tr>",
                            "<tr><td>74</td><td>Product BKAZJ</td><td>10.00</td><td>0</td><td>No</td></tr>",
                            "<tr><td>75</td><td>Product BWRLG</td><td>7.75</td><td>0</td><td>No</td></tr>",
                            "<tr><td>76</td><td>Product JYGFE</td><td>18.00</td><td>0</td><td>No</td></tr>",
                            "<tr><td>77</td><td>Product LUNZZ</td><td>13.00</td><td>0</td><td>No</td></tr>",
                            "</table>"
                        ]
                    }
                }
            ],
            "execution_count": 15
        },
        {
            "cell_type": "code",
            "source": [
                "-- searched CASE expression\n",
                "SELECT productid, productname, unitprice,\n",
                "  CASE\n",
                "    WHEN unitprice < 20.00 THEN 'Low'\n",
                "    WHEN unitprice < 40.00 THEN 'Medium'\n",
                "    WHEN unitprice >= 40.00 THEN 'High'\n",
                "    ELSE 'Unknown'\n",
                "  END AS pricerange\n",
                "FROM Production.Products;"
            ],
            "metadata": {
                "language": "sql",
                "azdata_cell_guid": "7ff8e8a5-7f90-40e3-84fe-b8b920f747c7"
            },
            "outputs": [
                {
                    "output_type": "display_data",
                    "data": {
                        "text/html": "(77 rows affected)"
                    },
                    "metadata": {}
                },
                {
                    "output_type": "display_data",
                    "data": {
                        "text/html": "Total execution time: 00:00:00.078"
                    },
                    "metadata": {}
                },
                {
                    "output_type": "execute_result",
                    "metadata": {},
                    "execution_count": 16,
                    "data": {
                        "application/vnd.dataresource+json": {
                            "schema": {
                                "fields": [
                                    {
                                        "name": "productid"
                                    },
                                    {
                                        "name": "productname"
                                    },
                                    {
                                        "name": "unitprice"
                                    },
                                    {
                                        "name": "pricerange"
                                    }
                                ]
                            },
                            "data": [
                                {
                                    "productid": "1",
                                    "productname": "Product HHYDP",
                                    "unitprice": "18.00",
                                    "pricerange": "Low"
                                },
                                {
                                    "productid": "2",
                                    "productname": "Product RECZE",
                                    "unitprice": "19.00",
                                    "pricerange": "Low"
                                },
                                {
                                    "productid": "3",
                                    "productname": "Product IMEHJ",
                                    "unitprice": "10.00",
                                    "pricerange": "Low"
                                },
                                {
                                    "productid": "4",
                                    "productname": "Product KSBRM",
                                    "unitprice": "22.00",
                                    "pricerange": "Medium"
                                },
                                {
                                    "productid": "5",
                                    "productname": "Product EPEIM",
                                    "unitprice": "21.35",
                                    "pricerange": "Medium"
                                },
                                {
                                    "productid": "6",
                                    "productname": "Product VAIIV",
                                    "unitprice": "25.00",
                                    "pricerange": "Medium"
                                },
                                {
                                    "productid": "7",
                                    "productname": "Product HMLNI",
                                    "unitprice": "30.00",
                                    "pricerange": "Medium"
                                },
                                {
                                    "productid": "8",
                                    "productname": "Product WVJFP",
                                    "unitprice": "40.00",
                                    "pricerange": "High"
                                },
                                {
                                    "productid": "9",
                                    "productname": "Product AOZBW",
                                    "unitprice": "97.00",
                                    "pricerange": "High"
                                },
                                {
                                    "productid": "10",
                                    "productname": "Product YHXGE",
                                    "unitprice": "31.00",
                                    "pricerange": "Medium"
                                },
                                {
                                    "productid": "11",
                                    "productname": "Product QMVUN",
                                    "unitprice": "21.00",
                                    "pricerange": "Medium"
                                },
                                {
                                    "productid": "12",
                                    "productname": "Product OSFNS",
                                    "unitprice": "38.00",
                                    "pricerange": "Medium"
                                },
                                {
                                    "productid": "13",
                                    "productname": "Product POXFU",
                                    "unitprice": "6.00",
                                    "pricerange": "Low"
                                },
                                {
                                    "productid": "14",
                                    "productname": "Product PWCJB",
                                    "unitprice": "23.25",
                                    "pricerange": "Medium"
                                },
                                {
                                    "productid": "15",
                                    "productname": "Product KSZOI",
                                    "unitprice": "15.50",
                                    "pricerange": "Low"
                                },
                                {
                                    "productid": "16",
                                    "productname": "Product PAFRH",
                                    "unitprice": "17.45",
                                    "pricerange": "Low"
                                },
                                {
                                    "productid": "17",
                                    "productname": "Product BLCAX",
                                    "unitprice": "39.00",
                                    "pricerange": "Medium"
                                },
                                {
                                    "productid": "18",
                                    "productname": "Product CKEDC",
                                    "unitprice": "62.50",
                                    "pricerange": "High"
                                },
                                {
                                    "productid": "19",
                                    "productname": "Product XKXDO",
                                    "unitprice": "9.20",
                                    "pricerange": "Low"
                                },
                                {
                                    "productid": "20",
                                    "productname": "Product QHFFP",
                                    "unitprice": "81.00",
                                    "pricerange": "High"
                                },
                                {
                                    "productid": "21",
                                    "productname": "Product VJZZH",
                                    "unitprice": "10.00",
                                    "pricerange": "Low"
                                },
                                {
                                    "productid": "22",
                                    "productname": "Product CPHFY",
                                    "unitprice": "21.00",
                                    "pricerange": "Medium"
                                },
                                {
                                    "productid": "23",
                                    "productname": "Product JLUDZ",
                                    "unitprice": "9.00",
                                    "pricerange": "Low"
                                },
                                {
                                    "productid": "24",
                                    "productname": "Product QOGNU",
                                    "unitprice": "4.50",
                                    "pricerange": "Low"
                                },
                                {
                                    "productid": "25",
                                    "productname": "Product LYLNI",
                                    "unitprice": "14.00",
                                    "pricerange": "Low"
                                },
                                {
                                    "productid": "26",
                                    "productname": "Product HLGZA",
                                    "unitprice": "31.23",
                                    "pricerange": "Medium"
                                },
                                {
                                    "productid": "27",
                                    "productname": "Product SMIOH",
                                    "unitprice": "43.90",
                                    "pricerange": "High"
                                },
                                {
                                    "productid": "28",
                                    "productname": "Product OFBNT",
                                    "unitprice": "45.60",
                                    "pricerange": "High"
                                },
                                {
                                    "productid": "29",
                                    "productname": "Product VJXYN",
                                    "unitprice": "123.79",
                                    "pricerange": "High"
                                },
                                {
                                    "productid": "30",
                                    "productname": "Product LYERX",
                                    "unitprice": "25.89",
                                    "pricerange": "Medium"
                                },
                                {
                                    "productid": "31",
                                    "productname": "Product XWOXC",
                                    "unitprice": "12.50",
                                    "pricerange": "Low"
                                },
                                {
                                    "productid": "32",
                                    "productname": "Product NUNAW",
                                    "unitprice": "32.00",
                                    "pricerange": "Medium"
                                },
                                {
                                    "productid": "33",
                                    "productname": "Product ASTMN",
                                    "unitprice": "2.50",
                                    "pricerange": "Low"
                                },
                                {
                                    "productid": "34",
                                    "productname": "Product SWNJY",
                                    "unitprice": "14.00",
                                    "pricerange": "Low"
                                },
                                {
                                    "productid": "35",
                                    "productname": "Product NEVTJ",
                                    "unitprice": "18.00",
                                    "pricerange": "Low"
                                },
                                {
                                    "productid": "36",
                                    "productname": "Product GMKIJ",
                                    "unitprice": "19.00",
                                    "pricerange": "Low"
                                },
                                {
                                    "productid": "37",
                                    "productname": "Product EVFFA",
                                    "unitprice": "26.00",
                                    "pricerange": "Medium"
                                },
                                {
                                    "productid": "38",
                                    "productname": "Product QDOMO",
                                    "unitprice": "263.50",
                                    "pricerange": "High"
                                },
                                {
                                    "productid": "39",
                                    "productname": "Product LSOFL",
                                    "unitprice": "18.00",
                                    "pricerange": "Low"
                                },
                                {
                                    "productid": "40",
                                    "productname": "Product YZIXQ",
                                    "unitprice": "18.40",
                                    "pricerange": "Low"
                                },
                                {
                                    "productid": "41",
                                    "productname": "Product TTEEX",
                                    "unitprice": "9.65",
                                    "pricerange": "Low"
                                },
                                {
                                    "productid": "42",
                                    "productname": "Product RJVNM",
                                    "unitprice": "14.00",
                                    "pricerange": "Low"
                                },
                                {
                                    "productid": "43",
                                    "productname": "Product ZZZHR",
                                    "unitprice": "46.00",
                                    "pricerange": "High"
                                },
                                {
                                    "productid": "44",
                                    "productname": "Product VJIEO",
                                    "unitprice": "19.45",
                                    "pricerange": "Low"
                                },
                                {
                                    "productid": "45",
                                    "productname": "Product AQOKR",
                                    "unitprice": "9.50",
                                    "pricerange": "Low"
                                },
                                {
                                    "productid": "46",
                                    "productname": "Product CBRRL",
                                    "unitprice": "12.00",
                                    "pricerange": "Low"
                                },
                                {
                                    "productid": "47",
                                    "productname": "Product EZZPR",
                                    "unitprice": "9.50",
                                    "pricerange": "Low"
                                },
                                {
                                    "productid": "48",
                                    "productname": "Product MYNXN",
                                    "unitprice": "12.75",
                                    "pricerange": "Low"
                                },
                                {
                                    "productid": "49",
                                    "productname": "Product FPYPN",
                                    "unitprice": "20.00",
                                    "pricerange": "Medium"
                                },
                                {
                                    "productid": "50",
                                    "productname": "Product BIUDV",
                                    "unitprice": "16.25",
                                    "pricerange": "Low"
                                },
                                {
                                    "productid": "51",
                                    "productname": "Product APITJ",
                                    "unitprice": "53.00",
                                    "pricerange": "High"
                                },
                                {
                                    "productid": "52",
                                    "productname": "Product QSRXF",
                                    "unitprice": "7.00",
                                    "pricerange": "Low"
                                },
                                {
                                    "productid": "53",
                                    "productname": "Product BKGEA",
                                    "unitprice": "32.80",
                                    "pricerange": "Medium"
                                },
                                {
                                    "productid": "54",
                                    "productname": "Product QAQRL",
                                    "unitprice": "7.45",
                                    "pricerange": "Low"
                                },
                                {
                                    "productid": "55",
                                    "productname": "Product YYWRT",
                                    "unitprice": "24.00",
                                    "pricerange": "Medium"
                                },
                                {
                                    "productid": "56",
                                    "productname": "Product VKCMF",
                                    "unitprice": "38.00",
                                    "pricerange": "Medium"
                                },
                                {
                                    "productid": "57",
                                    "productname": "Product OVLQI",
                                    "unitprice": "19.50",
                                    "pricerange": "Low"
                                },
                                {
                                    "productid": "58",
                                    "productname": "Product ACRVI",
                                    "unitprice": "13.25",
                                    "pricerange": "Low"
                                },
                                {
                                    "productid": "59",
                                    "productname": "Product UKXRI",
                                    "unitprice": "55.00",
                                    "pricerange": "High"
                                },
                                {
                                    "productid": "60",
                                    "productname": "Product WHBYK",
                                    "unitprice": "34.00",
                                    "pricerange": "Medium"
                                },
                                {
                                    "productid": "61",
                                    "productname": "Product XYZPE",
                                    "unitprice": "28.50",
                                    "pricerange": "Medium"
                                },
                                {
                                    "productid": "62",
                                    "productname": "Product WUXYK",
                                    "unitprice": "49.30",
                                    "pricerange": "High"
                                },
                                {
                                    "productid": "63",
                                    "productname": "Product ICKNK",
                                    "unitprice": "43.90",
                                    "pricerange": "High"
                                },
                                {
                                    "productid": "64",
                                    "productname": "Product HCQDE",
                                    "unitprice": "33.25",
                                    "pricerange": "Medium"
                                },
                                {
                                    "productid": "65",
                                    "productname": "Product XYWBZ",
                                    "unitprice": "21.05",
                                    "pricerange": "Medium"
                                },
                                {
                                    "productid": "66",
                                    "productname": "Product LQMGN",
                                    "unitprice": "17.00",
                                    "pricerange": "Low"
                                },
                                {
                                    "productid": "67",
                                    "productname": "Product XLXQF",
                                    "unitprice": "14.00",
                                    "pricerange": "Low"
                                },
                                {
                                    "productid": "68",
                                    "productname": "Product TBTBL",
                                    "unitprice": "12.50",
                                    "pricerange": "Low"
                                },
                                {
                                    "productid": "69",
                                    "productname": "Product COAXA",
                                    "unitprice": "36.00",
                                    "pricerange": "Medium"
                                },
                                {
                                    "productid": "70",
                                    "productname": "Product TOONT",
                                    "unitprice": "15.00",
                                    "pricerange": "Low"
                                },
                                {
                                    "productid": "71",
                                    "productname": "Product MYMOI",
                                    "unitprice": "21.50",
                                    "pricerange": "Medium"
                                },
                                {
                                    "productid": "72",
                                    "productname": "Product GEEOO",
                                    "unitprice": "34.80",
                                    "pricerange": "Medium"
                                },
                                {
                                    "productid": "73",
                                    "productname": "Product WEUJZ",
                                    "unitprice": "15.00",
                                    "pricerange": "Low"
                                },
                                {
                                    "productid": "74",
                                    "productname": "Product BKAZJ",
                                    "unitprice": "10.00",
                                    "pricerange": "Low"
                                },
                                {
                                    "productid": "75",
                                    "productname": "Product BWRLG",
                                    "unitprice": "7.75",
                                    "pricerange": "Low"
                                },
                                {
                                    "productid": "76",
                                    "productname": "Product JYGFE",
                                    "unitprice": "18.00",
                                    "pricerange": "Low"
                                },
                                {
                                    "productid": "77",
                                    "productname": "Product LUNZZ",
                                    "unitprice": "13.00",
                                    "pricerange": "Low"
                                }
                            ]
                        },
                        "text/html": [
                            "<table>",
                            "<tr><th>productid</th><th>productname</th><th>unitprice</th><th>pricerange</th></tr>",
                            "<tr><td>1</td><td>Product HHYDP</td><td>18.00</td><td>Low</td></tr>",
                            "<tr><td>2</td><td>Product RECZE</td><td>19.00</td><td>Low</td></tr>",
                            "<tr><td>3</td><td>Product IMEHJ</td><td>10.00</td><td>Low</td></tr>",
                            "<tr><td>4</td><td>Product KSBRM</td><td>22.00</td><td>Medium</td></tr>",
                            "<tr><td>5</td><td>Product EPEIM</td><td>21.35</td><td>Medium</td></tr>",
                            "<tr><td>6</td><td>Product VAIIV</td><td>25.00</td><td>Medium</td></tr>",
                            "<tr><td>7</td><td>Product HMLNI</td><td>30.00</td><td>Medium</td></tr>",
                            "<tr><td>8</td><td>Product WVJFP</td><td>40.00</td><td>High</td></tr>",
                            "<tr><td>9</td><td>Product AOZBW</td><td>97.00</td><td>High</td></tr>",
                            "<tr><td>10</td><td>Product YHXGE</td><td>31.00</td><td>Medium</td></tr>",
                            "<tr><td>11</td><td>Product QMVUN</td><td>21.00</td><td>Medium</td></tr>",
                            "<tr><td>12</td><td>Product OSFNS</td><td>38.00</td><td>Medium</td></tr>",
                            "<tr><td>13</td><td>Product POXFU</td><td>6.00</td><td>Low</td></tr>",
                            "<tr><td>14</td><td>Product PWCJB</td><td>23.25</td><td>Medium</td></tr>",
                            "<tr><td>15</td><td>Product KSZOI</td><td>15.50</td><td>Low</td></tr>",
                            "<tr><td>16</td><td>Product PAFRH</td><td>17.45</td><td>Low</td></tr>",
                            "<tr><td>17</td><td>Product BLCAX</td><td>39.00</td><td>Medium</td></tr>",
                            "<tr><td>18</td><td>Product CKEDC</td><td>62.50</td><td>High</td></tr>",
                            "<tr><td>19</td><td>Product XKXDO</td><td>9.20</td><td>Low</td></tr>",
                            "<tr><td>20</td><td>Product QHFFP</td><td>81.00</td><td>High</td></tr>",
                            "<tr><td>21</td><td>Product VJZZH</td><td>10.00</td><td>Low</td></tr>",
                            "<tr><td>22</td><td>Product CPHFY</td><td>21.00</td><td>Medium</td></tr>",
                            "<tr><td>23</td><td>Product JLUDZ</td><td>9.00</td><td>Low</td></tr>",
                            "<tr><td>24</td><td>Product QOGNU</td><td>4.50</td><td>Low</td></tr>",
                            "<tr><td>25</td><td>Product LYLNI</td><td>14.00</td><td>Low</td></tr>",
                            "<tr><td>26</td><td>Product HLGZA</td><td>31.23</td><td>Medium</td></tr>",
                            "<tr><td>27</td><td>Product SMIOH</td><td>43.90</td><td>High</td></tr>",
                            "<tr><td>28</td><td>Product OFBNT</td><td>45.60</td><td>High</td></tr>",
                            "<tr><td>29</td><td>Product VJXYN</td><td>123.79</td><td>High</td></tr>",
                            "<tr><td>30</td><td>Product LYERX</td><td>25.89</td><td>Medium</td></tr>",
                            "<tr><td>31</td><td>Product XWOXC</td><td>12.50</td><td>Low</td></tr>",
                            "<tr><td>32</td><td>Product NUNAW</td><td>32.00</td><td>Medium</td></tr>",
                            "<tr><td>33</td><td>Product ASTMN</td><td>2.50</td><td>Low</td></tr>",
                            "<tr><td>34</td><td>Product SWNJY</td><td>14.00</td><td>Low</td></tr>",
                            "<tr><td>35</td><td>Product NEVTJ</td><td>18.00</td><td>Low</td></tr>",
                            "<tr><td>36</td><td>Product GMKIJ</td><td>19.00</td><td>Low</td></tr>",
                            "<tr><td>37</td><td>Product EVFFA</td><td>26.00</td><td>Medium</td></tr>",
                            "<tr><td>38</td><td>Product QDOMO</td><td>263.50</td><td>High</td></tr>",
                            "<tr><td>39</td><td>Product LSOFL</td><td>18.00</td><td>Low</td></tr>",
                            "<tr><td>40</td><td>Product YZIXQ</td><td>18.40</td><td>Low</td></tr>",
                            "<tr><td>41</td><td>Product TTEEX</td><td>9.65</td><td>Low</td></tr>",
                            "<tr><td>42</td><td>Product RJVNM</td><td>14.00</td><td>Low</td></tr>",
                            "<tr><td>43</td><td>Product ZZZHR</td><td>46.00</td><td>High</td></tr>",
                            "<tr><td>44</td><td>Product VJIEO</td><td>19.45</td><td>Low</td></tr>",
                            "<tr><td>45</td><td>Product AQOKR</td><td>9.50</td><td>Low</td></tr>",
                            "<tr><td>46</td><td>Product CBRRL</td><td>12.00</td><td>Low</td></tr>",
                            "<tr><td>47</td><td>Product EZZPR</td><td>9.50</td><td>Low</td></tr>",
                            "<tr><td>48</td><td>Product MYNXN</td><td>12.75</td><td>Low</td></tr>",
                            "<tr><td>49</td><td>Product FPYPN</td><td>20.00</td><td>Medium</td></tr>",
                            "<tr><td>50</td><td>Product BIUDV</td><td>16.25</td><td>Low</td></tr>",
                            "<tr><td>51</td><td>Product APITJ</td><td>53.00</td><td>High</td></tr>",
                            "<tr><td>52</td><td>Product QSRXF</td><td>7.00</td><td>Low</td></tr>",
                            "<tr><td>53</td><td>Product BKGEA</td><td>32.80</td><td>Medium</td></tr>",
                            "<tr><td>54</td><td>Product QAQRL</td><td>7.45</td><td>Low</td></tr>",
                            "<tr><td>55</td><td>Product YYWRT</td><td>24.00</td><td>Medium</td></tr>",
                            "<tr><td>56</td><td>Product VKCMF</td><td>38.00</td><td>Medium</td></tr>",
                            "<tr><td>57</td><td>Product OVLQI</td><td>19.50</td><td>Low</td></tr>",
                            "<tr><td>58</td><td>Product ACRVI</td><td>13.25</td><td>Low</td></tr>",
                            "<tr><td>59</td><td>Product UKXRI</td><td>55.00</td><td>High</td></tr>",
                            "<tr><td>60</td><td>Product WHBYK</td><td>34.00</td><td>Medium</td></tr>",
                            "<tr><td>61</td><td>Product XYZPE</td><td>28.50</td><td>Medium</td></tr>",
                            "<tr><td>62</td><td>Product WUXYK</td><td>49.30</td><td>High</td></tr>",
                            "<tr><td>63</td><td>Product ICKNK</td><td>43.90</td><td>High</td></tr>",
                            "<tr><td>64</td><td>Product HCQDE</td><td>33.25</td><td>Medium</td></tr>",
                            "<tr><td>65</td><td>Product XYWBZ</td><td>21.05</td><td>Medium</td></tr>",
                            "<tr><td>66</td><td>Product LQMGN</td><td>17.00</td><td>Low</td></tr>",
                            "<tr><td>67</td><td>Product XLXQF</td><td>14.00</td><td>Low</td></tr>",
                            "<tr><td>68</td><td>Product TBTBL</td><td>12.50</td><td>Low</td></tr>",
                            "<tr><td>69</td><td>Product COAXA</td><td>36.00</td><td>Medium</td></tr>",
                            "<tr><td>70</td><td>Product TOONT</td><td>15.00</td><td>Low</td></tr>",
                            "<tr><td>71</td><td>Product MYMOI</td><td>21.50</td><td>Medium</td></tr>",
                            "<tr><td>72</td><td>Product GEEOO</td><td>34.80</td><td>Medium</td></tr>",
                            "<tr><td>73</td><td>Product WEUJZ</td><td>15.00</td><td>Low</td></tr>",
                            "<tr><td>74</td><td>Product BKAZJ</td><td>10.00</td><td>Low</td></tr>",
                            "<tr><td>75</td><td>Product BWRLG</td><td>7.75</td><td>Low</td></tr>",
                            "<tr><td>76</td><td>Product JYGFE</td><td>18.00</td><td>Low</td></tr>",
                            "<tr><td>77</td><td>Product LUNZZ</td><td>13.00</td><td>Low</td></tr>",
                            "</table>"
                        ]
                    }
                }
            ],
            "execution_count": 16
        },
        {
            "cell_type": "code",
            "source": [
                "DECLARE\n",
                "  @x AS VARCHAR(3) = NULL,\n",
                "  @y AS VARCHAR(10) = '1234567890';\n",
                "\n",
                "SELECT COALESCE(@x, @y) AS [COALESCE], ISNULL(@x, @y) AS [ISNULL];"
            ],
            "metadata": {
                "language": "sql",
                "azdata_cell_guid": "579af1b4-1242-4278-b599-8dbcd902262e"
            },
            "outputs": [
                {
                    "output_type": "display_data",
                    "data": {
                        "text/html": "(1 row affected)"
                    },
                    "metadata": {}
                },
                {
                    "output_type": "display_data",
                    "data": {
                        "text/html": "Total execution time: 00:00:00.072"
                    },
                    "metadata": {}
                },
                {
                    "output_type": "execute_result",
                    "metadata": {},
                    "execution_count": 17,
                    "data": {
                        "application/vnd.dataresource+json": {
                            "schema": {
                                "fields": [
                                    {
                                        "name": "COALESCE"
                                    },
                                    {
                                        "name": "ISNULL"
                                    }
                                ]
                            },
                            "data": [
                                {
                                    "COALESCE": "1234567890",
                                    "ISNULL": "123"
                                }
                            ]
                        },
                        "text/html": [
                            "<table>",
                            "<tr><th>COALESCE</th><th>ISNULL</th></tr>",
                            "<tr><td>1234567890</td><td>123</td></tr>",
                            "</table>"
                        ]
                    }
                }
            ],
            "execution_count": 17
        }
    ]
}