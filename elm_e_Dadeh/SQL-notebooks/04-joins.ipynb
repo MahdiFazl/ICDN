{
    "metadata": {
        "kernelspec": {
            "name": "SQL",
            "display_name": "SQL",
            "language": "sql"
        },
        "language_info": {
            "name": "sql",
            "version": ""
        }
    },
    "nbformat_minor": 2,
    "nbformat": 4,
    "cells": [
        {
            "cell_type": "code",
            "source": [
                "USE TSQL2012;"
            ],
            "metadata": {
                "azdata_cell_guid": "c66c3e9d-2f26-4e2b-9bcd-91daf1447d5b",
                "language": "sql"
            },
            "outputs": [
                {
                    "output_type": "display_data",
                    "data": {
                        "text/html": "Commands completed successfully."
                    },
                    "metadata": {}
                },
                {
                    "output_type": "display_data",
                    "data": {
                        "text/html": "Total execution time: 00:00:00.048"
                    },
                    "metadata": {}
                }
            ],
            "execution_count": 1
        },
        {
            "cell_type": "markdown",
            "source": [
                "## Cross join (Cartesian product)"
            ],
            "metadata": {
                "language": "sql",
                "azdata_cell_guid": "8993ea54-3d4b-4724-86b2-8733cf808e0d"
            },
            "attachments": {}
        },
        {
            "cell_type": "code",
            "source": [
                "-- a cross join returning a row for each day of the week\n",
                "-- and shift number out of three\n",
                "SELECT D.n AS theday, S.n AS shiftno  \n",
                "FROM dbo.Nums AS D\n",
                "  CROSS JOIN dbo.Nums AS S\n",
                "WHERE D.n <= 7\n",
                "  AND S.N <= 3\n",
                "ORDER BY theday, shiftno;"
            ],
            "metadata": {
                "language": "sql",
                "azdata_cell_guid": "dca8a46f-f2fc-42c1-acce-24b6343821d0"
            },
            "outputs": [
                {
                    "output_type": "display_data",
                    "data": {
                        "text/html": "(21 rows affected)"
                    },
                    "metadata": {}
                },
                {
                    "output_type": "display_data",
                    "data": {
                        "text/html": "Total execution time: 00:00:00.063"
                    },
                    "metadata": {}
                },
                {
                    "output_type": "execute_result",
                    "metadata": {},
                    "execution_count": 2,
                    "data": {
                        "application/vnd.dataresource+json": {
                            "schema": {
                                "fields": [
                                    {
                                        "name": "theday"
                                    },
                                    {
                                        "name": "shiftno"
                                    }
                                ]
                            },
                            "data": [
                                {
                                    "theday": "1",
                                    "shiftno": "1"
                                },
                                {
                                    "theday": "1",
                                    "shiftno": "2"
                                },
                                {
                                    "theday": "1",
                                    "shiftno": "3"
                                },
                                {
                                    "theday": "2",
                                    "shiftno": "1"
                                },
                                {
                                    "theday": "2",
                                    "shiftno": "2"
                                },
                                {
                                    "theday": "2",
                                    "shiftno": "3"
                                },
                                {
                                    "theday": "3",
                                    "shiftno": "1"
                                },
                                {
                                    "theday": "3",
                                    "shiftno": "2"
                                },
                                {
                                    "theday": "3",
                                    "shiftno": "3"
                                },
                                {
                                    "theday": "4",
                                    "shiftno": "1"
                                },
                                {
                                    "theday": "4",
                                    "shiftno": "2"
                                },
                                {
                                    "theday": "4",
                                    "shiftno": "3"
                                },
                                {
                                    "theday": "5",
                                    "shiftno": "1"
                                },
                                {
                                    "theday": "5",
                                    "shiftno": "2"
                                },
                                {
                                    "theday": "5",
                                    "shiftno": "3"
                                },
                                {
                                    "theday": "6",
                                    "shiftno": "1"
                                },
                                {
                                    "theday": "6",
                                    "shiftno": "2"
                                },
                                {
                                    "theday": "6",
                                    "shiftno": "3"
                                },
                                {
                                    "theday": "7",
                                    "shiftno": "1"
                                },
                                {
                                    "theday": "7",
                                    "shiftno": "2"
                                },
                                {
                                    "theday": "7",
                                    "shiftno": "3"
                                }
                            ]
                        },
                        "text/html": [
                            "<table>",
                            "<tr><th>theday</th><th>shiftno</th></tr>",
                            "<tr><td>1</td><td>1</td></tr>",
                            "<tr><td>1</td><td>2</td></tr>",
                            "<tr><td>1</td><td>3</td></tr>",
                            "<tr><td>2</td><td>1</td></tr>",
                            "<tr><td>2</td><td>2</td></tr>",
                            "<tr><td>2</td><td>3</td></tr>",
                            "<tr><td>3</td><td>1</td></tr>",
                            "<tr><td>3</td><td>2</td></tr>",
                            "<tr><td>3</td><td>3</td></tr>",
                            "<tr><td>4</td><td>1</td></tr>",
                            "<tr><td>4</td><td>2</td></tr>",
                            "<tr><td>4</td><td>3</td></tr>",
                            "<tr><td>5</td><td>1</td></tr>",
                            "<tr><td>5</td><td>2</td></tr>",
                            "<tr><td>5</td><td>3</td></tr>",
                            "<tr><td>6</td><td>1</td></tr>",
                            "<tr><td>6</td><td>2</td></tr>",
                            "<tr><td>6</td><td>3</td></tr>",
                            "<tr><td>7</td><td>1</td></tr>",
                            "<tr><td>7</td><td>2</td></tr>",
                            "<tr><td>7</td><td>3</td></tr>",
                            "</table>"
                        ]
                    }
                }
            ],
            "execution_count": 2
        },
        {
            "cell_type": "markdown",
            "source": [
                "# Inner Join"
            ],
            "metadata": {
                "language": "sql",
                "azdata_cell_guid": "beac7bdc-6b6c-4889-9cad-e68fb950baf5"
            },
            "attachments": {}
        },
        {
            "cell_type": "markdown",
            "source": [
                "We have the following two tables."
            ],
            "metadata": {
                "language": "sql",
                "azdata_cell_guid": "3506f6cd-8455-4b1c-8212-6101d02f89d3"
            },
            "attachments": {}
        },
        {
            "cell_type": "code",
            "source": [
                "SELECT TOP(10) supplierid, companyname AS supplier, country\n",
                "FROM Production.Suppliers\n",
                "\n",
                "SELECT TOP(10) supplierid, productid, productname, unitprice\n",
                "FROM Production.Products"
            ],
            "metadata": {
                "language": "sql",
                "azdata_cell_guid": "8e93fc79-5e96-426f-8692-7faa681aa43b"
            },
            "outputs": [],
            "execution_count": null
        },
        {
            "cell_type": "markdown",
            "source": [
                "We want to get all suppliers from Japan and products they supply."
            ],
            "metadata": {
                "language": "sql",
                "azdata_cell_guid": "de6a1870-0294-40e8-8779-b243abfd102a"
            },
            "attachments": {}
        },
        {
            "cell_type": "code",
            "source": [
                "-- suppliers from Japan and products they supply\n",
                "-- suppliers without products not included\n",
                "SELECT\n",
                "  S.companyname AS supplier, S.country,\n",
                "  P.productid, P.productname, P.unitprice\n",
                "FROM Production.Suppliers AS S\n",
                "  INNER JOIN Production.Products AS P\n",
                "    ON S.supplierid = P.supplierid\n",
                "WHERE S.country = N'Japan';\n",
                "\n",
                "-- same meaning\n",
                "SELECT\n",
                "  S.companyname AS supplier, S.country,\n",
                "  P.productid, P.productname, P.unitprice\n",
                "FROM Production.Suppliers AS S\n",
                "  INNER JOIN Production.Products AS P\n",
                "    ON S.supplierid = P.supplierid\n",
                "    AND S.country = N'Japan';"
            ],
            "metadata": {
                "language": "sql",
                "azdata_cell_guid": "63fad2a9-0425-46f2-8310-7c3f1cf50b8f",
                "tags": []
            },
            "outputs": [
                {
                    "output_type": "display_data",
                    "data": {
                        "text/html": "(6 rows affected)"
                    },
                    "metadata": {}
                },
                {
                    "output_type": "display_data",
                    "data": {
                        "text/html": "(6 rows affected)"
                    },
                    "metadata": {}
                },
                {
                    "output_type": "display_data",
                    "data": {
                        "text/html": "Total execution time: 00:00:00.060"
                    },
                    "metadata": {}
                },
                {
                    "output_type": "execute_result",
                    "metadata": {},
                    "execution_count": 3,
                    "data": {
                        "application/vnd.dataresource+json": {
                            "schema": {
                                "fields": [
                                    {
                                        "name": "supplier"
                                    },
                                    {
                                        "name": "country"
                                    },
                                    {
                                        "name": "productid"
                                    },
                                    {
                                        "name": "productname"
                                    },
                                    {
                                        "name": "unitprice"
                                    }
                                ]
                            },
                            "data": [
                                {
                                    "supplier": "Supplier QOVFD",
                                    "country": "Japan",
                                    "productid": "9",
                                    "productname": "Product AOZBW",
                                    "unitprice": "97.00"
                                },
                                {
                                    "supplier": "Supplier QOVFD",
                                    "country": "Japan",
                                    "productid": "10",
                                    "productname": "Product YHXGE",
                                    "unitprice": "31.00"
                                },
                                {
                                    "supplier": "Supplier QOVFD",
                                    "country": "Japan",
                                    "productid": "74",
                                    "productname": "Product BKAZJ",
                                    "unitprice": "10.00"
                                },
                                {
                                    "supplier": "Supplier QWUSF",
                                    "country": "Japan",
                                    "productid": "13",
                                    "productname": "Product POXFU",
                                    "unitprice": "6.00"
                                },
                                {
                                    "supplier": "Supplier QWUSF",
                                    "country": "Japan",
                                    "productid": "14",
                                    "productname": "Product PWCJB",
                                    "unitprice": "23.25"
                                },
                                {
                                    "supplier": "Supplier QWUSF",
                                    "country": "Japan",
                                    "productid": "15",
                                    "productname": "Product KSZOI",
                                    "unitprice": "15.50"
                                }
                            ]
                        },
                        "text/html": [
                            "<table>",
                            "<tr><th>supplier</th><th>country</th><th>productid</th><th>productname</th><th>unitprice</th></tr>",
                            "<tr><td>Supplier QOVFD</td><td>Japan</td><td>9</td><td>Product AOZBW</td><td>97.00</td></tr>",
                            "<tr><td>Supplier QOVFD</td><td>Japan</td><td>10</td><td>Product YHXGE</td><td>31.00</td></tr>",
                            "<tr><td>Supplier QOVFD</td><td>Japan</td><td>74</td><td>Product BKAZJ</td><td>10.00</td></tr>",
                            "<tr><td>Supplier QWUSF</td><td>Japan</td><td>13</td><td>Product POXFU</td><td>6.00</td></tr>",
                            "<tr><td>Supplier QWUSF</td><td>Japan</td><td>14</td><td>Product PWCJB</td><td>23.25</td></tr>",
                            "<tr><td>Supplier QWUSF</td><td>Japan</td><td>15</td><td>Product KSZOI</td><td>15.50</td></tr>",
                            "</table>"
                        ]
                    }
                },
                {
                    "output_type": "execute_result",
                    "metadata": {},
                    "execution_count": 3,
                    "data": {
                        "application/vnd.dataresource+json": {
                            "schema": {
                                "fields": [
                                    {
                                        "name": "supplier"
                                    },
                                    {
                                        "name": "country"
                                    },
                                    {
                                        "name": "productid"
                                    },
                                    {
                                        "name": "productname"
                                    },
                                    {
                                        "name": "unitprice"
                                    }
                                ]
                            },
                            "data": [
                                {
                                    "supplier": "Supplier QOVFD",
                                    "country": "Japan",
                                    "productid": "9",
                                    "productname": "Product AOZBW",
                                    "unitprice": "97.00"
                                },
                                {
                                    "supplier": "Supplier QOVFD",
                                    "country": "Japan",
                                    "productid": "10",
                                    "productname": "Product YHXGE",
                                    "unitprice": "31.00"
                                },
                                {
                                    "supplier": "Supplier QOVFD",
                                    "country": "Japan",
                                    "productid": "74",
                                    "productname": "Product BKAZJ",
                                    "unitprice": "10.00"
                                },
                                {
                                    "supplier": "Supplier QWUSF",
                                    "country": "Japan",
                                    "productid": "13",
                                    "productname": "Product POXFU",
                                    "unitprice": "6.00"
                                },
                                {
                                    "supplier": "Supplier QWUSF",
                                    "country": "Japan",
                                    "productid": "14",
                                    "productname": "Product PWCJB",
                                    "unitprice": "23.25"
                                },
                                {
                                    "supplier": "Supplier QWUSF",
                                    "country": "Japan",
                                    "productid": "15",
                                    "productname": "Product KSZOI",
                                    "unitprice": "15.50"
                                }
                            ]
                        },
                        "text/html": [
                            "<table>",
                            "<tr><th>supplier</th><th>country</th><th>productid</th><th>productname</th><th>unitprice</th></tr>",
                            "<tr><td>Supplier QOVFD</td><td>Japan</td><td>9</td><td>Product AOZBW</td><td>97.00</td></tr>",
                            "<tr><td>Supplier QOVFD</td><td>Japan</td><td>10</td><td>Product YHXGE</td><td>31.00</td></tr>",
                            "<tr><td>Supplier QOVFD</td><td>Japan</td><td>74</td><td>Product BKAZJ</td><td>10.00</td></tr>",
                            "<tr><td>Supplier QWUSF</td><td>Japan</td><td>13</td><td>Product POXFU</td><td>6.00</td></tr>",
                            "<tr><td>Supplier QWUSF</td><td>Japan</td><td>14</td><td>Product PWCJB</td><td>23.25</td></tr>",
                            "<tr><td>Supplier QWUSF</td><td>Japan</td><td>15</td><td>Product KSZOI</td><td>15.50</td></tr>",
                            "</table>"
                        ]
                    }
                }
            ],
            "execution_count": 3
        },
        {
            "cell_type": "markdown",
            "source": [
                "## Exercise 1\n",
                "Create a table of empoyees and their manager. Do not include emplyees with no manager e.g. CEO.\n",
                "\n",
                "Hint: You can join employee table with itself."
            ],
            "metadata": {
                "language": "sql",
                "azdata_cell_guid": "617e644c-7670-41e4-b05c-75aa7ffd12a7"
            },
            "attachments": {}
        },
        {
            "cell_type": "markdown",
            "source": [
                "## Outer Join"
            ],
            "metadata": {
                "language": "sql",
                "azdata_cell_guid": "0f42a901-37ea-46a0-b11d-e8aeca64f62d"
            },
            "attachments": {}
        },
        {
            "cell_type": "code",
            "source": [
                "-- suppliers from Japan and products they supply\n",
                "-- suppliers without products included\n",
                "SELECT\n",
                "  S.companyname AS supplier, S.country,\n",
                "  P.productid, P.productname, P.unitprice\n",
                "FROM Production.Suppliers AS S\n",
                "  LEFT OUTER JOIN Production.Products AS P\n",
                "    ON S.supplierid = P.supplierid\n",
                "WHERE S.country = N'Japan'; -- try this without WHERE clause\n",
                "\n",
                "-- return all suppliers\n",
                "-- show products for only suppliers from Japan\n",
                "-- note: we are bringing all suppliers (left table) but joining only with products from Japan (right table)\n",
                "-- i.e. for the rest of suppliers we do not have their products.\n",
                "SELECT\n",
                "  S.companyname AS supplier, S.country,\n",
                "  P.productid, P.productname, P.unitprice\n",
                "FROM Production.Suppliers AS S\n",
                "  LEFT OUTER JOIN Production.Products AS P\n",
                "    ON S.supplierid = P.supplierid\n",
                "   AND S.country = N'Japan';"
            ],
            "metadata": {
                "language": "sql",
                "azdata_cell_guid": "716ee1c9-d93e-4d66-ba68-04746de15fe8"
            },
            "outputs": [],
            "execution_count": null
        },
        {
            "cell_type": "markdown",
            "source": [
                "## Exercise 2\n",
                "\n",
                "Repeat exercise 1, but this time include emplyees with no manager."
            ],
            "metadata": {
                "language": "sql",
                "azdata_cell_guid": "cfb5e837-609c-4eee-8ace-c8c9e7207b5c"
            },
            "attachments": {}
        },
        {
            "cell_type": "markdown",
            "source": [
                "## Exercise 3\n",
                "In the above supplier production join, include product category from `Production.Categories` table with another inner join. "
            ],
            "metadata": {
                "language": "sql",
                "azdata_cell_guid": "ca4e7678-8412-4f7e-8c76-0c379de94b2f"
            },
            "attachments": {}
        }
    ]
}