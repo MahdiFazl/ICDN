{
    "metadata": {
        "kernelspec": {
            "name": "SQL",
            "display_name": "SQL",
            "language": "sql"
        },
        "language_info": {
            "name": "sql",
            "version": ""
        }
    },
    "nbformat_minor": 2,
    "nbformat": 4,
    "cells": [
        {
            "cell_type": "markdown",
            "source": [
                "# Basics: Filtering and sorting"
            ],
            "metadata": {
                "azdata_cell_guid": "9b815ff0-9b05-4404-a091-ca945dd9fd73"
            },
            "attachments": {}
        },
        {
            "cell_type": "code",
            "source": [
                "USE TSQL2012;"
            ],
            "metadata": {
                "azdata_cell_guid": "9f21c923-8efd-4750-a3e7-15725df165b4",
                "language": "sql"
            },
            "outputs": [
                {
                    "output_type": "display_data",
                    "data": {
                        "text/html": "Commands completed successfully."
                    },
                    "metadata": {}
                },
                {
                    "output_type": "display_data",
                    "data": {
                        "text/html": "Total execution time: 00:00:00.045"
                    },
                    "metadata": {}
                }
            ],
            "execution_count": 1
        },
        {
            "cell_type": "code",
            "source": [
                "-- employees from the United States\n",
                "select *\n",
                "--تست\n",
                "from hr.employees\n",
                "SELECT empid, firstname, lastname, country, region, city\n",
                "FROM HR.Employees\n",
                "--WHERE region = 'WA';"
            ],
            "metadata": {
                "azdata_cell_guid": "f8c74935-469b-4343-801f-5151f0f1b028",
                "language": "sql"
            },
            "outputs": [
                {
                    "output_type": "display_data",
                    "data": {
                        "text/html": "(9 rows affected)"
                    },
                    "metadata": {}
                },
                {
                    "output_type": "display_data",
                    "data": {
                        "text/html": "(9 rows affected)"
                    },
                    "metadata": {}
                },
                {
                    "output_type": "display_data",
                    "data": {
                        "text/html": "Total execution time: 00:00:00.061"
                    },
                    "metadata": {}
                },
                {
                    "output_type": "execute_result",
                    "metadata": {},
                    "execution_count": 9,
                    "data": {
                        "application/vnd.dataresource+json": {
                            "schema": {
                                "fields": [
                                    {
                                        "name": "empid"
                                    },
                                    {
                                        "name": "lastname"
                                    },
                                    {
                                        "name": "firstname"
                                    },
                                    {
                                        "name": "title"
                                    },
                                    {
                                        "name": "titleofcourtesy"
                                    },
                                    {
                                        "name": "birthdate"
                                    },
                                    {
                                        "name": "hiredate"
                                    },
                                    {
                                        "name": "address"
                                    },
                                    {
                                        "name": "city"
                                    },
                                    {
                                        "name": "region"
                                    },
                                    {
                                        "name": "postalcode"
                                    },
                                    {
                                        "name": "country"
                                    },
                                    {
                                        "name": "phone"
                                    },
                                    {
                                        "name": "mgrid"
                                    }
                                ]
                            },
                            "data": [
                                {
                                    "empid": "1",
                                    "lastname": "Davis",
                                    "firstname": "Sara",
                                    "title": "CEO",
                                    "titleofcourtesy": "Ms.",
                                    "birthdate": "1337-09-17 00:00:00.000",
                                    "hiredate": "1381-02-11 00:00:00.000",
                                    "address": "7890 - 20th Ave. E., Apt. 2A",
                                    "city": "Seattle",
                                    "region": "WA",
                                    "postalcode": "10003",
                                    "country": "USA",
                                    "phone": "(206) 555-0101",
                                    "mgrid": "NULL"
                                },
                                {
                                    "empid": "2",
                                    "lastname": "Funk",
                                    "firstname": "Don",
                                    "title": "Vice President, Sales",
                                    "titleofcourtesy": "Dr.",
                                    "birthdate": "1340-11-30 00:00:00.000",
                                    "hiredate": "1381-05-23 00:00:00.000",
                                    "address": "9012 W. Capital Way",
                                    "city": "Tacoma",
                                    "region": "WA",
                                    "postalcode": "10001",
                                    "country": "USA",
                                    "phone": "(206) 555-0100",
                                    "mgrid": "1"
                                },
                                {
                                    "empid": "3",
                                    "lastname": "Lew",
                                    "firstname": "Judy",
                                    "title": "Sales Manager",
                                    "titleofcourtesy": "Ms.",
                                    "birthdate": "1352-06-08 00:00:00.000",
                                    "hiredate": "1381-01-12 00:00:00.000",
                                    "address": "2345 Moss Bay Blvd.",
                                    "city": "Kirkland",
                                    "region": "WA",
                                    "postalcode": "10007",
                                    "country": "USA",
                                    "phone": "(206) 555-0103",
                                    "mgrid": "2"
                                },
                                {
                                    "empid": "4",
                                    "lastname": "Peled",
                                    "firstname": "Yael",
                                    "title": "Sales Representative",
                                    "titleofcourtesy": "Mrs.",
                                    "birthdate": "1326-06-27 00:00:00.000",
                                    "hiredate": "1382-02-13 00:00:00.000",
                                    "address": "5678 Old Redmond Rd.",
                                    "city": "Redmond",
                                    "region": "WA",
                                    "postalcode": "10009",
                                    "country": "USA",
                                    "phone": "(206) 555-0104",
                                    "mgrid": "3"
                                },
                                {
                                    "empid": "5",
                                    "lastname": "Buck",
                                    "firstname": "Sven",
                                    "title": "Sales Manager",
                                    "titleofcourtesy": "Mr.",
                                    "birthdate": "1343-12-13 00:00:00.000",
                                    "hiredate": "1382-07-25 00:00:00.000",
                                    "address": "8901 Garrett Hill",
                                    "city": "London",
                                    "region": "NULL",
                                    "postalcode": "10004",
                                    "country": "UK",
                                    "phone": "(71) 234-5678",
                                    "mgrid": "2"
                                },
                                {
                                    "empid": "6",
                                    "lastname": "Suurs",
                                    "firstname": "Paul",
                                    "title": "Sales Representative",
                                    "titleofcourtesy": "Mr.",
                                    "birthdate": "1352-04-11 00:00:00.000",
                                    "hiredate": "1382-07-25 00:00:00.000",
                                    "address": "3456 Coventry House, Miner Rd.",
                                    "city": "London",
                                    "region": "NULL",
                                    "postalcode": "10005",
                                    "country": "UK",
                                    "phone": "(71) 345-6789",
                                    "mgrid": "5"
                                },
                                {
                                    "empid": "7",
                                    "lastname": "King",
                                    "firstname": "Russell",
                                    "title": "Sales Representative",
                                    "titleofcourtesy": "Mr.",
                                    "birthdate": "1349-03-08 00:00:00.000",
                                    "hiredate": "1382-10-12 00:00:00.000",
                                    "address": "6789 Edgeham Hollow, Winchester Way",
                                    "city": "London",
                                    "region": "NULL",
                                    "postalcode": "10002",
                                    "country": "UK",
                                    "phone": "(71) 123-4567",
                                    "mgrid": "5"
                                },
                                {
                                    "empid": "8",
                                    "lastname": "Cameron",
                                    "firstname": "Maria",
                                    "title": "Sales Representative",
                                    "titleofcourtesy": "Ms.",
                                    "birthdate": "1346-10-19 00:00:00.000",
                                    "hiredate": "1382-12-15 00:00:00.000",
                                    "address": "4567 - 11th Ave. N.E.",
                                    "city": "Seattle",
                                    "region": "WA",
                                    "postalcode": "10006",
                                    "country": "USA",
                                    "phone": "(206) 555-0102",
                                    "mgrid": "3"
                                },
                                {
                                    "empid": "9",
                                    "lastname": "Dolgopyatova",
                                    "firstname": "Zoya",
                                    "title": "Sales Representative",
                                    "titleofcourtesy": "Ms.",
                                    "birthdate": "1354-11-07 00:00:00.000",
                                    "hiredate": "1383-08-25 00:00:00.000",
                                    "address": "1234 Houndstooth Rd.",
                                    "city": "London",
                                    "region": "NULL",
                                    "postalcode": "10008",
                                    "country": "UK",
                                    "phone": "(71) 456-7890",
                                    "mgrid": "5"
                                }
                            ]
                        },
                        "text/html": [
                            "<table>",
                            "<tr><th>empid</th><th>lastname</th><th>firstname</th><th>title</th><th>titleofcourtesy</th><th>birthdate</th><th>hiredate</th><th>address</th><th>city</th><th>region</th><th>postalcode</th><th>country</th><th>phone</th><th>mgrid</th></tr>",
                            "<tr><td>1</td><td>Davis</td><td>Sara</td><td>CEO</td><td>Ms.</td><td>1337-09-17 00:00:00.000</td><td>1381-02-11 00:00:00.000</td><td>7890 - 20th Ave. E., Apt. 2A</td><td>Seattle</td><td>WA</td><td>10003</td><td>USA</td><td>(206) 555-0101</td><td>NULL</td></tr>",
                            "<tr><td>2</td><td>Funk</td><td>Don</td><td>Vice President, Sales</td><td>Dr.</td><td>1340-11-30 00:00:00.000</td><td>1381-05-23 00:00:00.000</td><td>9012 W. Capital Way</td><td>Tacoma</td><td>WA</td><td>10001</td><td>USA</td><td>(206) 555-0100</td><td>1</td></tr>",
                            "<tr><td>3</td><td>Lew</td><td>Judy</td><td>Sales Manager</td><td>Ms.</td><td>1352-06-08 00:00:00.000</td><td>1381-01-12 00:00:00.000</td><td>2345 Moss Bay Blvd.</td><td>Kirkland</td><td>WA</td><td>10007</td><td>USA</td><td>(206) 555-0103</td><td>2</td></tr>",
                            "<tr><td>4</td><td>Peled</td><td>Yael</td><td>Sales Representative</td><td>Mrs.</td><td>1326-06-27 00:00:00.000</td><td>1382-02-13 00:00:00.000</td><td>5678 Old Redmond Rd.</td><td>Redmond</td><td>WA</td><td>10009</td><td>USA</td><td>(206) 555-0104</td><td>3</td></tr>",
                            "<tr><td>5</td><td>Buck</td><td>Sven</td><td>Sales Manager</td><td>Mr.</td><td>1343-12-13 00:00:00.000</td><td>1382-07-25 00:00:00.000</td><td>8901 Garrett Hill</td><td>London</td><td>NULL</td><td>10004</td><td>UK</td><td>(71) 234-5678</td><td>2</td></tr>",
                            "<tr><td>6</td><td>Suurs</td><td>Paul</td><td>Sales Representative</td><td>Mr.</td><td>1352-04-11 00:00:00.000</td><td>1382-07-25 00:00:00.000</td><td>3456 Coventry House, Miner Rd.</td><td>London</td><td>NULL</td><td>10005</td><td>UK</td><td>(71) 345-6789</td><td>5</td></tr>",
                            "<tr><td>7</td><td>King</td><td>Russell</td><td>Sales Representative</td><td>Mr.</td><td>1349-03-08 00:00:00.000</td><td>1382-10-12 00:00:00.000</td><td>6789 Edgeham Hollow, Winchester Way</td><td>London</td><td>NULL</td><td>10002</td><td>UK</td><td>(71) 123-4567</td><td>5</td></tr>",
                            "<tr><td>8</td><td>Cameron</td><td>Maria</td><td>Sales Representative</td><td>Ms.</td><td>1346-10-19 00:00:00.000</td><td>1382-12-15 00:00:00.000</td><td>4567 - 11th Ave. N.E.</td><td>Seattle</td><td>WA</td><td>10006</td><td>USA</td><td>(206) 555-0102</td><td>3</td></tr>",
                            "<tr><td>9</td><td>Dolgopyatova</td><td>Zoya</td><td>Sales Representative</td><td>Ms.</td><td>1354-11-07 00:00:00.000</td><td>1383-08-25 00:00:00.000</td><td>1234 Houndstooth Rd.</td><td>London</td><td>NULL</td><td>10008</td><td>UK</td><td>(71) 456-7890</td><td>5</td></tr>",
                            "</table>"
                        ]
                    }
                },
                {
                    "output_type": "execute_result",
                    "metadata": {},
                    "execution_count": 9,
                    "data": {
                        "application/vnd.dataresource+json": {
                            "schema": {
                                "fields": [
                                    {
                                        "name": "empid"
                                    },
                                    {
                                        "name": "firstname"
                                    },
                                    {
                                        "name": "lastname"
                                    },
                                    {
                                        "name": "country"
                                    },
                                    {
                                        "name": "region"
                                    },
                                    {
                                        "name": "city"
                                    }
                                ]
                            },
                            "data": [
                                {
                                    "empid": "1",
                                    "firstname": "Sara",
                                    "lastname": "Davis",
                                    "country": "USA",
                                    "region": "WA",
                                    "city": "Seattle"
                                },
                                {
                                    "empid": "2",
                                    "firstname": "Don",
                                    "lastname": "Funk",
                                    "country": "USA",
                                    "region": "WA",
                                    "city": "Tacoma"
                                },
                                {
                                    "empid": "3",
                                    "firstname": "Judy",
                                    "lastname": "Lew",
                                    "country": "USA",
                                    "region": "WA",
                                    "city": "Kirkland"
                                },
                                {
                                    "empid": "4",
                                    "firstname": "Yael",
                                    "lastname": "Peled",
                                    "country": "USA",
                                    "region": "WA",
                                    "city": "Redmond"
                                },
                                {
                                    "empid": "5",
                                    "firstname": "Sven",
                                    "lastname": "Buck",
                                    "country": "UK",
                                    "region": "NULL",
                                    "city": "London"
                                },
                                {
                                    "empid": "6",
                                    "firstname": "Paul",
                                    "lastname": "Suurs",
                                    "country": "UK",
                                    "region": "NULL",
                                    "city": "London"
                                },
                                {
                                    "empid": "7",
                                    "firstname": "Russell",
                                    "lastname": "King",
                                    "country": "UK",
                                    "region": "NULL",
                                    "city": "London"
                                },
                                {
                                    "empid": "8",
                                    "firstname": "Maria",
                                    "lastname": "Cameron",
                                    "country": "USA",
                                    "region": "WA",
                                    "city": "Seattle"
                                },
                                {
                                    "empid": "9",
                                    "firstname": "Zoya",
                                    "lastname": "Dolgopyatova",
                                    "country": "UK",
                                    "region": "NULL",
                                    "city": "London"
                                }
                            ]
                        },
                        "text/html": [
                            "<table>",
                            "<tr><th>empid</th><th>firstname</th><th>lastname</th><th>country</th><th>region</th><th>city</th></tr>",
                            "<tr><td>1</td><td>Sara</td><td>Davis</td><td>USA</td><td>WA</td><td>Seattle</td></tr>",
                            "<tr><td>2</td><td>Don</td><td>Funk</td><td>USA</td><td>WA</td><td>Tacoma</td></tr>",
                            "<tr><td>3</td><td>Judy</td><td>Lew</td><td>USA</td><td>WA</td><td>Kirkland</td></tr>",
                            "<tr><td>4</td><td>Yael</td><td>Peled</td><td>USA</td><td>WA</td><td>Redmond</td></tr>",
                            "<tr><td>5</td><td>Sven</td><td>Buck</td><td>UK</td><td>NULL</td><td>London</td></tr>",
                            "<tr><td>6</td><td>Paul</td><td>Suurs</td><td>UK</td><td>NULL</td><td>London</td></tr>",
                            "<tr><td>7</td><td>Russell</td><td>King</td><td>UK</td><td>NULL</td><td>London</td></tr>",
                            "<tr><td>8</td><td>Maria</td><td>Cameron</td><td>USA</td><td>WA</td><td>Seattle</td></tr>",
                            "<tr><td>9</td><td>Zoya</td><td>Dolgopyatova</td><td>UK</td><td>NULL</td><td>London</td></tr>",
                            "</table>"
                        ]
                    }
                }
            ],
            "execution_count": 9
        },
        {
            "cell_type": "markdown",
            "source": [
                "### **Exercise 1**\n",
                "\n",
                "Select employees from Washington State (columns `regions`)"
            ],
            "metadata": {
                "language": "sql",
                "azdata_cell_guid": "87d251e7-d632-4514-a0c3-307e8b275f00"
            },
            "attachments": {}
        },
        {
            "cell_type": "code",
            "source": [
                "-- employees that are not from Washington State\n",
                "SELECT empid, firstname, lastname, country, region, city\n",
                "FROM HR.Employees\n",
                "WHERE city <> N'Seattle';"
            ],
            "metadata": {
                "azdata_cell_guid": "233b9b6e-0870-4b84-80e0-fc626ac03f19",
                "language": "sql"
            },
            "outputs": [
                {
                    "output_type": "display_data",
                    "data": {
                        "text/html": "(7 rows affected)"
                    },
                    "metadata": {}
                },
                {
                    "output_type": "display_data",
                    "data": {
                        "text/html": "Total execution time: 00:00:00.051"
                    },
                    "metadata": {}
                },
                {
                    "output_type": "execute_result",
                    "metadata": {},
                    "execution_count": 6,
                    "data": {
                        "application/vnd.dataresource+json": {
                            "schema": {
                                "fields": [
                                    {
                                        "name": "empid"
                                    },
                                    {
                                        "name": "firstname"
                                    },
                                    {
                                        "name": "lastname"
                                    },
                                    {
                                        "name": "country"
                                    },
                                    {
                                        "name": "region"
                                    },
                                    {
                                        "name": "city"
                                    }
                                ]
                            },
                            "data": [
                                {
                                    "empid": "2",
                                    "firstname": "Don",
                                    "lastname": "Funk",
                                    "country": "USA",
                                    "region": "WA",
                                    "city": "Tacoma"
                                },
                                {
                                    "empid": "3",
                                    "firstname": "Judy",
                                    "lastname": "Lew",
                                    "country": "USA",
                                    "region": "WA",
                                    "city": "Kirkland"
                                },
                                {
                                    "empid": "4",
                                    "firstname": "Yael",
                                    "lastname": "Peled",
                                    "country": "USA",
                                    "region": "WA",
                                    "city": "Redmond"
                                },
                                {
                                    "empid": "5",
                                    "firstname": "Sven",
                                    "lastname": "Buck",
                                    "country": "UK",
                                    "region": "NULL",
                                    "city": "London"
                                },
                                {
                                    "empid": "6",
                                    "firstname": "Paul",
                                    "lastname": "Suurs",
                                    "country": "UK",
                                    "region": "NULL",
                                    "city": "London"
                                },
                                {
                                    "empid": "7",
                                    "firstname": "Russell",
                                    "lastname": "King",
                                    "country": "UK",
                                    "region": "NULL",
                                    "city": "London"
                                },
                                {
                                    "empid": "9",
                                    "firstname": "Zoya",
                                    "lastname": "Dolgopyatova",
                                    "country": "UK",
                                    "region": "NULL",
                                    "city": "London"
                                }
                            ]
                        },
                        "text/html": [
                            "<table>",
                            "<tr><th>empid</th><th>firstname</th><th>lastname</th><th>country</th><th>region</th><th>city</th></tr>",
                            "<tr><td>2</td><td>Don</td><td>Funk</td><td>USA</td><td>WA</td><td>Tacoma</td></tr>",
                            "<tr><td>3</td><td>Judy</td><td>Lew</td><td>USA</td><td>WA</td><td>Kirkland</td></tr>",
                            "<tr><td>4</td><td>Yael</td><td>Peled</td><td>USA</td><td>WA</td><td>Redmond</td></tr>",
                            "<tr><td>5</td><td>Sven</td><td>Buck</td><td>UK</td><td>NULL</td><td>London</td></tr>",
                            "<tr><td>6</td><td>Paul</td><td>Suurs</td><td>UK</td><td>NULL</td><td>London</td></tr>",
                            "<tr><td>7</td><td>Russell</td><td>King</td><td>UK</td><td>NULL</td><td>London</td></tr>",
                            "<tr><td>9</td><td>Zoya</td><td>Dolgopyatova</td><td>UK</td><td>NULL</td><td>London</td></tr>",
                            "</table>"
                        ]
                    }
                }
            ],
            "execution_count": 6
        },
        {
            "cell_type": "code",
            "source": [
                "-- employees that are not from Washington State, resolving the NULL problem\n",
                "SELECT empid, firstname, lastname, country, region, city\n",
                "FROM HR.Employees\n",
                "WHERE region <> N'WA'\n",
                "   OR region IS NULL;"
            ],
            "metadata": {
                "azdata_cell_guid": "3efd695e-d82a-4060-bb1d-52aafe99d637",
                "language": "sql",
                "tags": []
            },
            "outputs": [],
            "execution_count": null
        },
        {
            "cell_type": "markdown",
            "source": [
                "# Filtering Character Data"
            ],
            "metadata": {
                "azdata_cell_guid": "6b209730-0744-4edb-b73d-b84415068c5d",
                "language": "sql"
            },
            "attachments": {}
        },
        {
            "cell_type": "code",
            "source": [
                "-- regular character string\n",
                "SELECT empid, firstname, lastname\n",
                "FROM HR.Employees\n",
                "WHERE lastname = 'Davis';\n",
                "\n",
                "-- Unicode character string\n",
                "SELECT empid, firstname, lastname\n",
                "FROM HR.Employees\n",
                "WHERE lastname = N'Davis';\n",
                "\n",
                "-- employees whose last name starts with the letter D.\n",
                "SELECT empid, firstname, lastname\n",
                "FROM HR.Employees\n",
                "WHERE lastname LIKE N'D%';\n"
            ],
            "metadata": {
                "azdata_cell_guid": "06e327e7-b9e8-4db9-a574-dd8bd450ef0b",
                "language": "sql"
            },
            "outputs": [
                {
                    "output_type": "display_data",
                    "data": {
                        "text/html": "(1 row affected)"
                    },
                    "metadata": {}
                },
                {
                    "output_type": "display_data",
                    "data": {
                        "text/html": "(1 row affected)"
                    },
                    "metadata": {}
                },
                {
                    "output_type": "display_data",
                    "data": {
                        "text/html": "(2 rows affected)"
                    },
                    "metadata": {}
                },
                {
                    "output_type": "display_data",
                    "data": {
                        "text/html": "Total execution time: 00:00:00.079"
                    },
                    "metadata": {}
                },
                {
                    "output_type": "execute_result",
                    "metadata": {},
                    "execution_count": 7,
                    "data": {
                        "application/vnd.dataresource+json": {
                            "schema": {
                                "fields": [
                                    {
                                        "name": "empid"
                                    },
                                    {
                                        "name": "firstname"
                                    },
                                    {
                                        "name": "lastname"
                                    }
                                ]
                            },
                            "data": [
                                {
                                    "empid": "1",
                                    "firstname": "Sara",
                                    "lastname": "Davis"
                                }
                            ]
                        },
                        "text/html": [
                            "<table>",
                            "<tr><th>empid</th><th>firstname</th><th>lastname</th></tr>",
                            "<tr><td>1</td><td>Sara</td><td>Davis</td></tr>",
                            "</table>"
                        ]
                    }
                },
                {
                    "output_type": "execute_result",
                    "metadata": {},
                    "execution_count": 7,
                    "data": {
                        "application/vnd.dataresource+json": {
                            "schema": {
                                "fields": [
                                    {
                                        "name": "empid"
                                    },
                                    {
                                        "name": "firstname"
                                    },
                                    {
                                        "name": "lastname"
                                    }
                                ]
                            },
                            "data": [
                                {
                                    "empid": "1",
                                    "firstname": "Sara",
                                    "lastname": "Davis"
                                }
                            ]
                        },
                        "text/html": [
                            "<table>",
                            "<tr><th>empid</th><th>firstname</th><th>lastname</th></tr>",
                            "<tr><td>1</td><td>Sara</td><td>Davis</td></tr>",
                            "</table>"
                        ]
                    }
                },
                {
                    "output_type": "execute_result",
                    "metadata": {},
                    "execution_count": 7,
                    "data": {
                        "application/vnd.dataresource+json": {
                            "schema": {
                                "fields": [
                                    {
                                        "name": "empid"
                                    },
                                    {
                                        "name": "firstname"
                                    },
                                    {
                                        "name": "lastname"
                                    }
                                ]
                            },
                            "data": [
                                {
                                    "empid": "1",
                                    "firstname": "Sara",
                                    "lastname": "Davis"
                                },
                                {
                                    "empid": "9",
                                    "firstname": "Zoya",
                                    "lastname": "Dolgopyatova"
                                }
                            ]
                        },
                        "text/html": [
                            "<table>",
                            "<tr><th>empid</th><th>firstname</th><th>lastname</th></tr>",
                            "<tr><td>1</td><td>Sara</td><td>Davis</td></tr>",
                            "<tr><td>9</td><td>Zoya</td><td>Dolgopyatova</td></tr>",
                            "</table>"
                        ]
                    }
                }
            ],
            "execution_count": 7
        },
        {
            "cell_type": "markdown",
            "source": [
                "## Exercise 2\n",
                "Get all employees in the Sales department (use the `title` column)"
            ],
            "metadata": {
                "language": "sql",
                "azdata_cell_guid": "f7d08473-9364-4b46-ac1e-e89508897108"
            },
            "attachments": {}
        },
        {
            "cell_type": "code",
            "source": [
                ""
            ],
            "metadata": {
                "language": "sql",
                "azdata_cell_guid": "bfd673a0-9680-4124-93c7-0775d746c798"
            },
            "outputs": [],
            "execution_count": null
        },
        {
            "cell_type": "markdown",
            "source": [
                "# Filtering Date and Time Data"
            ],
            "metadata": {
                "azdata_cell_guid": "cd0dc8d1-8d14-45bd-b066-2c160ffc39f6",
                "language": "sql"
            },
            "attachments": {}
        },
        {
            "cell_type": "code",
            "source": [
                "-- language-dependent literal\n",
                "SELECT orderid, orderdate, empid, custid\n",
                "FROM Sales.Orders\n",
                "WHERE orderdate = '02/12/07';\n",
                "\n",
                "-- language-neutral literal\n",
                "SELECT orderid, orderdate, empid, custid\n",
                "FROM Sales.Orders\n",
                "WHERE orderdate = '20070212';\n",
                "\n",
                "-- not SARG\n",
                "-- Note the LHS\n",
                "SELECT orderid, orderdate, empid, custid\n",
                "FROM Sales.Orders\n",
                "WHERE YEAR(orderdate) = 2007 AND MONTH(orderdate) = 2;\n",
                "\n",
                "-- SARG\n",
                "SELECT orderid, orderdate, empid, custid\n",
                "FROM Sales.Orders\n",
                "WHERE orderdate >= '20070201' AND orderdate < '20070301';"
            ],
            "metadata": {
                "azdata_cell_guid": "be6e00da-3fbd-45db-9595-c1524c172228",
                "language": "sql"
            },
            "outputs": [
                {
                    "output_type": "display_data",
                    "data": {
                        "text/html": "(2 rows affected)"
                    },
                    "metadata": {}
                },
                {
                    "output_type": "display_data",
                    "data": {
                        "text/html": "(2 rows affected)"
                    },
                    "metadata": {}
                },
                {
                    "output_type": "display_data",
                    "data": {
                        "text/html": "(29 rows affected)"
                    },
                    "metadata": {}
                },
                {
                    "output_type": "display_data",
                    "data": {
                        "text/html": "(29 rows affected)"
                    },
                    "metadata": {}
                },
                {
                    "output_type": "display_data",
                    "data": {
                        "text/html": "Total execution time: 00:00:00.096"
                    },
                    "metadata": {}
                },
                {
                    "output_type": "execute_result",
                    "metadata": {},
                    "execution_count": 10,
                    "data": {
                        "application/vnd.dataresource+json": {
                            "schema": {
                                "fields": [
                                    {
                                        "name": "orderid"
                                    },
                                    {
                                        "name": "orderdate"
                                    },
                                    {
                                        "name": "empid"
                                    },
                                    {
                                        "name": "custid"
                                    }
                                ]
                            },
                            "data": [
                                {
                                    "orderid": "10443",
                                    "orderdate": "1385-11-23 00:00:00.000",
                                    "empid": "8",
                                    "custid": "66"
                                },
                                {
                                    "orderid": "10444",
                                    "orderdate": "1385-11-23 00:00:00.000",
                                    "empid": "3",
                                    "custid": "5"
                                }
                            ]
                        },
                        "text/html": [
                            "<table>",
                            "<tr><th>orderid</th><th>orderdate</th><th>empid</th><th>custid</th></tr>",
                            "<tr><td>10443</td><td>1385-11-23 00:00:00.000</td><td>8</td><td>66</td></tr>",
                            "<tr><td>10444</td><td>1385-11-23 00:00:00.000</td><td>3</td><td>5</td></tr>",
                            "</table>"
                        ]
                    }
                },
                {
                    "output_type": "execute_result",
                    "metadata": {},
                    "execution_count": 10,
                    "data": {
                        "application/vnd.dataresource+json": {
                            "schema": {
                                "fields": [
                                    {
                                        "name": "orderid"
                                    },
                                    {
                                        "name": "orderdate"
                                    },
                                    {
                                        "name": "empid"
                                    },
                                    {
                                        "name": "custid"
                                    }
                                ]
                            },
                            "data": [
                                {
                                    "orderid": "10443",
                                    "orderdate": "1385-11-23 00:00:00.000",
                                    "empid": "8",
                                    "custid": "66"
                                },
                                {
                                    "orderid": "10444",
                                    "orderdate": "1385-11-23 00:00:00.000",
                                    "empid": "3",
                                    "custid": "5"
                                }
                            ]
                        },
                        "text/html": [
                            "<table>",
                            "<tr><th>orderid</th><th>orderdate</th><th>empid</th><th>custid</th></tr>",
                            "<tr><td>10443</td><td>1385-11-23 00:00:00.000</td><td>8</td><td>66</td></tr>",
                            "<tr><td>10444</td><td>1385-11-23 00:00:00.000</td><td>3</td><td>5</td></tr>",
                            "</table>"
                        ]
                    }
                },
                {
                    "output_type": "execute_result",
                    "metadata": {},
                    "execution_count": 10,
                    "data": {
                        "application/vnd.dataresource+json": {
                            "schema": {
                                "fields": [
                                    {
                                        "name": "orderid"
                                    },
                                    {
                                        "name": "orderdate"
                                    },
                                    {
                                        "name": "empid"
                                    },
                                    {
                                        "name": "custid"
                                    }
                                ]
                            },
                            "data": [
                                {
                                    "orderid": "10433",
                                    "orderdate": "1385-11-14 00:00:00.000",
                                    "empid": "3",
                                    "custid": "60"
                                },
                                {
                                    "orderid": "10434",
                                    "orderdate": "1385-11-14 00:00:00.000",
                                    "empid": "3",
                                    "custid": "24"
                                },
                                {
                                    "orderid": "10435",
                                    "orderdate": "1385-11-15 00:00:00.000",
                                    "empid": "8",
                                    "custid": "16"
                                },
                                {
                                    "orderid": "10436",
                                    "orderdate": "1385-11-16 00:00:00.000",
                                    "empid": "3",
                                    "custid": "7"
                                },
                                {
                                    "orderid": "10437",
                                    "orderdate": "1385-11-16 00:00:00.000",
                                    "empid": "8",
                                    "custid": "87"
                                },
                                {
                                    "orderid": "10438",
                                    "orderdate": "1385-11-17 00:00:00.000",
                                    "empid": "3",
                                    "custid": "79"
                                },
                                {
                                    "orderid": "10439",
                                    "orderdate": "1385-11-18 00:00:00.000",
                                    "empid": "6",
                                    "custid": "51"
                                },
                                {
                                    "orderid": "10440",
                                    "orderdate": "1385-11-21 00:00:00.000",
                                    "empid": "4",
                                    "custid": "71"
                                },
                                {
                                    "orderid": "10441",
                                    "orderdate": "1385-11-21 00:00:00.000",
                                    "empid": "3",
                                    "custid": "55"
                                },
                                {
                                    "orderid": "10442",
                                    "orderdate": "1385-11-22 00:00:00.000",
                                    "empid": "3",
                                    "custid": "20"
                                },
                                {
                                    "orderid": "10443",
                                    "orderdate": "1385-11-23 00:00:00.000",
                                    "empid": "8",
                                    "custid": "66"
                                },
                                {
                                    "orderid": "10444",
                                    "orderdate": "1385-11-23 00:00:00.000",
                                    "empid": "3",
                                    "custid": "5"
                                },
                                {
                                    "orderid": "10445",
                                    "orderdate": "1385-11-24 00:00:00.000",
                                    "empid": "3",
                                    "custid": "5"
                                },
                                {
                                    "orderid": "10446",
                                    "orderdate": "1385-11-25 00:00:00.000",
                                    "empid": "6",
                                    "custid": "79"
                                },
                                {
                                    "orderid": "10447",
                                    "orderdate": "1385-11-25 00:00:00.000",
                                    "empid": "4",
                                    "custid": "67"
                                },
                                {
                                    "orderid": "10448",
                                    "orderdate": "1385-11-28 00:00:00.000",
                                    "empid": "4",
                                    "custid": "64"
                                },
                                {
                                    "orderid": "10449",
                                    "orderdate": "1385-11-29 00:00:00.000",
                                    "empid": "3",
                                    "custid": "7"
                                },
                                {
                                    "orderid": "10450",
                                    "orderdate": "1385-11-30 00:00:00.000",
                                    "empid": "8",
                                    "custid": "84"
                                },
                                {
                                    "orderid": "10451",
                                    "orderdate": "1385-11-30 00:00:00.000",
                                    "empid": "4",
                                    "custid": "63"
                                },
                                {
                                    "orderid": "10452",
                                    "orderdate": "1385-12-01 00:00:00.000",
                                    "empid": "8",
                                    "custid": "71"
                                },
                                {
                                    "orderid": "10453",
                                    "orderdate": "1385-12-02 00:00:00.000",
                                    "empid": "1",
                                    "custid": "4"
                                },
                                {
                                    "orderid": "10454",
                                    "orderdate": "1385-12-02 00:00:00.000",
                                    "empid": "4",
                                    "custid": "41"
                                },
                                {
                                    "orderid": "10455",
                                    "orderdate": "1385-12-05 00:00:00.000",
                                    "empid": "8",
                                    "custid": "87"
                                },
                                {
                                    "orderid": "10456",
                                    "orderdate": "1385-12-06 00:00:00.000",
                                    "empid": "8",
                                    "custid": "39"
                                },
                                {
                                    "orderid": "10457",
                                    "orderdate": "1385-12-06 00:00:00.000",
                                    "empid": "2",
                                    "custid": "39"
                                },
                                {
                                    "orderid": "10458",
                                    "orderdate": "1385-12-07 00:00:00.000",
                                    "empid": "7",
                                    "custid": "76"
                                },
                                {
                                    "orderid": "10459",
                                    "orderdate": "1385-12-08 00:00:00.000",
                                    "empid": "4",
                                    "custid": "84"
                                },
                                {
                                    "orderid": "10460",
                                    "orderdate": "1385-12-09 00:00:00.000",
                                    "empid": "8",
                                    "custid": "24"
                                },
                                {
                                    "orderid": "10461",
                                    "orderdate": "1385-12-09 00:00:00.000",
                                    "empid": "1",
                                    "custid": "46"
                                }
                            ]
                        },
                        "text/html": [
                            "<table>",
                            "<tr><th>orderid</th><th>orderdate</th><th>empid</th><th>custid</th></tr>",
                            "<tr><td>10433</td><td>1385-11-14 00:00:00.000</td><td>3</td><td>60</td></tr>",
                            "<tr><td>10434</td><td>1385-11-14 00:00:00.000</td><td>3</td><td>24</td></tr>",
                            "<tr><td>10435</td><td>1385-11-15 00:00:00.000</td><td>8</td><td>16</td></tr>",
                            "<tr><td>10436</td><td>1385-11-16 00:00:00.000</td><td>3</td><td>7</td></tr>",
                            "<tr><td>10437</td><td>1385-11-16 00:00:00.000</td><td>8</td><td>87</td></tr>",
                            "<tr><td>10438</td><td>1385-11-17 00:00:00.000</td><td>3</td><td>79</td></tr>",
                            "<tr><td>10439</td><td>1385-11-18 00:00:00.000</td><td>6</td><td>51</td></tr>",
                            "<tr><td>10440</td><td>1385-11-21 00:00:00.000</td><td>4</td><td>71</td></tr>",
                            "<tr><td>10441</td><td>1385-11-21 00:00:00.000</td><td>3</td><td>55</td></tr>",
                            "<tr><td>10442</td><td>1385-11-22 00:00:00.000</td><td>3</td><td>20</td></tr>",
                            "<tr><td>10443</td><td>1385-11-23 00:00:00.000</td><td>8</td><td>66</td></tr>",
                            "<tr><td>10444</td><td>1385-11-23 00:00:00.000</td><td>3</td><td>5</td></tr>",
                            "<tr><td>10445</td><td>1385-11-24 00:00:00.000</td><td>3</td><td>5</td></tr>",
                            "<tr><td>10446</td><td>1385-11-25 00:00:00.000</td><td>6</td><td>79</td></tr>",
                            "<tr><td>10447</td><td>1385-11-25 00:00:00.000</td><td>4</td><td>67</td></tr>",
                            "<tr><td>10448</td><td>1385-11-28 00:00:00.000</td><td>4</td><td>64</td></tr>",
                            "<tr><td>10449</td><td>1385-11-29 00:00:00.000</td><td>3</td><td>7</td></tr>",
                            "<tr><td>10450</td><td>1385-11-30 00:00:00.000</td><td>8</td><td>84</td></tr>",
                            "<tr><td>10451</td><td>1385-11-30 00:00:00.000</td><td>4</td><td>63</td></tr>",
                            "<tr><td>10452</td><td>1385-12-01 00:00:00.000</td><td>8</td><td>71</td></tr>",
                            "<tr><td>10453</td><td>1385-12-02 00:00:00.000</td><td>1</td><td>4</td></tr>",
                            "<tr><td>10454</td><td>1385-12-02 00:00:00.000</td><td>4</td><td>41</td></tr>",
                            "<tr><td>10455</td><td>1385-12-05 00:00:00.000</td><td>8</td><td>87</td></tr>",
                            "<tr><td>10456</td><td>1385-12-06 00:00:00.000</td><td>8</td><td>39</td></tr>",
                            "<tr><td>10457</td><td>1385-12-06 00:00:00.000</td><td>2</td><td>39</td></tr>",
                            "<tr><td>10458</td><td>1385-12-07 00:00:00.000</td><td>7</td><td>76</td></tr>",
                            "<tr><td>10459</td><td>1385-12-08 00:00:00.000</td><td>4</td><td>84</td></tr>",
                            "<tr><td>10460</td><td>1385-12-09 00:00:00.000</td><td>8</td><td>24</td></tr>",
                            "<tr><td>10461</td><td>1385-12-09 00:00:00.000</td><td>1</td><td>46</td></tr>",
                            "</table>"
                        ]
                    }
                },
                {
                    "output_type": "execute_result",
                    "metadata": {},
                    "execution_count": 10,
                    "data": {
                        "application/vnd.dataresource+json": {
                            "schema": {
                                "fields": [
                                    {
                                        "name": "orderid"
                                    },
                                    {
                                        "name": "orderdate"
                                    },
                                    {
                                        "name": "empid"
                                    },
                                    {
                                        "name": "custid"
                                    }
                                ]
                            },
                            "data": [
                                {
                                    "orderid": "10433",
                                    "orderdate": "1385-11-14 00:00:00.000",
                                    "empid": "3",
                                    "custid": "60"
                                },
                                {
                                    "orderid": "10434",
                                    "orderdate": "1385-11-14 00:00:00.000",
                                    "empid": "3",
                                    "custid": "24"
                                },
                                {
                                    "orderid": "10435",
                                    "orderdate": "1385-11-15 00:00:00.000",
                                    "empid": "8",
                                    "custid": "16"
                                },
                                {
                                    "orderid": "10436",
                                    "orderdate": "1385-11-16 00:00:00.000",
                                    "empid": "3",
                                    "custid": "7"
                                },
                                {
                                    "orderid": "10437",
                                    "orderdate": "1385-11-16 00:00:00.000",
                                    "empid": "8",
                                    "custid": "87"
                                },
                                {
                                    "orderid": "10438",
                                    "orderdate": "1385-11-17 00:00:00.000",
                                    "empid": "3",
                                    "custid": "79"
                                },
                                {
                                    "orderid": "10439",
                                    "orderdate": "1385-11-18 00:00:00.000",
                                    "empid": "6",
                                    "custid": "51"
                                },
                                {
                                    "orderid": "10440",
                                    "orderdate": "1385-11-21 00:00:00.000",
                                    "empid": "4",
                                    "custid": "71"
                                },
                                {
                                    "orderid": "10441",
                                    "orderdate": "1385-11-21 00:00:00.000",
                                    "empid": "3",
                                    "custid": "55"
                                },
                                {
                                    "orderid": "10442",
                                    "orderdate": "1385-11-22 00:00:00.000",
                                    "empid": "3",
                                    "custid": "20"
                                },
                                {
                                    "orderid": "10443",
                                    "orderdate": "1385-11-23 00:00:00.000",
                                    "empid": "8",
                                    "custid": "66"
                                },
                                {
                                    "orderid": "10444",
                                    "orderdate": "1385-11-23 00:00:00.000",
                                    "empid": "3",
                                    "custid": "5"
                                },
                                {
                                    "orderid": "10445",
                                    "orderdate": "1385-11-24 00:00:00.000",
                                    "empid": "3",
                                    "custid": "5"
                                },
                                {
                                    "orderid": "10446",
                                    "orderdate": "1385-11-25 00:00:00.000",
                                    "empid": "6",
                                    "custid": "79"
                                },
                                {
                                    "orderid": "10447",
                                    "orderdate": "1385-11-25 00:00:00.000",
                                    "empid": "4",
                                    "custid": "67"
                                },
                                {
                                    "orderid": "10448",
                                    "orderdate": "1385-11-28 00:00:00.000",
                                    "empid": "4",
                                    "custid": "64"
                                },
                                {
                                    "orderid": "10449",
                                    "orderdate": "1385-11-29 00:00:00.000",
                                    "empid": "3",
                                    "custid": "7"
                                },
                                {
                                    "orderid": "10450",
                                    "orderdate": "1385-11-30 00:00:00.000",
                                    "empid": "8",
                                    "custid": "84"
                                },
                                {
                                    "orderid": "10451",
                                    "orderdate": "1385-11-30 00:00:00.000",
                                    "empid": "4",
                                    "custid": "63"
                                },
                                {
                                    "orderid": "10452",
                                    "orderdate": "1385-12-01 00:00:00.000",
                                    "empid": "8",
                                    "custid": "71"
                                },
                                {
                                    "orderid": "10453",
                                    "orderdate": "1385-12-02 00:00:00.000",
                                    "empid": "1",
                                    "custid": "4"
                                },
                                {
                                    "orderid": "10454",
                                    "orderdate": "1385-12-02 00:00:00.000",
                                    "empid": "4",
                                    "custid": "41"
                                },
                                {
                                    "orderid": "10455",
                                    "orderdate": "1385-12-05 00:00:00.000",
                                    "empid": "8",
                                    "custid": "87"
                                },
                                {
                                    "orderid": "10456",
                                    "orderdate": "1385-12-06 00:00:00.000",
                                    "empid": "8",
                                    "custid": "39"
                                },
                                {
                                    "orderid": "10457",
                                    "orderdate": "1385-12-06 00:00:00.000",
                                    "empid": "2",
                                    "custid": "39"
                                },
                                {
                                    "orderid": "10458",
                                    "orderdate": "1385-12-07 00:00:00.000",
                                    "empid": "7",
                                    "custid": "76"
                                },
                                {
                                    "orderid": "10459",
                                    "orderdate": "1385-12-08 00:00:00.000",
                                    "empid": "4",
                                    "custid": "84"
                                },
                                {
                                    "orderid": "10460",
                                    "orderdate": "1385-12-09 00:00:00.000",
                                    "empid": "8",
                                    "custid": "24"
                                },
                                {
                                    "orderid": "10461",
                                    "orderdate": "1385-12-09 00:00:00.000",
                                    "empid": "1",
                                    "custid": "46"
                                }
                            ]
                        },
                        "text/html": [
                            "<table>",
                            "<tr><th>orderid</th><th>orderdate</th><th>empid</th><th>custid</th></tr>",
                            "<tr><td>10433</td><td>1385-11-14 00:00:00.000</td><td>3</td><td>60</td></tr>",
                            "<tr><td>10434</td><td>1385-11-14 00:00:00.000</td><td>3</td><td>24</td></tr>",
                            "<tr><td>10435</td><td>1385-11-15 00:00:00.000</td><td>8</td><td>16</td></tr>",
                            "<tr><td>10436</td><td>1385-11-16 00:00:00.000</td><td>3</td><td>7</td></tr>",
                            "<tr><td>10437</td><td>1385-11-16 00:00:00.000</td><td>8</td><td>87</td></tr>",
                            "<tr><td>10438</td><td>1385-11-17 00:00:00.000</td><td>3</td><td>79</td></tr>",
                            "<tr><td>10439</td><td>1385-11-18 00:00:00.000</td><td>6</td><td>51</td></tr>",
                            "<tr><td>10440</td><td>1385-11-21 00:00:00.000</td><td>4</td><td>71</td></tr>",
                            "<tr><td>10441</td><td>1385-11-21 00:00:00.000</td><td>3</td><td>55</td></tr>",
                            "<tr><td>10442</td><td>1385-11-22 00:00:00.000</td><td>3</td><td>20</td></tr>",
                            "<tr><td>10443</td><td>1385-11-23 00:00:00.000</td><td>8</td><td>66</td></tr>",
                            "<tr><td>10444</td><td>1385-11-23 00:00:00.000</td><td>3</td><td>5</td></tr>",
                            "<tr><td>10445</td><td>1385-11-24 00:00:00.000</td><td>3</td><td>5</td></tr>",
                            "<tr><td>10446</td><td>1385-11-25 00:00:00.000</td><td>6</td><td>79</td></tr>",
                            "<tr><td>10447</td><td>1385-11-25 00:00:00.000</td><td>4</td><td>67</td></tr>",
                            "<tr><td>10448</td><td>1385-11-28 00:00:00.000</td><td>4</td><td>64</td></tr>",
                            "<tr><td>10449</td><td>1385-11-29 00:00:00.000</td><td>3</td><td>7</td></tr>",
                            "<tr><td>10450</td><td>1385-11-30 00:00:00.000</td><td>8</td><td>84</td></tr>",
                            "<tr><td>10451</td><td>1385-11-30 00:00:00.000</td><td>4</td><td>63</td></tr>",
                            "<tr><td>10452</td><td>1385-12-01 00:00:00.000</td><td>8</td><td>71</td></tr>",
                            "<tr><td>10453</td><td>1385-12-02 00:00:00.000</td><td>1</td><td>4</td></tr>",
                            "<tr><td>10454</td><td>1385-12-02 00:00:00.000</td><td>4</td><td>41</td></tr>",
                            "<tr><td>10455</td><td>1385-12-05 00:00:00.000</td><td>8</td><td>87</td></tr>",
                            "<tr><td>10456</td><td>1385-12-06 00:00:00.000</td><td>8</td><td>39</td></tr>",
                            "<tr><td>10457</td><td>1385-12-06 00:00:00.000</td><td>2</td><td>39</td></tr>",
                            "<tr><td>10458</td><td>1385-12-07 00:00:00.000</td><td>7</td><td>76</td></tr>",
                            "<tr><td>10459</td><td>1385-12-08 00:00:00.000</td><td>4</td><td>84</td></tr>",
                            "<tr><td>10460</td><td>1385-12-09 00:00:00.000</td><td>8</td><td>24</td></tr>",
                            "<tr><td>10461</td><td>1385-12-09 00:00:00.000</td><td>1</td><td>46</td></tr>",
                            "</table>"
                        ]
                    }
                }
            ],
            "execution_count": 10
        },
        {
            "cell_type": "code",
            "source": [
                "-- Side: lets look at the data types for this table\n",
                "select * from INFORMATION_SCHEMA.COLUMNS where TABLE_NAME='Orders'"
            ],
            "metadata": {
                "language": "sql",
                "azdata_cell_guid": "5c9e9b82-d9a7-4bbb-aed4-134938da00ce"
            },
            "outputs": [],
            "execution_count": null
        },
        {
            "cell_type": "markdown",
            "source": [
                "## Exercise 3\n",
                "Get all employees hired in 2002."
            ],
            "metadata": {
                "language": "sql",
                "azdata_cell_guid": "17a7727c-f6ec-4364-a818-29093ed8d0f9"
            },
            "attachments": {}
        },
        {
            "cell_type": "code",
            "source": [
                "select *\r\n",
                "from hr.employees\r\n",
                "WHERE hiredate >= '20020101' and hiredate<'20030101'"
            ],
            "metadata": {
                "language": "sql",
                "azdata_cell_guid": "3415e1a0-0be1-4974-9f0f-4bb8743327ba"
            },
            "outputs": [
                {
                    "output_type": "display_data",
                    "data": {
                        "text/html": "(3 rows affected)"
                    },
                    "metadata": {}
                },
                {
                    "output_type": "display_data",
                    "data": {
                        "text/html": "Total execution time: 00:00:00.068"
                    },
                    "metadata": {}
                },
                {
                    "output_type": "execute_result",
                    "metadata": {},
                    "execution_count": 15,
                    "data": {
                        "application/vnd.dataresource+json": {
                            "schema": {
                                "fields": [
                                    {
                                        "name": "empid"
                                    },
                                    {
                                        "name": "lastname"
                                    },
                                    {
                                        "name": "firstname"
                                    },
                                    {
                                        "name": "title"
                                    },
                                    {
                                        "name": "titleofcourtesy"
                                    },
                                    {
                                        "name": "birthdate"
                                    },
                                    {
                                        "name": "hiredate"
                                    },
                                    {
                                        "name": "address"
                                    },
                                    {
                                        "name": "city"
                                    },
                                    {
                                        "name": "region"
                                    },
                                    {
                                        "name": "postalcode"
                                    },
                                    {
                                        "name": "country"
                                    },
                                    {
                                        "name": "phone"
                                    },
                                    {
                                        "name": "mgrid"
                                    }
                                ]
                            },
                            "data": [
                                {
                                    "empid": "1",
                                    "lastname": "Davis",
                                    "firstname": "Sara",
                                    "title": "CEO",
                                    "titleofcourtesy": "Ms.",
                                    "birthdate": "1337-09-17 00:00:00.000",
                                    "hiredate": "1381-02-11 00:00:00.000",
                                    "address": "7890 - 20th Ave. E., Apt. 2A",
                                    "city": "Seattle",
                                    "region": "WA",
                                    "postalcode": "10003",
                                    "country": "USA",
                                    "phone": "(206) 555-0101",
                                    "mgrid": "NULL"
                                },
                                {
                                    "empid": "2",
                                    "lastname": "Funk",
                                    "firstname": "Don",
                                    "title": "Vice President, Sales",
                                    "titleofcourtesy": "Dr.",
                                    "birthdate": "1340-11-30 00:00:00.000",
                                    "hiredate": "1381-05-23 00:00:00.000",
                                    "address": "9012 W. Capital Way",
                                    "city": "Tacoma",
                                    "region": "WA",
                                    "postalcode": "10001",
                                    "country": "USA",
                                    "phone": "(206) 555-0100",
                                    "mgrid": "1"
                                },
                                {
                                    "empid": "3",
                                    "lastname": "Lew",
                                    "firstname": "Judy",
                                    "title": "Sales Manager",
                                    "titleofcourtesy": "Ms.",
                                    "birthdate": "1352-06-08 00:00:00.000",
                                    "hiredate": "1381-01-12 00:00:00.000",
                                    "address": "2345 Moss Bay Blvd.",
                                    "city": "Kirkland",
                                    "region": "WA",
                                    "postalcode": "10007",
                                    "country": "USA",
                                    "phone": "(206) 555-0103",
                                    "mgrid": "2"
                                }
                            ]
                        },
                        "text/html": [
                            "<table>",
                            "<tr><th>empid</th><th>lastname</th><th>firstname</th><th>title</th><th>titleofcourtesy</th><th>birthdate</th><th>hiredate</th><th>address</th><th>city</th><th>region</th><th>postalcode</th><th>country</th><th>phone</th><th>mgrid</th></tr>",
                            "<tr><td>1</td><td>Davis</td><td>Sara</td><td>CEO</td><td>Ms.</td><td>1337-09-17 00:00:00.000</td><td>1381-02-11 00:00:00.000</td><td>7890 - 20th Ave. E., Apt. 2A</td><td>Seattle</td><td>WA</td><td>10003</td><td>USA</td><td>(206) 555-0101</td><td>NULL</td></tr>",
                            "<tr><td>2</td><td>Funk</td><td>Don</td><td>Vice President, Sales</td><td>Dr.</td><td>1340-11-30 00:00:00.000</td><td>1381-05-23 00:00:00.000</td><td>9012 W. Capital Way</td><td>Tacoma</td><td>WA</td><td>10001</td><td>USA</td><td>(206) 555-0100</td><td>1</td></tr>",
                            "<tr><td>3</td><td>Lew</td><td>Judy</td><td>Sales Manager</td><td>Ms.</td><td>1352-06-08 00:00:00.000</td><td>1381-01-12 00:00:00.000</td><td>2345 Moss Bay Blvd.</td><td>Kirkland</td><td>WA</td><td>10007</td><td>USA</td><td>(206) 555-0103</td><td>2</td></tr>",
                            "</table>"
                        ]
                    }
                }
            ],
            "execution_count": 15
        },
        {
            "cell_type": "markdown",
            "source": [
                "# Sorting Data"
            ],
            "metadata": {
                "azdata_cell_guid": "2b63e92d-45f8-4d11-bfa4-eb2fe15feb0f",
                "language": "sql"
            },
            "attachments": {}
        },
        {
            "cell_type": "code",
            "source": [
                "-- query with no ORDER BY doesn't guarantee presentation ordering\n",
                "SELECT empid, firstname, lastname, city, MONTH(birthdate) AS birthmonth\n",
                "FROM HR.Employees\n",
                "WHERE country = N'USA' AND region = N'WA';\n"
            ],
            "metadata": {
                "azdata_cell_guid": "7aedd9a3-385c-4196-812b-dddd12deb4d9",
                "language": "sql"
            },
            "outputs": [
                {
                    "output_type": "display_data",
                    "data": {
                        "text/html": "(5 rows affected)"
                    },
                    "metadata": {}
                },
                {
                    "output_type": "display_data",
                    "data": {
                        "text/html": "Total execution time: 00:00:00.078"
                    },
                    "metadata": {}
                },
                {
                    "output_type": "execute_result",
                    "metadata": {},
                    "execution_count": 16,
                    "data": {
                        "application/vnd.dataresource+json": {
                            "schema": {
                                "fields": [
                                    {
                                        "name": "empid"
                                    },
                                    {
                                        "name": "firstname"
                                    },
                                    {
                                        "name": "lastname"
                                    },
                                    {
                                        "name": "city"
                                    },
                                    {
                                        "name": "birthmonth"
                                    }
                                ]
                            },
                            "data": [
                                {
                                    "empid": "1",
                                    "firstname": "Sara",
                                    "lastname": "Davis",
                                    "city": "Seattle",
                                    "birthmonth": "12"
                                },
                                {
                                    "empid": "2",
                                    "firstname": "Don",
                                    "lastname": "Funk",
                                    "city": "Tacoma",
                                    "birthmonth": "2"
                                },
                                {
                                    "empid": "3",
                                    "firstname": "Judy",
                                    "lastname": "Lew",
                                    "city": "Kirkland",
                                    "birthmonth": "8"
                                },
                                {
                                    "empid": "4",
                                    "firstname": "Yael",
                                    "lastname": "Peled",
                                    "city": "Redmond",
                                    "birthmonth": "9"
                                },
                                {
                                    "empid": "8",
                                    "firstname": "Maria",
                                    "lastname": "Cameron",
                                    "city": "Seattle",
                                    "birthmonth": "1"
                                }
                            ]
                        },
                        "text/html": [
                            "<table>",
                            "<tr><th>empid</th><th>firstname</th><th>lastname</th><th>city</th><th>birthmonth</th></tr>",
                            "<tr><td>1</td><td>Sara</td><td>Davis</td><td>Seattle</td><td>12</td></tr>",
                            "<tr><td>2</td><td>Don</td><td>Funk</td><td>Tacoma</td><td>2</td></tr>",
                            "<tr><td>3</td><td>Judy</td><td>Lew</td><td>Kirkland</td><td>8</td></tr>",
                            "<tr><td>4</td><td>Yael</td><td>Peled</td><td>Redmond</td><td>9</td></tr>",
                            "<tr><td>8</td><td>Maria</td><td>Cameron</td><td>Seattle</td><td>1</td></tr>",
                            "</table>"
                        ]
                    }
                }
            ],
            "execution_count": 16
        },
        {
            "cell_type": "code",
            "source": [
                "\n",
                "-- Simple ORDER BY example\n",
                "SELECT empid, firstname, lastname, city, MONTH(birthdate) AS birthmonth\n",
                "FROM HR.Employees\n",
                "WHERE country = N'USA' AND region = N'WA'\n",
                "ORDER BY city;"
            ],
            "metadata": {
                "azdata_cell_guid": "b64f9731-e456-4b96-a8a9-ca85faf8f1ba",
                "language": "sql"
            },
            "outputs": [
                {
                    "output_type": "display_data",
                    "data": {
                        "text/html": "(5 rows affected)"
                    },
                    "metadata": {}
                },
                {
                    "output_type": "display_data",
                    "data": {
                        "text/html": "Total execution time: 00:00:00.060"
                    },
                    "metadata": {}
                },
                {
                    "output_type": "execute_result",
                    "metadata": {},
                    "execution_count": 17,
                    "data": {
                        "application/vnd.dataresource+json": {
                            "schema": {
                                "fields": [
                                    {
                                        "name": "empid"
                                    },
                                    {
                                        "name": "firstname"
                                    },
                                    {
                                        "name": "lastname"
                                    },
                                    {
                                        "name": "city"
                                    },
                                    {
                                        "name": "birthmonth"
                                    }
                                ]
                            },
                            "data": [
                                {
                                    "empid": "3",
                                    "firstname": "Judy",
                                    "lastname": "Lew",
                                    "city": "Kirkland",
                                    "birthmonth": "8"
                                },
                                {
                                    "empid": "4",
                                    "firstname": "Yael",
                                    "lastname": "Peled",
                                    "city": "Redmond",
                                    "birthmonth": "9"
                                },
                                {
                                    "empid": "8",
                                    "firstname": "Maria",
                                    "lastname": "Cameron",
                                    "city": "Seattle",
                                    "birthmonth": "1"
                                },
                                {
                                    "empid": "1",
                                    "firstname": "Sara",
                                    "lastname": "Davis",
                                    "city": "Seattle",
                                    "birthmonth": "12"
                                },
                                {
                                    "empid": "2",
                                    "firstname": "Don",
                                    "lastname": "Funk",
                                    "city": "Tacoma",
                                    "birthmonth": "2"
                                }
                            ]
                        },
                        "text/html": [
                            "<table>",
                            "<tr><th>empid</th><th>firstname</th><th>lastname</th><th>city</th><th>birthmonth</th></tr>",
                            "<tr><td>3</td><td>Judy</td><td>Lew</td><td>Kirkland</td><td>8</td></tr>",
                            "<tr><td>4</td><td>Yael</td><td>Peled</td><td>Redmond</td><td>9</td></tr>",
                            "<tr><td>8</td><td>Maria</td><td>Cameron</td><td>Seattle</td><td>1</td></tr>",
                            "<tr><td>1</td><td>Sara</td><td>Davis</td><td>Seattle</td><td>12</td></tr>",
                            "<tr><td>2</td><td>Don</td><td>Funk</td><td>Tacoma</td><td>2</td></tr>",
                            "</table>"
                        ]
                    }
                }
            ],
            "execution_count": 17
        },
        {
            "cell_type": "code",
            "source": [
                "\n",
                "-- use descending order\n",
                "SELECT empid, firstname, lastname, city, MONTH(birthdate) AS birthmonth\n",
                "FROM HR.Employees\n",
                "WHERE country = N'USA' AND region = N'WA'\n",
                "ORDER BY city DESC;--معکوس سورت می کند"
            ],
            "metadata": {
                "azdata_cell_guid": "cf77dbb1-85d2-4f3d-a22d-545901684c50",
                "language": "sql"
            },
            "outputs": [
                {
                    "output_type": "display_data",
                    "data": {
                        "text/html": "(5 rows affected)"
                    },
                    "metadata": {}
                },
                {
                    "output_type": "display_data",
                    "data": {
                        "text/html": "Total execution time: 00:00:00.080"
                    },
                    "metadata": {}
                },
                {
                    "output_type": "execute_result",
                    "metadata": {},
                    "execution_count": 18,
                    "data": {
                        "application/vnd.dataresource+json": {
                            "schema": {
                                "fields": [
                                    {
                                        "name": "empid"
                                    },
                                    {
                                        "name": "firstname"
                                    },
                                    {
                                        "name": "lastname"
                                    },
                                    {
                                        "name": "city"
                                    },
                                    {
                                        "name": "birthmonth"
                                    }
                                ]
                            },
                            "data": [
                                {
                                    "empid": "2",
                                    "firstname": "Don",
                                    "lastname": "Funk",
                                    "city": "Tacoma",
                                    "birthmonth": "2"
                                },
                                {
                                    "empid": "1",
                                    "firstname": "Sara",
                                    "lastname": "Davis",
                                    "city": "Seattle",
                                    "birthmonth": "12"
                                },
                                {
                                    "empid": "8",
                                    "firstname": "Maria",
                                    "lastname": "Cameron",
                                    "city": "Seattle",
                                    "birthmonth": "1"
                                },
                                {
                                    "empid": "4",
                                    "firstname": "Yael",
                                    "lastname": "Peled",
                                    "city": "Redmond",
                                    "birthmonth": "9"
                                },
                                {
                                    "empid": "3",
                                    "firstname": "Judy",
                                    "lastname": "Lew",
                                    "city": "Kirkland",
                                    "birthmonth": "8"
                                }
                            ]
                        },
                        "text/html": [
                            "<table>",
                            "<tr><th>empid</th><th>firstname</th><th>lastname</th><th>city</th><th>birthmonth</th></tr>",
                            "<tr><td>2</td><td>Don</td><td>Funk</td><td>Tacoma</td><td>2</td></tr>",
                            "<tr><td>1</td><td>Sara</td><td>Davis</td><td>Seattle</td><td>12</td></tr>",
                            "<tr><td>8</td><td>Maria</td><td>Cameron</td><td>Seattle</td><td>1</td></tr>",
                            "<tr><td>4</td><td>Yael</td><td>Peled</td><td>Redmond</td><td>9</td></tr>",
                            "<tr><td>3</td><td>Judy</td><td>Lew</td><td>Kirkland</td><td>8</td></tr>",
                            "</table>"
                        ]
                    }
                }
            ],
            "execution_count": 18
        },
        {
            "cell_type": "code",
            "source": [
                "\n",
                "-- order by multiple columns\n",
                "SELECT empid, firstname, lastname, city, MONTH(birthdate) AS birthmonth\n",
                "FROM HR.Employees\n",
                "WHERE country = N'USA' AND region = N'WA'\n",
                "ORDER BY city, empid;"
            ],
            "metadata": {
                "azdata_cell_guid": "cac7b979-1452-4360-9c41-ddcd3b261669",
                "language": "sql"
            },
            "outputs": [
                {
                    "output_type": "display_data",
                    "data": {
                        "text/html": "(5 rows affected)"
                    },
                    "metadata": {}
                },
                {
                    "output_type": "display_data",
                    "data": {
                        "text/html": "Total execution time: 00:00:00.047"
                    },
                    "metadata": {}
                },
                {
                    "output_type": "execute_result",
                    "metadata": {},
                    "execution_count": 19,
                    "data": {
                        "application/vnd.dataresource+json": {
                            "schema": {
                                "fields": [
                                    {
                                        "name": "empid"
                                    },
                                    {
                                        "name": "firstname"
                                    },
                                    {
                                        "name": "lastname"
                                    },
                                    {
                                        "name": "city"
                                    },
                                    {
                                        "name": "birthmonth"
                                    }
                                ]
                            },
                            "data": [
                                {
                                    "empid": "3",
                                    "firstname": "Judy",
                                    "lastname": "Lew",
                                    "city": "Kirkland",
                                    "birthmonth": "8"
                                },
                                {
                                    "empid": "4",
                                    "firstname": "Yael",
                                    "lastname": "Peled",
                                    "city": "Redmond",
                                    "birthmonth": "9"
                                },
                                {
                                    "empid": "1",
                                    "firstname": "Sara",
                                    "lastname": "Davis",
                                    "city": "Seattle",
                                    "birthmonth": "12"
                                },
                                {
                                    "empid": "8",
                                    "firstname": "Maria",
                                    "lastname": "Cameron",
                                    "city": "Seattle",
                                    "birthmonth": "1"
                                },
                                {
                                    "empid": "2",
                                    "firstname": "Don",
                                    "lastname": "Funk",
                                    "city": "Tacoma",
                                    "birthmonth": "2"
                                }
                            ]
                        },
                        "text/html": [
                            "<table>",
                            "<tr><th>empid</th><th>firstname</th><th>lastname</th><th>city</th><th>birthmonth</th></tr>",
                            "<tr><td>3</td><td>Judy</td><td>Lew</td><td>Kirkland</td><td>8</td></tr>",
                            "<tr><td>4</td><td>Yael</td><td>Peled</td><td>Redmond</td><td>9</td></tr>",
                            "<tr><td>1</td><td>Sara</td><td>Davis</td><td>Seattle</td><td>12</td></tr>",
                            "<tr><td>8</td><td>Maria</td><td>Cameron</td><td>Seattle</td><td>1</td></tr>",
                            "<tr><td>2</td><td>Don</td><td>Funk</td><td>Tacoma</td><td>2</td></tr>",
                            "</table>"
                        ]
                    }
                }
            ],
            "execution_count": 19
        },
        {
            "cell_type": "code",
            "source": [
                "\n",
                "-- order by ordinals (bad practice)\n",
                "SELECT empid, firstname, lastname, city, MONTH(birthdate) AS birthmonth\n",
                "FROM HR.Employees\n",
                "WHERE country = N'USA' AND region = N'WA'\n",
                "ORDER BY 4, 1;"
            ],
            "metadata": {
                "azdata_cell_guid": "8624eb1f-eeb2-4b12-9e1c-679eda9d6e9c",
                "language": "sql"
            },
            "outputs": [],
            "execution_count": null
        },
        {
            "cell_type": "code",
            "source": [
                "\n",
                "-- change SELECT list but forget to change ordinals in ORDER BY\n",
                "SELECT empid, city, firstname, lastname, MONTH(birthdate) AS birthmonth\n",
                "FROM HR.Employees\n",
                "WHERE country = N'USA' AND region = N'WA'\n",
                "ORDER BY 4, 1;--بر اساس ستون چهارم و اول سورت کن"
            ],
            "metadata": {
                "azdata_cell_guid": "95245aef-87d4-4dbf-893e-ba1a8ae61ef5",
                "language": "sql"
            },
            "outputs": [
                {
                    "output_type": "display_data",
                    "data": {
                        "text/html": "(5 rows affected)"
                    },
                    "metadata": {}
                },
                {
                    "output_type": "display_data",
                    "data": {
                        "text/html": "Total execution time: 00:00:00.054"
                    },
                    "metadata": {}
                },
                {
                    "output_type": "execute_result",
                    "metadata": {},
                    "execution_count": 20,
                    "data": {
                        "application/vnd.dataresource+json": {
                            "schema": {
                                "fields": [
                                    {
                                        "name": "empid"
                                    },
                                    {
                                        "name": "city"
                                    },
                                    {
                                        "name": "firstname"
                                    },
                                    {
                                        "name": "lastname"
                                    },
                                    {
                                        "name": "birthmonth"
                                    }
                                ]
                            },
                            "data": [
                                {
                                    "empid": "8",
                                    "city": "Seattle",
                                    "firstname": "Maria",
                                    "lastname": "Cameron",
                                    "birthmonth": "1"
                                },
                                {
                                    "empid": "1",
                                    "city": "Seattle",
                                    "firstname": "Sara",
                                    "lastname": "Davis",
                                    "birthmonth": "12"
                                },
                                {
                                    "empid": "2",
                                    "city": "Tacoma",
                                    "firstname": "Don",
                                    "lastname": "Funk",
                                    "birthmonth": "2"
                                },
                                {
                                    "empid": "3",
                                    "city": "Kirkland",
                                    "firstname": "Judy",
                                    "lastname": "Lew",
                                    "birthmonth": "8"
                                },
                                {
                                    "empid": "4",
                                    "city": "Redmond",
                                    "firstname": "Yael",
                                    "lastname": "Peled",
                                    "birthmonth": "9"
                                }
                            ]
                        },
                        "text/html": [
                            "<table>",
                            "<tr><th>empid</th><th>city</th><th>firstname</th><th>lastname</th><th>birthmonth</th></tr>",
                            "<tr><td>8</td><td>Seattle</td><td>Maria</td><td>Cameron</td><td>1</td></tr>",
                            "<tr><td>1</td><td>Seattle</td><td>Sara</td><td>Davis</td><td>12</td></tr>",
                            "<tr><td>2</td><td>Tacoma</td><td>Don</td><td>Funk</td><td>2</td></tr>",
                            "<tr><td>3</td><td>Kirkland</td><td>Judy</td><td>Lew</td><td>8</td></tr>",
                            "<tr><td>4</td><td>Redmond</td><td>Yael</td><td>Peled</td><td>9</td></tr>",
                            "</table>"
                        ]
                    }
                }
            ],
            "execution_count": 20
        },
        {
            "cell_type": "code",
            "source": [
                "\n",
                "-- order by elements not in SELECT\n",
                "SELECT empid, city\n",
                "FROM HR.Employees\n",
                "WHERE country = N'USA' AND region = N'WA'\n",
                "ORDER BY birthdate;"
            ],
            "metadata": {
                "azdata_cell_guid": "ce096f84-6576-4e8b-b613-3272b14b8238",
                "language": "sql"
            },
            "outputs": [
                {
                    "output_type": "display_data",
                    "data": {
                        "text/html": "(5 rows affected)"
                    },
                    "metadata": {}
                },
                {
                    "output_type": "display_data",
                    "data": {
                        "text/html": "Total execution time: 00:00:00.057"
                    },
                    "metadata": {}
                },
                {
                    "output_type": "execute_result",
                    "metadata": {},
                    "execution_count": 21,
                    "data": {
                        "application/vnd.dataresource+json": {
                            "schema": {
                                "fields": [
                                    {
                                        "name": "empid"
                                    },
                                    {
                                        "name": "city"
                                    }
                                ]
                            },
                            "data": [
                                {
                                    "empid": "4",
                                    "city": "Redmond"
                                },
                                {
                                    "empid": "1",
                                    "city": "Seattle"
                                },
                                {
                                    "empid": "2",
                                    "city": "Tacoma"
                                },
                                {
                                    "empid": "8",
                                    "city": "Seattle"
                                },
                                {
                                    "empid": "3",
                                    "city": "Kirkland"
                                }
                            ]
                        },
                        "text/html": [
                            "<table>",
                            "<tr><th>empid</th><th>city</th></tr>",
                            "<tr><td>4</td><td>Redmond</td></tr>",
                            "<tr><td>1</td><td>Seattle</td></tr>",
                            "<tr><td>2</td><td>Tacoma</td></tr>",
                            "<tr><td>8</td><td>Seattle</td></tr>",
                            "<tr><td>3</td><td>Kirkland</td></tr>",
                            "</table>"
                        ]
                    }
                }
            ],
            "execution_count": 21
        },
        {
            "cell_type": "code",
            "source": [
                "-- following fails\n",
                "SELECT DISTINCT city\n",
                "FROM HR.Employees\n",
                "WHERE country = N'USA' AND region = N'WA'\n",
                "ORDER BY birthdate;"
            ],
            "metadata": {
                "azdata_cell_guid": "d099b7b7-ef46-46c3-90fe-97b5f821e58d",
                "language": "sql",
                "tags": []
            },
            "outputs": [],
            "execution_count": null
        },
        {
            "cell_type": "code",
            "source": [
                "-- following succeeds\n",
                "SELECT DISTINCT city\n",
                "FROM HR.Employees\n",
                "WHERE country = N'USA' AND region = N'WA'\n",
                "ORDER BY city;"
            ],
            "metadata": {
                "azdata_cell_guid": "44cfee08-81e0-4dc2-9302-a873054abe28",
                "language": "sql"
            },
            "outputs": [],
            "execution_count": null
        },
        {
            "cell_type": "code",
            "source": [
                "-- can refer to column aliases asigned in SELECT\n",
                "SELECT empid, firstname, lastname, city, MONTH(birthdate) AS birthmonth\n",
                "FROM HR.Employees\n",
                "WHERE country = N'USA' AND region = N'WA'\n",
                "ORDER BY birthmonth;"
            ],
            "metadata": {
                "azdata_cell_guid": "0166b3e6-01f6-4f7f-b433-601e6df84c6d",
                "language": "sql"
            },
            "outputs": [],
            "execution_count": null
        },
        {
            "cell_type": "markdown",
            "source": [
                "## Exercise 4\n",
                "Order emplyeess by the year they are hired, and those hired in the same year should be orderd by their last name."
            ],
            "metadata": {
                "language": "sql",
                "azdata_cell_guid": "4535087e-feeb-4d58-ae5c-8977a3f0419d"
            },
            "attachments": {}
        },
        {
            "cell_type": "code",
            "source": [
                "-- NULLs sort first\n",
                "SELECT orderid, shippeddate\n",
                "FROM Sales.Orders\n",
                "WHERE custid = 20\n",
                "ORDER BY shippeddate;"
            ],
            "metadata": {
                "azdata_cell_guid": "371d1216-3043-400c-bc2e-0a080a965611",
                "language": "sql"
            },
            "outputs": [
                {
                    "output_type": "display_data",
                    "data": {
                        "text/html": "(30 rows affected)"
                    },
                    "metadata": {}
                },
                {
                    "output_type": "display_data",
                    "data": {
                        "text/html": "Total execution time: 00:00:00.056"
                    },
                    "metadata": {}
                },
                {
                    "output_type": "execute_result",
                    "metadata": {},
                    "execution_count": 22,
                    "data": {
                        "application/vnd.dataresource+json": {
                            "schema": {
                                "fields": [
                                    {
                                        "name": "orderid"
                                    },
                                    {
                                        "name": "shippeddate"
                                    }
                                ]
                            },
                            "data": [
                                {
                                    "orderid": "11008",
                                    "shippeddate": "NULL"
                                },
                                {
                                    "orderid": "11072",
                                    "shippeddate": "NULL"
                                },
                                {
                                    "orderid": "10258",
                                    "shippeddate": "1385-05-01 00:00:00.000"
                                },
                                {
                                    "orderid": "10263",
                                    "shippeddate": "1385-05-09 00:00:00.000"
                                },
                                {
                                    "orderid": "10351",
                                    "shippeddate": "1385-08-29 00:00:00.000"
                                },
                                {
                                    "orderid": "10368",
                                    "shippeddate": "1385-09-11 00:00:00.000"
                                },
                                {
                                    "orderid": "10382",
                                    "shippeddate": "1385-09-25 00:00:00.000"
                                },
                                {
                                    "orderid": "10390",
                                    "shippeddate": "1385-10-05 00:00:00.000"
                                },
                                {
                                    "orderid": "10403",
                                    "shippeddate": "1385-10-19 00:00:00.000"
                                },
                                {
                                    "orderid": "10402",
                                    "shippeddate": "1385-10-20 00:00:00.000"
                                },
                                {
                                    "orderid": "10430",
                                    "shippeddate": "1385-11-14 00:00:00.000"
                                },
                                {
                                    "orderid": "10442",
                                    "shippeddate": "1385-11-29 00:00:00.000"
                                },
                                {
                                    "orderid": "10514",
                                    "shippeddate": "1386-02-26 00:00:00.000"
                                },
                                {
                                    "orderid": "10571",
                                    "shippeddate": "1386-04-13 00:00:00.000"
                                },
                                {
                                    "orderid": "10595",
                                    "shippeddate": "1386-04-23 00:00:00.000"
                                },
                                {
                                    "orderid": "10633",
                                    "shippeddate": "1386-05-27 00:00:00.000"
                                },
                                {
                                    "orderid": "10667",
                                    "shippeddate": "1386-06-28 00:00:00.000"
                                },
                                {
                                    "orderid": "10698",
                                    "shippeddate": "1386-07-25 00:00:00.000"
                                },
                                {
                                    "orderid": "10764",
                                    "shippeddate": "1386-09-17 00:00:00.000"
                                },
                                {
                                    "orderid": "10773",
                                    "shippeddate": "1386-09-25 00:00:00.000"
                                },
                                {
                                    "orderid": "10776",
                                    "shippeddate": "1386-09-27 00:00:00.000"
                                },
                                {
                                    "orderid": "10771",
                                    "shippeddate": "1386-10-12 00:00:00.000"
                                },
                                {
                                    "orderid": "10795",
                                    "shippeddate": "1386-10-30 00:00:00.000"
                                },
                                {
                                    "orderid": "10836",
                                    "shippeddate": "1386-11-01 00:00:00.000"
                                },
                                {
                                    "orderid": "10854",
                                    "shippeddate": "1386-11-16 00:00:00.000"
                                },
                                {
                                    "orderid": "10895",
                                    "shippeddate": "1386-12-04 00:00:00.000"
                                },
                                {
                                    "orderid": "10979",
                                    "shippeddate": "1387-01-12 00:00:00.000"
                                },
                                {
                                    "orderid": "10968",
                                    "shippeddate": "1387-01-13 00:00:00.000"
                                },
                                {
                                    "orderid": "10990",
                                    "shippeddate": "1387-01-19 00:00:00.000"
                                },
                                {
                                    "orderid": "11017",
                                    "shippeddate": "1387-02-01 00:00:00.000"
                                }
                            ]
                        },
                        "text/html": [
                            "<table>",
                            "<tr><th>orderid</th><th>shippeddate</th></tr>",
                            "<tr><td>11008</td><td>NULL</td></tr>",
                            "<tr><td>11072</td><td>NULL</td></tr>",
                            "<tr><td>10258</td><td>1385-05-01 00:00:00.000</td></tr>",
                            "<tr><td>10263</td><td>1385-05-09 00:00:00.000</td></tr>",
                            "<tr><td>10351</td><td>1385-08-29 00:00:00.000</td></tr>",
                            "<tr><td>10368</td><td>1385-09-11 00:00:00.000</td></tr>",
                            "<tr><td>10382</td><td>1385-09-25 00:00:00.000</td></tr>",
                            "<tr><td>10390</td><td>1385-10-05 00:00:00.000</td></tr>",
                            "<tr><td>10403</td><td>1385-10-19 00:00:00.000</td></tr>",
                            "<tr><td>10402</td><td>1385-10-20 00:00:00.000</td></tr>",
                            "<tr><td>10430</td><td>1385-11-14 00:00:00.000</td></tr>",
                            "<tr><td>10442</td><td>1385-11-29 00:00:00.000</td></tr>",
                            "<tr><td>10514</td><td>1386-02-26 00:00:00.000</td></tr>",
                            "<tr><td>10571</td><td>1386-04-13 00:00:00.000</td></tr>",
                            "<tr><td>10595</td><td>1386-04-23 00:00:00.000</td></tr>",
                            "<tr><td>10633</td><td>1386-05-27 00:00:00.000</td></tr>",
                            "<tr><td>10667</td><td>1386-06-28 00:00:00.000</td></tr>",
                            "<tr><td>10698</td><td>1386-07-25 00:00:00.000</td></tr>",
                            "<tr><td>10764</td><td>1386-09-17 00:00:00.000</td></tr>",
                            "<tr><td>10773</td><td>1386-09-25 00:00:00.000</td></tr>",
                            "<tr><td>10776</td><td>1386-09-27 00:00:00.000</td></tr>",
                            "<tr><td>10771</td><td>1386-10-12 00:00:00.000</td></tr>",
                            "<tr><td>10795</td><td>1386-10-30 00:00:00.000</td></tr>",
                            "<tr><td>10836</td><td>1386-11-01 00:00:00.000</td></tr>",
                            "<tr><td>10854</td><td>1386-11-16 00:00:00.000</td></tr>",
                            "<tr><td>10895</td><td>1386-12-04 00:00:00.000</td></tr>",
                            "<tr><td>10979</td><td>1387-01-12 00:00:00.000</td></tr>",
                            "<tr><td>10968</td><td>1387-01-13 00:00:00.000</td></tr>",
                            "<tr><td>10990</td><td>1387-01-19 00:00:00.000</td></tr>",
                            "<tr><td>11017</td><td>1387-02-01 00:00:00.000</td></tr>",
                            "</table>"
                        ]
                    }
                }
            ],
            "execution_count": 22
        },
        {
            "cell_type": "markdown",
            "source": [
                "# Filtering Data with TOP"
            ],
            "metadata": {
                "azdata_cell_guid": "af14b497-fe2e-4873-a24b-eab292e7083f"
            },
            "attachments": {}
        },
        {
            "cell_type": "code",
            "source": [
                "-- return the three most recent orders\n",
                "SELECT TOP (3) orderid, orderdate, custid, empid\n",
                "FROM Sales.Orders\n",
                "ORDER BY orderdate DESC;"
            ],
            "metadata": {
                "azdata_cell_guid": "b6db8b9e-7e35-4657-86de-d158b82459f2",
                "language": "sql"
            },
            "outputs": [
                {
                    "output_type": "display_data",
                    "data": {
                        "text/html": "(3 rows affected)"
                    },
                    "metadata": {}
                },
                {
                    "output_type": "display_data",
                    "data": {
                        "text/html": "Total execution time: 00:00:00.095"
                    },
                    "metadata": {}
                },
                {
                    "output_type": "execute_result",
                    "metadata": {},
                    "execution_count": 23,
                    "data": {
                        "application/vnd.dataresource+json": {
                            "schema": {
                                "fields": [
                                    {
                                        "name": "orderid"
                                    },
                                    {
                                        "name": "orderdate"
                                    },
                                    {
                                        "name": "custid"
                                    },
                                    {
                                        "name": "empid"
                                    }
                                ]
                            },
                            "data": [
                                {
                                    "orderid": "11077",
                                    "orderdate": "1387-02-17 00:00:00.000",
                                    "custid": "65",
                                    "empid": "1"
                                },
                                {
                                    "orderid": "11076",
                                    "orderdate": "1387-02-17 00:00:00.000",
                                    "custid": "9",
                                    "empid": "4"
                                },
                                {
                                    "orderid": "11075",
                                    "orderdate": "1387-02-17 00:00:00.000",
                                    "custid": "68",
                                    "empid": "8"
                                }
                            ]
                        },
                        "text/html": [
                            "<table>",
                            "<tr><th>orderid</th><th>orderdate</th><th>custid</th><th>empid</th></tr>",
                            "<tr><td>11077</td><td>1387-02-17 00:00:00.000</td><td>65</td><td>1</td></tr>",
                            "<tr><td>11076</td><td>1387-02-17 00:00:00.000</td><td>9</td><td>4</td></tr>",
                            "<tr><td>11075</td><td>1387-02-17 00:00:00.000</td><td>68</td><td>8</td></tr>",
                            "</table>"
                        ]
                    }
                }
            ],
            "execution_count": 23
        },
        {
            "cell_type": "code",
            "source": [
                "\n",
                "-- can use percent\n",
                "SELECT TOP (1) PERCENT orderid, orderdate, custid, empid\n",
                "FROM Sales.Orders\n",
                "ORDER BY orderdate DESC;"
            ],
            "metadata": {
                "azdata_cell_guid": "955c92d3-a2b3-461a-ad97-16183c538988",
                "language": "sql"
            },
            "outputs": [
                {
                    "output_type": "display_data",
                    "data": {
                        "text/html": "(9 rows affected)"
                    },
                    "metadata": {}
                },
                {
                    "output_type": "display_data",
                    "data": {
                        "text/html": "Total execution time: 00:00:00.050"
                    },
                    "metadata": {}
                },
                {
                    "output_type": "execute_result",
                    "metadata": {},
                    "execution_count": 24,
                    "data": {
                        "application/vnd.dataresource+json": {
                            "schema": {
                                "fields": [
                                    {
                                        "name": "orderid"
                                    },
                                    {
                                        "name": "orderdate"
                                    },
                                    {
                                        "name": "custid"
                                    },
                                    {
                                        "name": "empid"
                                    }
                                ]
                            },
                            "data": [
                                {
                                    "orderid": "11074",
                                    "orderdate": "1387-02-17 00:00:00.000",
                                    "custid": "73",
                                    "empid": "7"
                                },
                                {
                                    "orderid": "11075",
                                    "orderdate": "1387-02-17 00:00:00.000",
                                    "custid": "68",
                                    "empid": "8"
                                },
                                {
                                    "orderid": "11076",
                                    "orderdate": "1387-02-17 00:00:00.000",
                                    "custid": "9",
                                    "empid": "4"
                                },
                                {
                                    "orderid": "11077",
                                    "orderdate": "1387-02-17 00:00:00.000",
                                    "custid": "65",
                                    "empid": "1"
                                },
                                {
                                    "orderid": "11070",
                                    "orderdate": "1387-02-16 00:00:00.000",
                                    "custid": "44",
                                    "empid": "2"
                                },
                                {
                                    "orderid": "11071",
                                    "orderdate": "1387-02-16 00:00:00.000",
                                    "custid": "46",
                                    "empid": "1"
                                },
                                {
                                    "orderid": "11072",
                                    "orderdate": "1387-02-16 00:00:00.000",
                                    "custid": "20",
                                    "empid": "4"
                                },
                                {
                                    "orderid": "11073",
                                    "orderdate": "1387-02-16 00:00:00.000",
                                    "custid": "58",
                                    "empid": "2"
                                },
                                {
                                    "orderid": "11067",
                                    "orderdate": "1387-02-15 00:00:00.000",
                                    "custid": "17",
                                    "empid": "1"
                                }
                            ]
                        },
                        "text/html": [
                            "<table>",
                            "<tr><th>orderid</th><th>orderdate</th><th>custid</th><th>empid</th></tr>",
                            "<tr><td>11074</td><td>1387-02-17 00:00:00.000</td><td>73</td><td>7</td></tr>",
                            "<tr><td>11075</td><td>1387-02-17 00:00:00.000</td><td>68</td><td>8</td></tr>",
                            "<tr><td>11076</td><td>1387-02-17 00:00:00.000</td><td>9</td><td>4</td></tr>",
                            "<tr><td>11077</td><td>1387-02-17 00:00:00.000</td><td>65</td><td>1</td></tr>",
                            "<tr><td>11070</td><td>1387-02-16 00:00:00.000</td><td>44</td><td>2</td></tr>",
                            "<tr><td>11071</td><td>1387-02-16 00:00:00.000</td><td>46</td><td>1</td></tr>",
                            "<tr><td>11072</td><td>1387-02-16 00:00:00.000</td><td>20</td><td>4</td></tr>",
                            "<tr><td>11073</td><td>1387-02-16 00:00:00.000</td><td>58</td><td>2</td></tr>",
                            "<tr><td>11067</td><td>1387-02-15 00:00:00.000</td><td>17</td><td>1</td></tr>",
                            "</table>"
                        ]
                    }
                }
            ],
            "execution_count": 24
        },
        {
            "cell_type": "code",
            "source": [
                "\n",
                "-- can use expression, like parameter or variable, as input\n",
                "DECLARE @n AS BIGINT = 5;\n",
                "\n",
                "SELECT TOP (@n) orderid, orderdate, custid, empid\n",
                "FROM Sales.Orders\n",
                "ORDER BY orderdate DESC;"
            ],
            "metadata": {
                "azdata_cell_guid": "96b40838-aad6-4105-ac6d-cdf95684902e",
                "language": "sql"
            },
            "outputs": [
                {
                    "output_type": "display_data",
                    "data": {
                        "text/html": "(5 rows affected)"
                    },
                    "metadata": {}
                },
                {
                    "output_type": "display_data",
                    "data": {
                        "text/html": "Total execution time: 00:00:00.070"
                    },
                    "metadata": {}
                },
                {
                    "output_type": "execute_result",
                    "metadata": {},
                    "execution_count": 25,
                    "data": {
                        "application/vnd.dataresource+json": {
                            "schema": {
                                "fields": [
                                    {
                                        "name": "orderid"
                                    },
                                    {
                                        "name": "orderdate"
                                    },
                                    {
                                        "name": "custid"
                                    },
                                    {
                                        "name": "empid"
                                    }
                                ]
                            },
                            "data": [
                                {
                                    "orderid": "11074",
                                    "orderdate": "1387-02-17 00:00:00.000",
                                    "custid": "73",
                                    "empid": "7"
                                },
                                {
                                    "orderid": "11075",
                                    "orderdate": "1387-02-17 00:00:00.000",
                                    "custid": "68",
                                    "empid": "8"
                                },
                                {
                                    "orderid": "11076",
                                    "orderdate": "1387-02-17 00:00:00.000",
                                    "custid": "9",
                                    "empid": "4"
                                },
                                {
                                    "orderid": "11077",
                                    "orderdate": "1387-02-17 00:00:00.000",
                                    "custid": "65",
                                    "empid": "1"
                                },
                                {
                                    "orderid": "11070",
                                    "orderdate": "1387-02-16 00:00:00.000",
                                    "custid": "44",
                                    "empid": "2"
                                }
                            ]
                        },
                        "text/html": [
                            "<table>",
                            "<tr><th>orderid</th><th>orderdate</th><th>custid</th><th>empid</th></tr>",
                            "<tr><td>11074</td><td>1387-02-17 00:00:00.000</td><td>73</td><td>7</td></tr>",
                            "<tr><td>11075</td><td>1387-02-17 00:00:00.000</td><td>68</td><td>8</td></tr>",
                            "<tr><td>11076</td><td>1387-02-17 00:00:00.000</td><td>9</td><td>4</td></tr>",
                            "<tr><td>11077</td><td>1387-02-17 00:00:00.000</td><td>65</td><td>1</td></tr>",
                            "<tr><td>11070</td><td>1387-02-16 00:00:00.000</td><td>44</td><td>2</td></tr>",
                            "</table>"
                        ]
                    }
                }
            ],
            "execution_count": 25
        },
        {
            "cell_type": "code",
            "source": [
                "-- no ORDER BY, ordering is arbitrary\n",
                "SELECT TOP (3) orderid, orderdate, custid, empid\n",
                "FROM Sales.Orders;"
            ],
            "metadata": {
                "azdata_cell_guid": "951469e3-bf72-4c58-8c8b-022bf1afbd65",
                "language": "sql"
            },
            "outputs": [],
            "execution_count": null
        },
        {
            "cell_type": "code",
            "source": [
                "\n",
                "-- non-deterministic ordering even with ORDER BY since ordering isn't unique\n",
                "SELECT TOP (3) orderid, orderdate, custid, empid\n",
                "FROM Sales.Orders\n",
                "ORDER BY orderdate DESC;"
            ],
            "metadata": {
                "azdata_cell_guid": "975ffd68-ecac-4def-81ef-403fa21b8efc",
                "language": "sql"
            },
            "outputs": [],
            "execution_count": null
        },
        {
            "cell_type": "code",
            "source": [
                "\n",
                "-- return all ties\n",
                "SELECT TOP (5) WITH TIES orderid, orderdate, custid, empid\n",
                "FROM Sales.Orders\n",
                "ORDER BY orderdate DESC;"
            ],
            "metadata": {
                "azdata_cell_guid": "5a70406b-1d9e-414c-8505-ee1685591c5b",
                "language": "sql"
            },
            "outputs": [
                {
                    "output_type": "display_data",
                    "data": {
                        "text/html": "(8 rows affected)"
                    },
                    "metadata": {}
                },
                {
                    "output_type": "display_data",
                    "data": {
                        "text/html": "Total execution time: 00:00:00.094"
                    },
                    "metadata": {}
                },
                {
                    "output_type": "execute_result",
                    "metadata": {},
                    "execution_count": 27,
                    "data": {
                        "application/vnd.dataresource+json": {
                            "schema": {
                                "fields": [
                                    {
                                        "name": "orderid"
                                    },
                                    {
                                        "name": "orderdate"
                                    },
                                    {
                                        "name": "custid"
                                    },
                                    {
                                        "name": "empid"
                                    }
                                ]
                            },
                            "data": [
                                {
                                    "orderid": "11077",
                                    "orderdate": "1387-02-17 00:00:00.000",
                                    "custid": "65",
                                    "empid": "1"
                                },
                                {
                                    "orderid": "11076",
                                    "orderdate": "1387-02-17 00:00:00.000",
                                    "custid": "9",
                                    "empid": "4"
                                },
                                {
                                    "orderid": "11075",
                                    "orderdate": "1387-02-17 00:00:00.000",
                                    "custid": "68",
                                    "empid": "8"
                                },
                                {
                                    "orderid": "11074",
                                    "orderdate": "1387-02-17 00:00:00.000",
                                    "custid": "73",
                                    "empid": "7"
                                },
                                {
                                    "orderid": "11073",
                                    "orderdate": "1387-02-16 00:00:00.000",
                                    "custid": "58",
                                    "empid": "2"
                                },
                                {
                                    "orderid": "11072",
                                    "orderdate": "1387-02-16 00:00:00.000",
                                    "custid": "20",
                                    "empid": "4"
                                },
                                {
                                    "orderid": "11071",
                                    "orderdate": "1387-02-16 00:00:00.000",
                                    "custid": "46",
                                    "empid": "1"
                                },
                                {
                                    "orderid": "11070",
                                    "orderdate": "1387-02-16 00:00:00.000",
                                    "custid": "44",
                                    "empid": "2"
                                }
                            ]
                        },
                        "text/html": [
                            "<table>",
                            "<tr><th>orderid</th><th>orderdate</th><th>custid</th><th>empid</th></tr>",
                            "<tr><td>11077</td><td>1387-02-17 00:00:00.000</td><td>65</td><td>1</td></tr>",
                            "<tr><td>11076</td><td>1387-02-17 00:00:00.000</td><td>9</td><td>4</td></tr>",
                            "<tr><td>11075</td><td>1387-02-17 00:00:00.000</td><td>68</td><td>8</td></tr>",
                            "<tr><td>11074</td><td>1387-02-17 00:00:00.000</td><td>73</td><td>7</td></tr>",
                            "<tr><td>11073</td><td>1387-02-16 00:00:00.000</td><td>58</td><td>2</td></tr>",
                            "<tr><td>11072</td><td>1387-02-16 00:00:00.000</td><td>20</td><td>4</td></tr>",
                            "<tr><td>11071</td><td>1387-02-16 00:00:00.000</td><td>46</td><td>1</td></tr>",
                            "<tr><td>11070</td><td>1387-02-16 00:00:00.000</td><td>44</td><td>2</td></tr>",
                            "</table>"
                        ]
                    }
                }
            ],
            "execution_count": 27
        },
        {
            "cell_type": "code",
            "source": [
                "\n",
                "-- break ties\n",
                "SELECT TOP (3) orderid, orderdate, custid, empid\n",
                "FROM Sales.Orders\n",
                "ORDER BY orderdate DESC, orderid DESC;"
            ],
            "metadata": {
                "azdata_cell_guid": "b5204497-43ed-4e62-9341-94aeb6d2f6b0",
                "language": "sql"
            },
            "outputs": [],
            "execution_count": null
        },
        {
            "cell_type": "markdown",
            "source": [
                "## Exercise 5\n",
                "- Get the last 2 hired employees. \n",
                "- Get the last 2 hired employees considering only the year of hiring, with ties."
            ],
            "metadata": {
                "language": "sql",
                "azdata_cell_guid": "a98d6f2b-08ec-4ee8-8898-712c05e3964d"
            },
            "attachments": {}
        }
    ]
}