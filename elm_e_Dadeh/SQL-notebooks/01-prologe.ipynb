{
    "metadata": {
        "kernelspec": {
            "name": "SQL",
            "display_name": "SQL",
            "language": "sql"
        },
        "language_info": {
            "name": "sql",
            "version": ""
        }
    },
    "nbformat_minor": 2,
    "nbformat": 4,
    "cells": [
        {
            "cell_type": "code",
            "source": [
                "USE TSQL2012;"
            ],
            "metadata": {
                "azdata_cell_guid": "4985a4d1-d149-4714-a70f-73970a947283",
                "language": "sql"
            },
            "outputs": [
                {
                    "output_type": "display_data",
                    "data": {
                        "text/html": "Commands completed successfully."
                    },
                    "metadata": {}
                },
                {
                    "output_type": "display_data",
                    "data": {
                        "text/html": "Total execution time: 00:00:00.059"
                    },
                    "metadata": {}
                }
            ],
            "execution_count": 15
        },
        {
            "cell_type": "markdown",
            "source": [
                "## SELECT statements"
            ],
            "metadata": {
                "azdata_cell_guid": "ea4b52d1-142d-4b55-b79f-69bb84f8defa",
                "language": "sql"
            },
            "attachments": {}
        },
        {
            "cell_type": "code",
            "source": [
                "-- 1: * will return all columns \n",
                "-- 2: xx.yy is for full qualified name (FQDN)\n",
                "SELECT * FROM HR.Employees;"
            ],
            "metadata": {
                "azdata_cell_guid": "3e6f2012-cccd-4ad5-b331-a9bba4401fb1",
                "language": "sql"
            },
            "outputs": [
                {
                    "output_type": "display_data",
                    "data": {
                        "text/html": "(9 rows affected)"
                    },
                    "metadata": {}
                },
                {
                    "output_type": "display_data",
                    "data": {
                        "text/html": "Total execution time: 00:00:00.053"
                    },
                    "metadata": {}
                },
                {
                    "output_type": "execute_result",
                    "metadata": {},
                    "execution_count": 16,
                    "data": {
                        "application/vnd.dataresource+json": {
                            "schema": {
                                "fields": [
                                    {
                                        "name": "empid"
                                    },
                                    {
                                        "name": "lastname"
                                    },
                                    {
                                        "name": "firstname"
                                    },
                                    {
                                        "name": "title"
                                    },
                                    {
                                        "name": "titleofcourtesy"
                                    },
                                    {
                                        "name": "birthdate"
                                    },
                                    {
                                        "name": "hiredate"
                                    },
                                    {
                                        "name": "address"
                                    },
                                    {
                                        "name": "city"
                                    },
                                    {
                                        "name": "region"
                                    },
                                    {
                                        "name": "postalcode"
                                    },
                                    {
                                        "name": "country"
                                    },
                                    {
                                        "name": "phone"
                                    },
                                    {
                                        "name": "mgrid"
                                    }
                                ]
                            },
                            "data": [
                                {
                                    "empid": "1",
                                    "lastname": "Davis",
                                    "firstname": "Sara",
                                    "title": "CEO",
                                    "titleofcourtesy": "Ms.",
                                    "birthdate": "1337-09-17 00:00:00.000",
                                    "hiredate": "1381-02-11 00:00:00.000",
                                    "address": "7890 - 20th Ave. E., Apt. 2A",
                                    "city": "Seattle",
                                    "region": "WA",
                                    "postalcode": "10003",
                                    "country": "USA",
                                    "phone": "(206) 555-0101",
                                    "mgrid": "NULL"
                                },
                                {
                                    "empid": "2",
                                    "lastname": "Funk",
                                    "firstname": "Don",
                                    "title": "Vice President, Sales",
                                    "titleofcourtesy": "Dr.",
                                    "birthdate": "1340-11-30 00:00:00.000",
                                    "hiredate": "1381-05-23 00:00:00.000",
                                    "address": "9012 W. Capital Way",
                                    "city": "Tacoma",
                                    "region": "WA",
                                    "postalcode": "10001",
                                    "country": "USA",
                                    "phone": "(206) 555-0100",
                                    "mgrid": "1"
                                },
                                {
                                    "empid": "3",
                                    "lastname": "Lew",
                                    "firstname": "Judy",
                                    "title": "Sales Manager",
                                    "titleofcourtesy": "Ms.",
                                    "birthdate": "1352-06-08 00:00:00.000",
                                    "hiredate": "1381-01-12 00:00:00.000",
                                    "address": "2345 Moss Bay Blvd.",
                                    "city": "Kirkland",
                                    "region": "WA",
                                    "postalcode": "10007",
                                    "country": "USA",
                                    "phone": "(206) 555-0103",
                                    "mgrid": "2"
                                },
                                {
                                    "empid": "4",
                                    "lastname": "Peled",
                                    "firstname": "Yael",
                                    "title": "Sales Representative",
                                    "titleofcourtesy": "Mrs.",
                                    "birthdate": "1326-06-27 00:00:00.000",
                                    "hiredate": "1382-02-13 00:00:00.000",
                                    "address": "5678 Old Redmond Rd.",
                                    "city": "Redmond",
                                    "region": "WA",
                                    "postalcode": "10009",
                                    "country": "USA",
                                    "phone": "(206) 555-0104",
                                    "mgrid": "3"
                                },
                                {
                                    "empid": "5",
                                    "lastname": "Buck",
                                    "firstname": "Sven",
                                    "title": "Sales Manager",
                                    "titleofcourtesy": "Mr.",
                                    "birthdate": "1343-12-13 00:00:00.000",
                                    "hiredate": "1382-07-25 00:00:00.000",
                                    "address": "8901 Garrett Hill",
                                    "city": "London",
                                    "region": "NULL",
                                    "postalcode": "10004",
                                    "country": "UK",
                                    "phone": "(71) 234-5678",
                                    "mgrid": "2"
                                },
                                {
                                    "empid": "6",
                                    "lastname": "Suurs",
                                    "firstname": "Paul",
                                    "title": "Sales Representative",
                                    "titleofcourtesy": "Mr.",
                                    "birthdate": "1352-04-11 00:00:00.000",
                                    "hiredate": "1382-07-25 00:00:00.000",
                                    "address": "3456 Coventry House, Miner Rd.",
                                    "city": "London",
                                    "region": "NULL",
                                    "postalcode": "10005",
                                    "country": "UK",
                                    "phone": "(71) 345-6789",
                                    "mgrid": "5"
                                },
                                {
                                    "empid": "7",
                                    "lastname": "King",
                                    "firstname": "Russell",
                                    "title": "Sales Representative",
                                    "titleofcourtesy": "Mr.",
                                    "birthdate": "1349-03-08 00:00:00.000",
                                    "hiredate": "1382-10-12 00:00:00.000",
                                    "address": "6789 Edgeham Hollow, Winchester Way",
                                    "city": "London",
                                    "region": "NULL",
                                    "postalcode": "10002",
                                    "country": "UK",
                                    "phone": "(71) 123-4567",
                                    "mgrid": "5"
                                },
                                {
                                    "empid": "8",
                                    "lastname": "Cameron",
                                    "firstname": "Maria",
                                    "title": "Sales Representative",
                                    "titleofcourtesy": "Ms.",
                                    "birthdate": "1346-10-19 00:00:00.000",
                                    "hiredate": "1382-12-15 00:00:00.000",
                                    "address": "4567 - 11th Ave. N.E.",
                                    "city": "Seattle",
                                    "region": "WA",
                                    "postalcode": "10006",
                                    "country": "USA",
                                    "phone": "(206) 555-0102",
                                    "mgrid": "3"
                                },
                                {
                                    "empid": "9",
                                    "lastname": "Dolgopyatova",
                                    "firstname": "Zoya",
                                    "title": "Sales Representative",
                                    "titleofcourtesy": "Ms.",
                                    "birthdate": "1354-11-07 00:00:00.000",
                                    "hiredate": "1383-08-25 00:00:00.000",
                                    "address": "1234 Houndstooth Rd.",
                                    "city": "London",
                                    "region": "NULL",
                                    "postalcode": "10008",
                                    "country": "UK",
                                    "phone": "(71) 456-7890",
                                    "mgrid": "5"
                                }
                            ]
                        },
                        "text/html": [
                            "<table>",
                            "<tr><th>empid</th><th>lastname</th><th>firstname</th><th>title</th><th>titleofcourtesy</th><th>birthdate</th><th>hiredate</th><th>address</th><th>city</th><th>region</th><th>postalcode</th><th>country</th><th>phone</th><th>mgrid</th></tr>",
                            "<tr><td>1</td><td>Davis</td><td>Sara</td><td>CEO</td><td>Ms.</td><td>1337-09-17 00:00:00.000</td><td>1381-02-11 00:00:00.000</td><td>7890 - 20th Ave. E., Apt. 2A</td><td>Seattle</td><td>WA</td><td>10003</td><td>USA</td><td>(206) 555-0101</td><td>NULL</td></tr>",
                            "<tr><td>2</td><td>Funk</td><td>Don</td><td>Vice President, Sales</td><td>Dr.</td><td>1340-11-30 00:00:00.000</td><td>1381-05-23 00:00:00.000</td><td>9012 W. Capital Way</td><td>Tacoma</td><td>WA</td><td>10001</td><td>USA</td><td>(206) 555-0100</td><td>1</td></tr>",
                            "<tr><td>3</td><td>Lew</td><td>Judy</td><td>Sales Manager</td><td>Ms.</td><td>1352-06-08 00:00:00.000</td><td>1381-01-12 00:00:00.000</td><td>2345 Moss Bay Blvd.</td><td>Kirkland</td><td>WA</td><td>10007</td><td>USA</td><td>(206) 555-0103</td><td>2</td></tr>",
                            "<tr><td>4</td><td>Peled</td><td>Yael</td><td>Sales Representative</td><td>Mrs.</td><td>1326-06-27 00:00:00.000</td><td>1382-02-13 00:00:00.000</td><td>5678 Old Redmond Rd.</td><td>Redmond</td><td>WA</td><td>10009</td><td>USA</td><td>(206) 555-0104</td><td>3</td></tr>",
                            "<tr><td>5</td><td>Buck</td><td>Sven</td><td>Sales Manager</td><td>Mr.</td><td>1343-12-13 00:00:00.000</td><td>1382-07-25 00:00:00.000</td><td>8901 Garrett Hill</td><td>London</td><td>NULL</td><td>10004</td><td>UK</td><td>(71) 234-5678</td><td>2</td></tr>",
                            "<tr><td>6</td><td>Suurs</td><td>Paul</td><td>Sales Representative</td><td>Mr.</td><td>1352-04-11 00:00:00.000</td><td>1382-07-25 00:00:00.000</td><td>3456 Coventry House, Miner Rd.</td><td>London</td><td>NULL</td><td>10005</td><td>UK</td><td>(71) 345-6789</td><td>5</td></tr>",
                            "<tr><td>7</td><td>King</td><td>Russell</td><td>Sales Representative</td><td>Mr.</td><td>1349-03-08 00:00:00.000</td><td>1382-10-12 00:00:00.000</td><td>6789 Edgeham Hollow, Winchester Way</td><td>London</td><td>NULL</td><td>10002</td><td>UK</td><td>(71) 123-4567</td><td>5</td></tr>",
                            "<tr><td>8</td><td>Cameron</td><td>Maria</td><td>Sales Representative</td><td>Ms.</td><td>1346-10-19 00:00:00.000</td><td>1382-12-15 00:00:00.000</td><td>4567 - 11th Ave. N.E.</td><td>Seattle</td><td>WA</td><td>10006</td><td>USA</td><td>(206) 555-0102</td><td>3</td></tr>",
                            "<tr><td>9</td><td>Dolgopyatova</td><td>Zoya</td><td>Sales Representative</td><td>Ms.</td><td>1354-11-07 00:00:00.000</td><td>1383-08-25 00:00:00.000</td><td>1234 Houndstooth Rd.</td><td>London</td><td>NULL</td><td>10008</td><td>UK</td><td>(71) 456-7890</td><td>5</td></tr>",
                            "</table>"
                        ]
                    }
                }
            ],
            "execution_count": 16
        },
        {
            "cell_type": "code",
            "source": [
                "-- select a subset of columns\n",
                "SELECT firstname FROM HR.Employees;"
            ],
            "metadata": {
                "azdata_cell_guid": "93feae52-e123-4c7d-9fbc-d2b6f496e5c6",
                "language": "sql"
            },
            "outputs": [
                {
                    "output_type": "display_data",
                    "data": {
                        "text/html": "(9 rows affected)"
                    },
                    "metadata": {}
                },
                {
                    "output_type": "display_data",
                    "data": {
                        "text/html": "Total execution time: 00:00:00.077"
                    },
                    "metadata": {}
                },
                {
                    "output_type": "execute_result",
                    "metadata": {},
                    "execution_count": 17,
                    "data": {
                        "application/vnd.dataresource+json": {
                            "schema": {
                                "fields": [
                                    {
                                        "name": "firstname"
                                    }
                                ]
                            },
                            "data": [
                                {
                                    "firstname": "Sara"
                                },
                                {
                                    "firstname": "Don"
                                },
                                {
                                    "firstname": "Judy"
                                },
                                {
                                    "firstname": "Yael"
                                },
                                {
                                    "firstname": "Sven"
                                },
                                {
                                    "firstname": "Paul"
                                },
                                {
                                    "firstname": "Russell"
                                },
                                {
                                    "firstname": "Maria"
                                },
                                {
                                    "firstname": "Zoya"
                                }
                            ]
                        },
                        "text/html": [
                            "<table>",
                            "<tr><th>firstname</th></tr>",
                            "<tr><td>Sara</td></tr>",
                            "<tr><td>Don</td></tr>",
                            "<tr><td>Judy</td></tr>",
                            "<tr><td>Yael</td></tr>",
                            "<tr><td>Sven</td></tr>",
                            "<tr><td>Paul</td></tr>",
                            "<tr><td>Russell</td></tr>",
                            "<tr><td>Maria</td></tr>",
                            "<tr><td>Zoya</td></tr>",
                            "</table>"
                        ]
                    }
                }
            ],
            "execution_count": 17
        },
        {
            "cell_type": "code",
            "source": [
                "-- removing duplicates with DISTINCT\n",
                "SELECT DISTINCT country FROM HR.Employees"
            ],
            "metadata": {
                "azdata_cell_guid": "377b3f9c-4c5c-4971-8acc-32932bf0876d",
                "language": "sql",
                "tags": []
            },
            "outputs": [
                {
                    "output_type": "display_data",
                    "data": {
                        "text/html": "(2 rows affected)"
                    },
                    "metadata": {}
                },
                {
                    "output_type": "display_data",
                    "data": {
                        "text/html": "Total execution time: 00:00:00.384"
                    },
                    "metadata": {}
                },
                {
                    "output_type": "execute_result",
                    "metadata": {},
                    "execution_count": 4,
                    "data": {
                        "application/vnd.dataresource+json": {
                            "schema": {
                                "fields": [
                                    {
                                        "name": "country"
                                    }
                                ]
                            },
                            "data": [
                                {
                                    "country": "UK"
                                },
                                {
                                    "country": "USA"
                                }
                            ]
                        },
                        "text/html": [
                            "<table>",
                            "<tr><th>country</th></tr>",
                            "<tr><td>UK</td></tr>",
                            "<tr><td>USA</td></tr>",
                            "</table>"
                        ]
                    }
                }
            ],
            "execution_count": 4
        },
        {
            "cell_type": "code",
            "source": [
                "-- assigning a table alias\n",
                "SELECT E.empid, firstname, lastname\n",
                "FROM HR.Employees AS E;"
            ],
            "metadata": {
                "azdata_cell_guid": "b9b72f60-8370-433a-96b4-0ee47534dd40",
                "language": "sql"
            },
            "outputs": [
                {
                    "output_type": "display_data",
                    "data": {
                        "text/html": "(9 rows affected)"
                    },
                    "metadata": {}
                },
                {
                    "output_type": "display_data",
                    "data": {
                        "text/html": "Total execution time: 00:00:00.050"
                    },
                    "metadata": {}
                },
                {
                    "output_type": "execute_result",
                    "metadata": {},
                    "execution_count": 5,
                    "data": {
                        "application/vnd.dataresource+json": {
                            "schema": {
                                "fields": [
                                    {
                                        "name": "empid"
                                    },
                                    {
                                        "name": "firstname"
                                    },
                                    {
                                        "name": "lastname"
                                    }
                                ]
                            },
                            "data": [
                                {
                                    "empid": "1",
                                    "firstname": "Sara",
                                    "lastname": "Davis"
                                },
                                {
                                    "empid": "2",
                                    "firstname": "Don",
                                    "lastname": "Funk"
                                },
                                {
                                    "empid": "3",
                                    "firstname": "Judy",
                                    "lastname": "Lew"
                                },
                                {
                                    "empid": "4",
                                    "firstname": "Yael",
                                    "lastname": "Peled"
                                },
                                {
                                    "empid": "5",
                                    "firstname": "Sven",
                                    "lastname": "Buck"
                                },
                                {
                                    "empid": "6",
                                    "firstname": "Paul",
                                    "lastname": "Suurs"
                                },
                                {
                                    "empid": "7",
                                    "firstname": "Russell",
                                    "lastname": "King"
                                },
                                {
                                    "empid": "8",
                                    "firstname": "Maria",
                                    "lastname": "Cameron"
                                },
                                {
                                    "empid": "9",
                                    "firstname": "Zoya",
                                    "lastname": "Dolgopyatova"
                                }
                            ]
                        },
                        "text/html": [
                            "<table>",
                            "<tr><th>empid</th><th>firstname</th><th>lastname</th></tr>",
                            "<tr><td>1</td><td>Sara</td><td>Davis</td></tr>",
                            "<tr><td>2</td><td>Don</td><td>Funk</td></tr>",
                            "<tr><td>3</td><td>Judy</td><td>Lew</td></tr>",
                            "<tr><td>4</td><td>Yael</td><td>Peled</td></tr>",
                            "<tr><td>5</td><td>Sven</td><td>Buck</td></tr>",
                            "<tr><td>6</td><td>Paul</td><td>Suurs</td></tr>",
                            "<tr><td>7</td><td>Russell</td><td>King</td></tr>",
                            "<tr><td>8</td><td>Maria</td><td>Cameron</td></tr>",
                            "<tr><td>9</td><td>Zoya</td><td>Dolgopyatova</td></tr>",
                            "</table>"
                        ]
                    }
                }
            ],
            "execution_count": 5
        },
        {
            "cell_type": "code",
            "source": [
                "-- sorting by column value\n",
                "SELECT empid, lastname\n",
                "FROM HR.Employees\n",
                "ORDER BY lastname\n",
                ";\n",
                "\n",
                "\n",
                "-- SELECT empid, lastname\n",
                "-- FROM HR.Employees\n",
                "-- ORDER BY 1;"
            ],
            "metadata": {
                "azdata_cell_guid": "a360a5b2-4179-488e-8dbf-c2ac3f51aa87",
                "language": "sql",
                "tags": []
            },
            "outputs": [
                {
                    "output_type": "display_data",
                    "data": {
                        "text/html": "(9 rows affected)"
                    },
                    "metadata": {}
                },
                {
                    "output_type": "display_data",
                    "data": {
                        "text/html": "Total execution time: 00:00:00.060"
                    },
                    "metadata": {}
                },
                {
                    "output_type": "execute_result",
                    "metadata": {},
                    "execution_count": 7,
                    "data": {
                        "application/vnd.dataresource+json": {
                            "schema": {
                                "fields": [
                                    {
                                        "name": "empid"
                                    },
                                    {
                                        "name": "lastname"
                                    }
                                ]
                            },
                            "data": [
                                {
                                    "empid": "5",
                                    "lastname": "Buck"
                                },
                                {
                                    "empid": "8",
                                    "lastname": "Cameron"
                                },
                                {
                                    "empid": "1",
                                    "lastname": "Davis"
                                },
                                {
                                    "empid": "9",
                                    "lastname": "Dolgopyatova"
                                },
                                {
                                    "empid": "2",
                                    "lastname": "Funk"
                                },
                                {
                                    "empid": "7",
                                    "lastname": "King"
                                },
                                {
                                    "empid": "3",
                                    "lastname": "Lew"
                                },
                                {
                                    "empid": "4",
                                    "lastname": "Peled"
                                },
                                {
                                    "empid": "6",
                                    "lastname": "Suurs"
                                }
                            ]
                        },
                        "text/html": [
                            "<table>",
                            "<tr><th>empid</th><th>lastname</th></tr>",
                            "<tr><td>5</td><td>Buck</td></tr>",
                            "<tr><td>8</td><td>Cameron</td></tr>",
                            "<tr><td>1</td><td>Davis</td></tr>",
                            "<tr><td>9</td><td>Dolgopyatova</td></tr>",
                            "<tr><td>2</td><td>Funk</td></tr>",
                            "<tr><td>7</td><td>King</td></tr>",
                            "<tr><td>3</td><td>Lew</td></tr>",
                            "<tr><td>4</td><td>Peled</td></tr>",
                            "<tr><td>6</td><td>Suurs</td></tr>",
                            "</table>"
                        ]
                    }
                }
            ],
            "execution_count": 7
        },
        {
            "cell_type": "code",
            "source": [
                "-- aliasing for renaming\n",
                "SELECT empid, firstname + ' ' + lastname AS fullname\n",
                "FROM HR.Employees;"
            ],
            "metadata": {
                "azdata_cell_guid": "38396195-8e2b-4f62-9093-2085ee2e4e3f",
                "language": "sql",
                "tags": []
            },
            "outputs": [
                {
                    "output_type": "display_data",
                    "data": {
                        "text/html": "(9 rows affected)"
                    },
                    "metadata": {}
                },
                {
                    "output_type": "display_data",
                    "data": {
                        "text/html": "Total execution time: 00:00:00.047"
                    },
                    "metadata": {}
                },
                {
                    "output_type": "execute_result",
                    "metadata": {},
                    "execution_count": 11,
                    "data": {
                        "application/vnd.dataresource+json": {
                            "schema": {
                                "fields": [
                                    {
                                        "name": "empid"
                                    },
                                    {
                                        "name": "fullname"
                                    }
                                ]
                            },
                            "data": [
                                {
                                    "empid": "1",
                                    "fullname": "Sara Davis"
                                },
                                {
                                    "empid": "2",
                                    "fullname": "Don Funk"
                                },
                                {
                                    "empid": "3",
                                    "fullname": "Judy Lew"
                                },
                                {
                                    "empid": "4",
                                    "fullname": "Yael Peled"
                                },
                                {
                                    "empid": "5",
                                    "fullname": "Sven Buck"
                                },
                                {
                                    "empid": "6",
                                    "fullname": "Paul Suurs"
                                },
                                {
                                    "empid": "7",
                                    "fullname": "Russell King"
                                },
                                {
                                    "empid": "8",
                                    "fullname": "Maria Cameron"
                                },
                                {
                                    "empid": "9",
                                    "fullname": "Zoya Dolgopyatova"
                                }
                            ]
                        },
                        "text/html": [
                            "<table>",
                            "<tr><th>empid</th><th>fullname</th></tr>",
                            "<tr><td>1</td><td>Sara Davis</td></tr>",
                            "<tr><td>2</td><td>Don Funk</td></tr>",
                            "<tr><td>3</td><td>Judy Lew</td></tr>",
                            "<tr><td>4</td><td>Yael Peled</td></tr>",
                            "<tr><td>5</td><td>Sven Buck</td></tr>",
                            "<tr><td>6</td><td>Paul Suurs</td></tr>",
                            "<tr><td>7</td><td>Russell King</td></tr>",
                            "<tr><td>8</td><td>Maria Cameron</td></tr>",
                            "<tr><td>9</td><td>Zoya Dolgopyatova</td></tr>",
                            "</table>"
                        ]
                    }
                }
            ],
            "execution_count": 11
        },
        {
            "cell_type": "code",
            "source": [
                "-- SELECT without FROM\n",
                "SELECT 10 AS col1, 'ABC' AS col2;"
            ],
            "metadata": {
                "azdata_cell_guid": "a556d98b-1816-49c4-914f-26a41bc979e3",
                "language": "sql",
                "tags": []
            },
            "outputs": [
                {
                    "output_type": "display_data",
                    "data": {
                        "text/html": "(1 row affected)"
                    },
                    "metadata": {}
                },
                {
                    "output_type": "display_data",
                    "data": {
                        "text/html": "Total execution time: 00:00:00.069"
                    },
                    "metadata": {}
                },
                {
                    "output_type": "execute_result",
                    "metadata": {},
                    "execution_count": 12,
                    "data": {
                        "application/vnd.dataresource+json": {
                            "schema": {
                                "fields": [
                                    {
                                        "name": "col1"
                                    },
                                    {
                                        "name": "col2"
                                    }
                                ]
                            },
                            "data": [
                                {
                                    "col1": "10",
                                    "col2": "ABC"
                                }
                            ]
                        },
                        "text/html": [
                            "<table>",
                            "<tr><th>col1</th><th>col2</th></tr>",
                            "<tr><td>10</td><td>ABC</td></tr>",
                            "</table>"
                        ]
                    }
                }
            ],
            "execution_count": 12
        },
        {
            "cell_type": "code",
            "source": [
                "-- SELECT with filters\n",
                "SELECT country, YEAR(hiredate) AS yearhired\n",
                "FROM HR.Employees\n",
                "WHERE hiredate >= '20030101';"
            ],
            "metadata": {
                "azdata_cell_guid": "dfa994e5-9f26-4b00-8519-519d47ca1385",
                "language": "sql"
            },
            "outputs": [
                {
                    "output_type": "display_data",
                    "data": {
                        "text/html": "(6 rows affected)"
                    },
                    "metadata": {}
                },
                {
                    "output_type": "display_data",
                    "data": {
                        "text/html": "Total execution time: 00:00:00.052"
                    },
                    "metadata": {}
                },
                {
                    "output_type": "execute_result",
                    "metadata": {},
                    "execution_count": 13,
                    "data": {
                        "application/vnd.dataresource+json": {
                            "schema": {
                                "fields": [
                                    {
                                        "name": "country"
                                    },
                                    {
                                        "name": "yearhired"
                                    }
                                ]
                            },
                            "data": [
                                {
                                    "country": "USA",
                                    "yearhired": "2003"
                                },
                                {
                                    "country": "UK",
                                    "yearhired": "2003"
                                },
                                {
                                    "country": "UK",
                                    "yearhired": "2003"
                                },
                                {
                                    "country": "UK",
                                    "yearhired": "2004"
                                },
                                {
                                    "country": "USA",
                                    "yearhired": "2004"
                                },
                                {
                                    "country": "UK",
                                    "yearhired": "2004"
                                }
                            ]
                        },
                        "text/html": [
                            "<table>",
                            "<tr><th>country</th><th>yearhired</th></tr>",
                            "<tr><td>USA</td><td>2003</td></tr>",
                            "<tr><td>UK</td><td>2003</td></tr>",
                            "<tr><td>UK</td><td>2003</td></tr>",
                            "<tr><td>UK</td><td>2004</td></tr>",
                            "<tr><td>USA</td><td>2004</td></tr>",
                            "<tr><td>UK</td><td>2004</td></tr>",
                            "</table>"
                        ]
                    }
                }
            ],
            "execution_count": 13
        },
        {
            "cell_type": "code",
            "source": [
                "-- Combine two or more selects into one result set (with same structure), Also UNION ALL\n",
                "SELECT lastname, 'Male' AS Gender FROM HR.Employees where titleofcourtesy = 'Mr.'\n",
                "UNION --گرفتن اجتماع بین دو مجموعه\n",
                "SELECT lastname, 'Female' AS Gender FROM HR.Employees where titleofcourtesy = 'Mrs.' OR titleofcourtesy = 'Ms.';"
            ],
            "metadata": {
                "azdata_cell_guid": "369b1907-ebeb-4850-bdc7-d2594b06cfc5",
                "language": "sql",
                "tags": []
            },
            "outputs": [
                {
                    "output_type": "display_data",
                    "data": {
                        "text/html": "(8 rows affected)"
                    },
                    "metadata": {}
                },
                {
                    "output_type": "display_data",
                    "data": {
                        "text/html": "Total execution time: 00:00:00.099"
                    },
                    "metadata": {}
                },
                {
                    "output_type": "execute_result",
                    "metadata": {},
                    "execution_count": 21,
                    "data": {
                        "application/vnd.dataresource+json": {
                            "schema": {
                                "fields": [
                                    {
                                        "name": "lastname"
                                    },
                                    {
                                        "name": "Gender"
                                    }
                                ]
                            },
                            "data": [
                                {
                                    "lastname": "Buck",
                                    "Gender": "Male"
                                },
                                {
                                    "lastname": "King",
                                    "Gender": "Male"
                                },
                                {
                                    "lastname": "Suurs",
                                    "Gender": "Male"
                                },
                                {
                                    "lastname": "Cameron",
                                    "Gender": "Female"
                                },
                                {
                                    "lastname": "Davis",
                                    "Gender": "Female"
                                },
                                {
                                    "lastname": "Dolgopyatova",
                                    "Gender": "Female"
                                },
                                {
                                    "lastname": "Lew",
                                    "Gender": "Female"
                                },
                                {
                                    "lastname": "Peled",
                                    "Gender": "Female"
                                }
                            ]
                        },
                        "text/html": [
                            "<table>",
                            "<tr><th>lastname</th><th>Gender</th></tr>",
                            "<tr><td>Buck</td><td>Male</td></tr>",
                            "<tr><td>King</td><td>Male</td></tr>",
                            "<tr><td>Suurs</td><td>Male</td></tr>",
                            "<tr><td>Cameron</td><td>Female</td></tr>",
                            "<tr><td>Davis</td><td>Female</td></tr>",
                            "<tr><td>Dolgopyatova</td><td>Female</td></tr>",
                            "<tr><td>Lew</td><td>Female</td></tr>",
                            "<tr><td>Peled</td><td>Female</td></tr>",
                            "</table>"
                        ]
                    }
                }
            ],
            "execution_count": 21
        }
    ]
}