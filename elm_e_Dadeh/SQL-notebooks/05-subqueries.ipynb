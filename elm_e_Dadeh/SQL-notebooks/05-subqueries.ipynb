{
    "metadata": {
        "kernelspec": {
            "name": "SQL",
            "display_name": "SQL",
            "language": "sql"
        },
        "language_info": {
            "name": "sql",
            "version": ""
        }
    },
    "nbformat_minor": 2,
    "nbformat": 4,
    "cells": [
        {
            "cell_type": "code",
            "source": [
                "USE TSQL2012;"
            ],
            "metadata": {
                "azdata_cell_guid": "b53e646e-7740-432c-ab92-ad56ae6123f8",
                "language": "sql"
            },
            "outputs": [],
            "execution_count": null
        },
        {
            "cell_type": "markdown",
            "source": [
                "# Non-correlated Subqueries\n",
                "\n",
                "When the internal query can run independent of the outer query."
            ],
            "metadata": {
                "azdata_cell_guid": "25125d6d-78bd-48af-a2ff-296b1e398f61"
            },
            "attachments": {}
        },
        {
            "cell_type": "code",
            "source": [
                "-- scalar subqueries\n",
                "-- products with a minimum price\n",
                "SELECT productid, productname, unitprice\n",
                "FROM Production.Products\n",
                "WHERE unitprice =\n",
                "  (SELECT MIN(unitprice)\n",
                "   FROM Production.Products);"
            ],
            "metadata": {
                "azdata_cell_guid": "bd84efb4-bdc6-41a9-ac06-193d577a2dc7",
                "language": "sql"
            },
            "outputs": [],
            "execution_count": null
        },
        {
            "cell_type": "code",
            "source": [
                "-- multi-valued subqieries\n",
                "-- products supplied by suppliers from Japan\n",
                "SELECT productid, productname, unitprice\n",
                "FROM Production.Products\n",
                "WHERE supplierid IN\n",
                "  (SELECT supplierid\n",
                "   FROM Production.Suppliers\n",
                "   WHERE country = N'Japan');"
            ],
            "metadata": {
                "azdata_cell_guid": "c055079a-eebc-45b7-a962-2b31d27eddcd",
                "language": "sql"
            },
            "outputs": [],
            "execution_count": null
        },
        {
            "cell_type": "markdown",
            "source": [
                "# Correlated Subqueries\n",
                "When the internal query can NOT run independent of the outer query."
            ],
            "metadata": {
                "language": "sql",
                "azdata_cell_guid": "e39646f6-27a1-4553-a193-9f5b8d732fca"
            },
            "attachments": {}
        },
        {
            "cell_type": "code",
            "source": [
                "-- products with minimum unitprice per each category\n",
                "-- Logic: at each iteration the min price of the each catergory from the above query is computed.\n",
                "SELECT categoryid, productid, productname, unitprice\n",
                "FROM Production.Products AS P1\n",
                "WHERE unitprice =\n",
                "  (SELECT MIN(unitprice)\n",
                "   FROM Production.Products AS P2\n",
                "   WHERE P2.categoryid = P1.categoryid);"
            ],
            "metadata": {
                "azdata_cell_guid": "e12b6b10-9516-4500-b27d-2f7e294e5751",
                "language": "sql"
            },
            "outputs": [],
            "execution_count": null
        },
        {
            "cell_type": "markdown",
            "source": [
                "## Exercise 1\n",
                "Get all customers who has placed an order on February 12, 2007. (Use `Sales.Customers` and `Sales.Orders` tables)\n",
                "\n",
                "Hint: Use `WHERE EXISTS` instead of `WHERE`.\n",
                "```\n",
                "SELECT custid, contactname\n",
                "FROM Sales.Customers AS C\n",
                "WHERE EXISTS (\n",
                "    SELECT *\n",
                "   FROM Sales.Orders ...\n",
                ")\n",
                "```"
            ],
            "metadata": {
                "language": "sql",
                "azdata_cell_guid": "ddca9910-0411-40ff-9bca-bfa0fc2ef736"
            },
            "attachments": {}
        },
        {
            "cell_type": "markdown",
            "source": [
                "## Exercise 2\n",
                "\n",
                "Get all customers who has NOT placed an order on February 12, 2007. Can you guess how to modify query of above exercise?"
            ],
            "metadata": {
                "language": "sql",
                "azdata_cell_guid": "e988a2ca-4e79-40e9-906d-f91979abb93f"
            },
            "attachments": {}
        },
        {
            "cell_type": "markdown",
            "source": [
                "# Partition by"
            ],
            "metadata": {
                "azdata_cell_guid": "4a10ac46-1344-4601-b4ad-016357115300"
            },
            "attachments": {}
        },
        {
            "cell_type": "code",
            "source": [
                "-- row numbers for products\n",
                "-- partitioned by categoryid, ordered by unitprice, productid\n",
                "SELECT\n",
                "  ROW_NUMBER() OVER(PARTITION BY categoryid\n",
                "                    ORDER BY unitprice, productid) AS rownum,\n",
                "  categoryid, productid, productname, unitprice\n",
                "FROM Production.Products;"
            ],
            "metadata": {
                "azdata_cell_guid": "248cd660-1b46-4c28-99b7-35110b4f717c",
                "language": "sql"
            },
            "outputs": [],
            "execution_count": null
        },
        {
            "cell_type": "markdown",
            "source": [
                "## Exercise 3\n",
                "Use the above query to two products with lowest prices per each category."
            ],
            "metadata": {
                "language": "sql",
                "azdata_cell_guid": "3c72ba43-e9ea-4761-b7ac-c1a494290868"
            },
            "attachments": {}
        },
        {
            "cell_type": "markdown",
            "source": [
                "# Derived Tables: WITH clause"
            ],
            "metadata": {
                "language": "sql",
                "azdata_cell_guid": "5dc687ee-5165-4c9d-8628-b6e61c29f960"
            },
            "attachments": {}
        },
        {
            "cell_type": "code",
            "source": [
                "-- two products with lowest prices per category\n",
                "WITH C AS\n",
                "(\n",
                "  SELECT\n",
                "    ROW_NUMBER() OVER(PARTITION BY categoryid\n",
                "                      ORDER BY unitprice, productid) AS rownum,\n",
                "    categoryid, productid, productname, unitprice\n",
                "  FROM Production.Products\n",
                ")\n",
                "SELECT categoryid, productid, productname, unitprice\n",
                "FROM C\n",
                "WHERE rownum <= 2;"
            ],
            "metadata": {
                "azdata_cell_guid": "d227cb7a-4fc3-49a1-a793-d4f6b580739a",
                "language": "sql"
            },
            "outputs": [],
            "execution_count": null
        },
        {
            "cell_type": "markdown",
            "source": [
                "# Bonus: Recursive CTE"
            ],
            "metadata": {
                "language": "sql",
                "azdata_cell_guid": "594e75c1-be58-4d00-8867-53447fae23a2"
            },
            "attachments": {}
        },
        {
            "cell_type": "code",
            "source": [
                "-- For further studies\n",
                "-- Recursive CTE\n",
                "-- management chain leading to given employee\n",
                "WITH EmpsCTE AS\n",
                "(\n",
                "  SELECT empid, mgrid, firstname, lastname, 0 AS distance\n",
                "  FROM HR.Employees\n",
                "  WHERE empid = 9\n",
                "\n",
                "  UNION ALL\n",
                "\n",
                "  SELECT M.empid, M.mgrid, M.firstname, M.lastname, S.distance + 1 AS distance\n",
                "  FROM EmpsCTE AS S\n",
                "    JOIN HR.Employees AS M\n",
                "      ON S.mgrid = M.empid\n",
                ")\n",
                "SELECT empid, mgrid, firstname, lastname, distance\n",
                "FROM EmpsCTE;"
            ],
            "metadata": {
                "azdata_cell_guid": "8ae60af7-13f5-40e0-9d6c-b1efabd4e870",
                "language": "sql",
                "tags": []
            },
            "outputs": [],
            "execution_count": null
        }
    ]
}