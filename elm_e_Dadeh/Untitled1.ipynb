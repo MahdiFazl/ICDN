{
 "cells": [
  {
   "cell_type": "code",
   "execution_count": 3,
   "id": "9814f8ad",
   "metadata": {},
   "outputs": [],
   "source": [
    "from bs4 import BeautifulSoup"
   ]
  },
  {
   "cell_type": "code",
   "execution_count": 5,
   "id": "e93536ee",
   "metadata": {},
   "outputs": [],
   "source": [
    "html=\"\"\"\n",
    "<html>\n",
    "    <head>\n",
    "        <title>Test</title>\n",
    "    </head>\n",
    "    <body>\n",
    "        <h1>This is a test</h1>\n",
    "        <p>This is a paragraph</p>\n",
    "        <div style=\"background-color: #000;color:#fff\">\n",
    "            <h2>Start of division</h2>\n",
    "            <p>Another paragraph inside of div</p>\n",
    "        </div>\n",
    "    </body>\n",
    "</html>\n",
    "\"\"\""
   ]
  },
  {
   "cell_type": "code",
   "execution_count": 6,
   "id": "83e03466",
   "metadata": {},
   "outputs": [],
   "source": [
    "soup = BeautifulSoup(html)"
   ]
  },
  {
   "cell_type": "code",
   "execution_count": 7,
   "id": "1bb77aa9",
   "metadata": {},
   "outputs": [
    {
     "data": {
      "text/plain": [
       "'Start of division'"
      ]
     },
     "execution_count": 7,
     "metadata": {},
     "output_type": "execute_result"
    }
   ],
   "source": [
    "soup.div.h2.text"
   ]
  }
 ],
 "metadata": {
  "kernelspec": {
   "display_name": "Python 3 (ipykernel)",
   "language": "python",
   "name": "python3"
  },
  "language_info": {
   "codemirror_mode": {
    "name": "ipython",
    "version": 3
   },
   "file_extension": ".py",
   "mimetype": "text/x-python",
   "name": "python",
   "nbconvert_exporter": "python",
   "pygments_lexer": "ipython3",
   "version": "3.11.3"
  }
 },
 "nbformat": 4,
 "nbformat_minor": 5
}
