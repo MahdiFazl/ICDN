{
 "cells": [
  {
   "cell_type": "code",
   "execution_count": 1,
   "id": "17a42061",
   "metadata": {},
   "outputs": [],
   "source": [
    "from bs4 import BeautifulSoup"
   ]
  },
  {
   "cell_type": "code",
   "execution_count": 20,
   "id": "695d5827",
   "metadata": {},
   "outputs": [],
   "source": [
    "html = \"\"\"\n",
    "<html>\n",
    "    <head>\n",
    "        <title>Test</title>\n",
    "    </head>\n",
    "    <body>\n",
    "        <h1>This is a test</h1>\n",
    "        <p>This is a paragraph</p>\n",
    "        <div style=\"background-color: #000;color:#fff\">\n",
    "            <h2>Start of division</h2>\n",
    "            <p class=\"dummy\">Another paragraph inside of div</p>\n",
    "        </div>\n",
    "    </body>\n",
    "</html>\n",
    "\"\"\""
   ]
  },
  {
   "cell_type": "code",
   "execution_count": 21,
   "id": "4b0a0869",
   "metadata": {},
   "outputs": [],
   "source": [
    "soup = BeautifulSoup(html)"
   ]
  },
  {
   "cell_type": "code",
   "execution_count": 22,
   "id": "63f8cd5c",
   "metadata": {},
   "outputs": [
    {
     "data": {
      "text/plain": [
       "<p class=\"dummy\">Another paragraph inside of div</p>"
      ]
     },
     "execution_count": 22,
     "metadata": {},
     "output_type": "execute_result"
    }
   ],
   "source": [
    "soup.find(\"p\", attrs={'class': 'dummy'})"
   ]
  },
  {
   "cell_type": "code",
   "execution_count": 23,
   "id": "f9d908b0",
   "metadata": {},
   "outputs": [
    {
     "data": {
      "text/plain": [
       "<p class=\"dummy\">Another paragraph inside of div</p>"
      ]
     },
     "execution_count": 23,
     "metadata": {},
     "output_type": "execute_result"
    }
   ],
   "source": [
    "soup.div.p"
   ]
  },
  {
   "cell_type": "code",
   "execution_count": 30,
   "id": "15442fa4",
   "metadata": {},
   "outputs": [
    {
     "data": {
      "text/plain": [
       "<div style=\"background-color: #000;color:#fff\">\n",
       "<h2>Start of division</h2>\n",
       "<p class=\"dummy\">Another paragraph inside of div</p>\n",
       "</div>"
      ]
     },
     "execution_count": 30,
     "metadata": {},
     "output_type": "execute_result"
    }
   ],
   "source": [
    "soup.find_all('p')[1].parent"
   ]
  },
  {
   "cell_type": "code",
   "execution_count": 39,
   "id": "02c8da1c",
   "metadata": {},
   "outputs": [
    {
     "data": {
      "text/plain": [
       "[<h2>Start of division</h2>,\n",
       " <p class=\"dummy\">Another paragraph inside of div</p>]"
      ]
     },
     "execution_count": 39,
     "metadata": {},
     "output_type": "execute_result"
    }
   ],
   "source": [
    "soup.div.findChildren()"
   ]
  },
  {
   "cell_type": "code",
   "execution_count": 44,
   "id": "c075fc56",
   "metadata": {},
   "outputs": [
    {
     "data": {
      "text/plain": [
       "['\\n', <p>This is a paragraph</p>, '\\n', <h1>This is a test</h1>, '\\n']"
      ]
     },
     "execution_count": 44,
     "metadata": {},
     "output_type": "execute_result"
    }
   ],
   "source": [
    "list(soup.div.previous_siblings)"
   ]
  },
  {
   "cell_type": "code",
   "execution_count": 45,
   "id": "d9366e1d",
   "metadata": {},
   "outputs": [],
   "source": [
    "import requests"
   ]
  },
  {
   "cell_type": "code",
   "execution_count": 46,
   "id": "523ca0c2",
   "metadata": {},
   "outputs": [],
   "source": [
    "url = \"https://mashinbank.com/car/jRQcFx5tRq/%D8%AE%D8%B1%DB%8C%D8%AF-%D8%AF%D9%86%D8%A7-%D9%BE%D9%84%D8%A7%D8%B3-%D8%A7%D8%AA%D9%88%D9%85%D8%A7%D8%AA%DB%8C%DA%A9-%D8%AA%D9%88%D8%B1%D8%A8%D9%88-1401\""
   ]
  },
  {
   "cell_type": "code",
   "execution_count": 54,
   "id": "91968f0a",
   "metadata": {},
   "outputs": [],
   "source": [
    "headers = {\n",
    "    'Accept': 'text/html,application/xhtml+xml,application/xml;q=0.9,image/avif,image/webp,image/apng,*/*;q=0.8,application/signed-exchange;v=b3;q=0.7'\n",
    "}"
   ]
  },
  {
   "cell_type": "code",
   "execution_count": 88,
   "id": "77886443",
   "metadata": {},
   "outputs": [],
   "source": [
    "def get_links(url):\n",
    "    r = requests.get(url, headers=headers)\n",
    "    soup = BeautifulSoup(r.text)\n",
    "    return [\"https://mashinbank.com\"+a[\"href\"] for a in soup.find_all('a', {'class': 'cars-item-card'})]"
   ]
  },
  {
   "cell_type": "code",
   "execution_count": 89,
   "id": "898df500",
   "metadata": {},
   "outputs": [],
   "source": [
    "def get_car(url):\n",
    "    response = requests.get(url, headers=headers)\n",
    "    soup = BeautifulSoup(response.text)\n",
    "    return {\n",
    "        'title': soup.h1.text,\n",
    "        'price': soup.find('p', attrs={'class': 'car-price'}).text.split('\\n')[1].strip()\n",
    "    }"
   ]
  },
  {
   "cell_type": "code",
   "execution_count": 91,
   "id": "3a9e23a2",
   "metadata": {},
   "outputs": [],
   "source": [
    "cars = []"
   ]
  },
  {
   "cell_type": "code",
   "execution_count": 94,
   "id": "a73b5cbb",
   "metadata": {},
   "outputs": [],
   "source": [
    "base_url = \"https://mashinbank.com/%D8%AE%D8%B1%DB%8C%D8%AF-%D8%AE%D9%88%D8%AF%D8%B1%D9%88\""
   ]
  },
  {
   "cell_type": "code",
   "execution_count": 92,
   "id": "17481f93",
   "metadata": {},
   "outputs": [
    {
     "name": "stdout",
     "output_type": "stream",
     "text": [
      "https://mashinbank.com/car/Me0hA1TdEF/%D8%AE%D8%B1%DB%8C%D8%AF-%D9%BE%DA%98%D9%88-207-%D8%A7%D8%AA%D9%88%D9%85%D8%A7%D8%AA%DB%8C%DA%A9-%D9%BE%D8%A7%D9%86%D9%88%D8%B1%D8%A7%D9%85%D8%A7-1402\n",
      "https://mashinbank.com/car/gClV7Q14PJ/%D8%AE%D8%B1%DB%8C%D8%AF-%D9%BE%D8%B1%D8%A7%DB%8C%D8%AF-132-%D8%B3%D8%A7%D8%AF%D9%87-1388\n",
      "https://mashinbank.com/car/80W71CX0aR/%D8%AE%D8%B1%DB%8C%D8%AF-%D8%B3%D9%85%D9%86%D8%AF-LX-%D8%B3%D8%A7%D8%AF%D9%87-1400\n",
      "https://mashinbank.com/car/v7gcCovFf1/%D8%AE%D8%B1%DB%8C%D8%AF-%D9%BE%DA%98%D9%88-%D9%BE%D8%A7%D8%B1%D8%B3-LX-1399\n",
      "https://mashinbank.com/car/gX6jiNTgsQ/%D8%AE%D8%B1%DB%8C%D8%AF-%D8%AF%D8%A7%D9%86%DA%AF-%D9%81%D9%86%DA%AF-H30-Cross-1395\n",
      "https://mashinbank.com/car/CMlw2BVNKG/%D8%AE%D8%B1%DB%8C%D8%AF-%D8%B3%D9%85%D9%86%D8%AF-LX-EF7-%D8%AF%D9%88%DA%AF%D8%A7%D9%86%D9%87-%D8%B3%D9%88%D8%B2-1389\n",
      "https://mashinbank.com/car/jRQcFx5tRq/%D8%AE%D8%B1%DB%8C%D8%AF-%D8%AF%D9%86%D8%A7-%D9%BE%D9%84%D8%A7%D8%B3-%D8%A7%D8%AA%D9%88%D9%85%D8%A7%D8%AA%DB%8C%DA%A9-%D8%AA%D9%88%D8%B1%D8%A8%D9%88-1401\n",
      "https://mashinbank.com/car/URdHyuuzln/%D8%AE%D8%B1%DB%8C%D8%AF-%D8%B3%D9%85%D9%86%D8%AF-LX-EF7-%D8%A8%D9%86%D8%B2%DB%8C%D9%86%DB%8C-1397\n",
      "https://mashinbank.com/car/MqPBT70A9I/%D8%AE%D8%B1%DB%8C%D8%AF-%D9%BE%DA%98%D9%88-%D9%BE%D8%A7%D8%B1%D8%B3-%D8%B3%D8%A7%D8%AF%D9%87-1402\n",
      "https://mashinbank.com/car/2IBbcEm5rs/%D8%AE%D8%B1%DB%8C%D8%AF-%D8%AA%DB%8C%D8%A8%D8%A7-%DB%B2%E2%80%8C-(%D9%87%D8%A7%DA%86-%D8%A8%DA%A9)-EX-1397\n",
      "https://mashinbank.com/car/TZMqeEQ1uK/%D8%AE%D8%B1%DB%8C%D8%AF-%D8%B1%D9%86%D9%88-%D8%AF%D8%A7%D8%B3%D8%AA%D8%B1-SE-%D8%AF%D9%88-%D8%AF%DB%8C%D9%81%D8%B1%D8%A7%D9%86%D8%B3%DB%8C%D9%84-2017\n",
      "https://mashinbank.com/car/gidBG2t7qQ/%D8%AE%D8%B1%DB%8C%D8%AF-%D9%BE%DA%98%D9%88-206-%D8%AA%DB%8C%D9%BE-2-1385\n",
      "https://mashinbank.com/car/Szk6DfGQMQ/%D8%AE%D8%B1%DB%8C%D8%AF-%D8%A7%D9%85-%D8%AC%DB%8C-3-2015\n",
      "https://mashinbank.com/car/HQf9Tj17ke/%D8%AE%D8%B1%DB%8C%D8%AF-%D8%AA%D8%A7%D8%B1%D8%A7-%D8%A7%D8%AA%D9%88%D9%85%D8%A7%D8%AA%DB%8C%DA%A9-1402\n",
      "https://mashinbank.com/car/yMmCnTeduZ/%D8%AE%D8%B1%DB%8C%D8%AF-%D9%BE%DA%98%D9%88-405-GLX-%D8%AF%D9%88%DA%AF%D8%A7%D9%86%D9%87-%D8%B3%D9%88%D8%B2-1390\n"
     ]
    }
   ],
   "source": [
    "for i in range(1, 20):\n",
    "    for link in get_links(base_url+\"?page={}\".format(i)):\n",
    "        print(link)\n",
    "        cars.append(get_car(link))"
   ]
  },
  {
   "cell_type": "code",
   "execution_count": 1,
   "id": "ba433e3c",
   "metadata": {},
   "outputs": [
    {
     "ename": "NameError",
     "evalue": "name 'BeautifulSoup' is not defined",
     "output_type": "error",
     "traceback": [
      "\u001b[1;31m---------------------------------------------------------------------------\u001b[0m",
      "\u001b[1;31mNameError\u001b[0m                                 Traceback (most recent call last)",
      "Cell \u001b[1;32mIn[1], line 1\u001b[0m\n\u001b[1;32m----> 1\u001b[0m soup \u001b[38;5;241m=\u001b[39m BeautifulSoup(requests\u001b[38;5;241m.\u001b[39mget(\u001b[38;5;124m\"\u001b[39m\u001b[38;5;124mhttps://torob.com/browse/99/\u001b[39m\u001b[38;5;124m%\u001b[39m\u001b[38;5;124mD9\u001b[39m\u001b[38;5;132;01m%84%\u001b[39;00m\u001b[38;5;124mD9\u001b[39m\u001b[38;5;124m%\u001b[39m\u001b[38;5;124mBE-\u001b[39m\u001b[38;5;124m%\u001b[39m\u001b[38;5;124mD8\u001b[39m\u001b[38;5;124m%\u001b[39m\u001b[38;5;124mAA\u001b[39m\u001b[38;5;124m%\u001b[39m\u001b[38;5;124mD8\u001b[39m\u001b[38;5;124m%\u001b[39m\u001b[38;5;124mA7\u001b[39m\u001b[38;5;124m%\u001b[39m\u001b[38;5;124mD9\u001b[39m\u001b[38;5;124m%\u001b[39m\u001b[38;5;124mBE-\u001b[39m\u001b[38;5;124m%\u001b[39m\u001b[38;5;124mD9\u001b[39m\u001b[38;5;124m%\u001b[39m\u001b[38;5;124m88-\u001b[39m\u001b[38;5;124m%\u001b[39m\u001b[38;5;124mD9\u001b[39m\u001b[38;5;132;01m%86%\u001b[39;00m\u001b[38;5;124mD9\u001b[39m\u001b[38;5;132;01m%88%\u001b[39;00m\u001b[38;5;124mD8\u001b[39m\u001b[38;5;124m%\u001b[39m\u001b[38;5;124mAA-\u001b[39m\u001b[38;5;124m%\u001b[39m\u001b[38;5;124mD8\u001b[39m\u001b[38;5;124m%\u001b[39m\u001b[38;5;124mA8\u001b[39m\u001b[38;5;124m%\u001b[39m\u001b[38;5;124mD9\u001b[39m\u001b[38;5;132;01m%88%\u001b[39;00m\u001b[38;5;124mDA\u001b[39m\u001b[38;5;124m%\u001b[39m\u001b[38;5;124mA9-laptop/\u001b[39m\u001b[38;5;124m\"\u001b[39m)\u001b[38;5;241m.\u001b[39mtext)\n",
      "\u001b[1;31mNameError\u001b[0m: name 'BeautifulSoup' is not defined"
     ]
    }
   ],
   "source": [
    "soup = BeautifulSoup(requests.get(\"https://torob.com/browse/99/%D9%84%D9%BE-%D8%AA%D8%A7%D9%BE-%D9%88-%D9%86%D9%88%D8%AA-%D8%A8%D9%88%DA%A9-laptop/\").text)"
   ]
  },
  {
   "cell_type": "code",
   "execution_count": null,
   "id": "74e4ec2d",
   "metadata": {},
   "outputs": [],
   "source": []
  },
  {
   "cell_type": "code",
   "execution_count": 93,
   "id": "84e66013",
   "metadata": {},
   "outputs": [
    {
     "data": {
      "text/plain": [
       "[{'title': 'خرید پژو 207 اتوماتیک پانوراما 1402', 'price': 'توافقی'},\n",
       " {'title': 'خرید پراید 132 ساده 1388', 'price': '۱۸۰,۰۰۰,۰۰۰'},\n",
       " {'title': 'خرید سمند LX ساده 1400', 'price': '۴۳۰,۰۰۰,۰۰۰'},\n",
       " {'title': 'خرید پژو پارس LX 1399', 'price': '۵۱۵,۰۰۰,۰۰۰'},\n",
       " {'title': 'خرید دانگ فنگ H30 Cross 1395', 'price': 'توافقی'},\n",
       " {'title': 'خرید سمند LX EF7 دوگانه سوز 1389', 'price': '۲۳۰,۰۰۰,۰۰۰'},\n",
       " {'title': 'خرید دنا پلاس اتوماتیک توربو 1401', 'price': '۷۸۰,۰۰۰,۰۰۰'},\n",
       " {'title': 'خرید سمند LX EF7 بنزینی 1397', 'price': '۳۶۵,۰۰۰,۰۰۰'},\n",
       " {'title': 'خرید پژو پارس ساده 1402', 'price': '۵۱۰,۰۰۰,۰۰۰'},\n",
       " {'title': 'خرید تیبا ۲\\u200c (هاچ بک) EX 1397', 'price': '۲۶۷,۰۰۰,۰۰۰'},\n",
       " {'title': 'خرید رنو داستر SE دو دیفرانسیل 2017', 'price': '۱,۴۰۰,۰۰۰,۰۰۰'},\n",
       " {'title': 'خرید پژو 206 تیپ 2 1385', 'price': '۲۰۵,۰۰۰,۰۰۰'},\n",
       " {'title': 'خرید ام جی 3 2015', 'price': '۶۹۰,۰۰۰,۰۰۰'},\n",
       " {'title': 'خرید تارا اتوماتیک 1402', 'price': '۸۱۰,۰۰۰,۰۰۰'},\n",
       " {'title': 'خرید پژو 405 GLX دوگانه سوز 1390', 'price': '۱۸۰,۰۰۰,۰۰۰'}]"
      ]
     },
     "execution_count": 93,
     "metadata": {},
     "output_type": "execute_result"
    }
   ],
   "source": [
    "cars"
   ]
  }
 ],
 "metadata": {
  "kernelspec": {
   "display_name": "Python 3 (ipykernel)",
   "language": "python",
   "name": "python3"
  },
  "language_info": {
   "codemirror_mode": {
    "name": "ipython",
    "version": 3
   },
   "file_extension": ".py",
   "mimetype": "text/x-python",
   "name": "python",
   "nbconvert_exporter": "python",
   "pygments_lexer": "ipython3",
   "version": "3.11.3"
  }
 },
 "nbformat": 4,
 "nbformat_minor": 5
}
